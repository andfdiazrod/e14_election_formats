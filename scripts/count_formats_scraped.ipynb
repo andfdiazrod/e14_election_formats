{
 "cells": [
  {
   "cell_type": "code",
   "execution_count": 1,
   "metadata": {},
   "outputs": [],
   "source": [
    "import os\n",
    "import numpy as np\n",
    "import pandas as pd\n",
    "import re\n",
    "from matplotlib import pyplot as plt\n",
    "import fitz # From PyMuPDF\n",
    "from PIL import Image\n",
    "import cv2\n",
    "import argparse\n",
    "import imutils\n",
    "import sys"
   ]
  },
  {
   "cell_type": "code",
   "execution_count": 2,
   "metadata": {},
   "outputs": [],
   "source": [
    "os.chdir(r'D:\\Dropbox\\Proyectos\\python\\formatos_elecciones')\n",
    "#os.chdir(r'C:\\Users\\gd.orbegozo10\\Dropbox\\Cosas_Programacion\\Python\\python\\formatos_elecciones')"
   ]
  },
  {
   "cell_type": "code",
   "execution_count": 3,
   "metadata": {},
   "outputs": [],
   "source": [
    "pdf_df = pd.DataFrame(columns=['Dep', 'Mun', 'Zona', 'N'])"
   ]
  },
  {
   "cell_type": "code",
   "execution_count": 4,
   "metadata": {},
   "outputs": [],
   "source": [
    "dep_list = os.listdir('formularios_e_14/')"
   ]
  },
  {
   "cell_type": "code",
   "execution_count": 5,
   "metadata": {},
   "outputs": [],
   "source": [
    "for i_d,dep in enumerate(dep_list) :\n",
    "    if (dep != 'pdf_crop' and dep != 'failed') :\n",
    "        mun_list = os.listdir(f'formularios_e_14/{dep}')\n",
    "        for i_m,mun in enumerate(mun_list) :\n",
    "            zona_list =  os.listdir(f'formularios_e_14/{dep}/{mun}')\n",
    "            for i_z,zona in enumerate(zona_list) :\n",
    "                format_list = [x for i,x in \n",
    "                               enumerate(os.listdir(f'formularios_e_14/{dep}/{mun}/{zona}')) \n",
    "                               if '.pdf' in x]\n",
    "                pdf_df = pdf_df.append({'Dep' : dep,\n",
    "                                        'Mun' : mun,\n",
    "                                        'Zona' : zona,\n",
    "                                        'N' : len(format_list)},\n",
    "                                       ignore_index=True)"
   ]
  },
  {
   "cell_type": "code",
   "execution_count": 6,
   "metadata": {},
   "outputs": [
    {
     "data": {
      "text/html": [
       "<div>\n",
       "<style scoped>\n",
       "    .dataframe tbody tr th:only-of-type {\n",
       "        vertical-align: middle;\n",
       "    }\n",
       "\n",
       "    .dataframe tbody tr th {\n",
       "        vertical-align: top;\n",
       "    }\n",
       "\n",
       "    .dataframe thead th {\n",
       "        text-align: right;\n",
       "    }\n",
       "</style>\n",
       "<table border=\"1\" class=\"dataframe\">\n",
       "  <thead>\n",
       "    <tr style=\"text-align: right;\">\n",
       "      <th></th>\n",
       "      <th>N</th>\n",
       "    </tr>\n",
       "    <tr>\n",
       "      <th>Dep</th>\n",
       "      <th></th>\n",
       "    </tr>\n",
       "  </thead>\n",
       "  <tbody>\n",
       "    <tr>\n",
       "      <th>1</th>\n",
       "      <td>12208</td>\n",
       "    </tr>\n",
       "    <tr>\n",
       "      <th>11</th>\n",
       "      <td>2785</td>\n",
       "    </tr>\n",
       "    <tr>\n",
       "      <th>12</th>\n",
       "      <td>2132</td>\n",
       "    </tr>\n",
       "    <tr>\n",
       "      <th>13</th>\n",
       "      <td>3356</td>\n",
       "    </tr>\n",
       "    <tr>\n",
       "      <th>15</th>\n",
       "      <td>5030</td>\n",
       "    </tr>\n",
       "    <tr>\n",
       "      <th>16</th>\n",
       "      <td>14418</td>\n",
       "    </tr>\n",
       "    <tr>\n",
       "      <th>17</th>\n",
       "      <td>1016</td>\n",
       "    </tr>\n",
       "    <tr>\n",
       "      <th>19</th>\n",
       "      <td>2178</td>\n",
       "    </tr>\n",
       "    <tr>\n",
       "      <th>21</th>\n",
       "      <td>2539</td>\n",
       "    </tr>\n",
       "    <tr>\n",
       "      <th>23</th>\n",
       "      <td>3202</td>\n",
       "    </tr>\n",
       "    <tr>\n",
       "      <th>24</th>\n",
       "      <td>2046</td>\n",
       "    </tr>\n",
       "    <tr>\n",
       "      <th>25</th>\n",
       "      <td>3130</td>\n",
       "    </tr>\n",
       "    <tr>\n",
       "      <th>26</th>\n",
       "      <td>1243</td>\n",
       "    </tr>\n",
       "    <tr>\n",
       "      <th>27</th>\n",
       "      <td>4733</td>\n",
       "    </tr>\n",
       "    <tr>\n",
       "      <th>28</th>\n",
       "      <td>1918</td>\n",
       "    </tr>\n",
       "    <tr>\n",
       "      <th>29</th>\n",
       "      <td>2882</td>\n",
       "    </tr>\n",
       "    <tr>\n",
       "      <th>3</th>\n",
       "      <td>4931</td>\n",
       "    </tr>\n",
       "    <tr>\n",
       "      <th>31</th>\n",
       "      <td>9249</td>\n",
       "    </tr>\n",
       "    <tr>\n",
       "      <th>40</th>\n",
       "      <td>513</td>\n",
       "    </tr>\n",
       "    <tr>\n",
       "      <th>44</th>\n",
       "      <td>780</td>\n",
       "    </tr>\n",
       "    <tr>\n",
       "      <th>46</th>\n",
       "      <td>801</td>\n",
       "    </tr>\n",
       "    <tr>\n",
       "      <th>48</th>\n",
       "      <td>1585</td>\n",
       "    </tr>\n",
       "    <tr>\n",
       "      <th>5</th>\n",
       "      <td>4224</td>\n",
       "    </tr>\n",
       "    <tr>\n",
       "      <th>50</th>\n",
       "      <td>81</td>\n",
       "    </tr>\n",
       "    <tr>\n",
       "      <th>52</th>\n",
       "      <td>1928</td>\n",
       "    </tr>\n",
       "    <tr>\n",
       "      <th>54</th>\n",
       "      <td>162</td>\n",
       "    </tr>\n",
       "    <tr>\n",
       "      <th>56</th>\n",
       "      <td>124</td>\n",
       "    </tr>\n",
       "    <tr>\n",
       "      <th>60</th>\n",
       "      <td>130</td>\n",
       "    </tr>\n",
       "    <tr>\n",
       "      <th>64</th>\n",
       "      <td>620</td>\n",
       "    </tr>\n",
       "    <tr>\n",
       "      <th>68</th>\n",
       "      <td>66</td>\n",
       "    </tr>\n",
       "    <tr>\n",
       "      <th>7</th>\n",
       "      <td>2622</td>\n",
       "    </tr>\n",
       "    <tr>\n",
       "      <th>72</th>\n",
       "      <td>144</td>\n",
       "    </tr>\n",
       "    <tr>\n",
       "      <th>88</th>\n",
       "      <td>2396</td>\n",
       "    </tr>\n",
       "    <tr>\n",
       "      <th>9</th>\n",
       "      <td>2121</td>\n",
       "    </tr>\n",
       "  </tbody>\n",
       "</table>\n",
       "</div>"
      ],
      "text/plain": [
       "         N\n",
       "Dep       \n",
       "1    12208\n",
       "11    2785\n",
       "12    2132\n",
       "13    3356\n",
       "15    5030\n",
       "16   14418\n",
       "17    1016\n",
       "19    2178\n",
       "21    2539\n",
       "23    3202\n",
       "24    2046\n",
       "25    3130\n",
       "26    1243\n",
       "27    4733\n",
       "28    1918\n",
       "29    2882\n",
       "3     4931\n",
       "31    9249\n",
       "40     513\n",
       "44     780\n",
       "46     801\n",
       "48    1585\n",
       "5     4224\n",
       "50      81\n",
       "52    1928\n",
       "54     162\n",
       "56     124\n",
       "60     130\n",
       "64     620\n",
       "68      66\n",
       "7     2622\n",
       "72     144\n",
       "88    2396\n",
       "9     2121"
      ]
     },
     "execution_count": 6,
     "metadata": {},
     "output_type": "execute_result"
    }
   ],
   "source": [
    "pdf_df[['Dep','N']].groupby(by=['Dep']).sum()"
   ]
  },
  {
   "cell_type": "code",
   "execution_count": 7,
   "metadata": {},
   "outputs": [
    {
     "data": {
      "text/plain": [
       "97293"
      ]
     },
     "execution_count": 7,
     "metadata": {},
     "output_type": "execute_result"
    }
   ],
   "source": [
    "pdf_df.N.sum()"
   ]
  },
  {
   "cell_type": "code",
   "execution_count": 14,
   "metadata": {},
   "outputs": [],
   "source": [
    "dep = 88\n",
    "i_formato = 1646"
   ]
  },
  {
   "cell_type": "code",
   "execution_count": 15,
   "metadata": {},
   "outputs": [],
   "source": [
    "mun_list = os.listdir(f'formularios_e_14/{dep}')"
   ]
  },
  {
   "cell_type": "code",
   "execution_count": 16,
   "metadata": {},
   "outputs": [],
   "source": [
    "format_list = []\n",
    "for i_m,mun in enumerate(mun_list) :\n",
    "    zona_list =  os.listdir(f'formularios_e_14/{dep}/{mun}')\n",
    "    for i_z,zona in enumerate(zona_list) :\n",
    "        format_list += [x for i,x in \n",
    "                       enumerate(os.listdir(f'formularios_e_14/{dep}/{mun}/{zona}')) \n",
    "                       if '.pdf' in x]"
   ]
  },
  {
   "cell_type": "code",
   "execution_count": 17,
   "metadata": {},
   "outputs": [
    {
     "data": {
      "text/plain": [
       "2396"
      ]
     },
     "execution_count": 17,
     "metadata": {},
     "output_type": "execute_result"
    }
   ],
   "source": [
    "len(format_list)"
   ]
  },
  {
   "cell_type": "code",
   "execution_count": 18,
   "metadata": {},
   "outputs": [
    {
     "data": {
      "text/plain": [
       "'2928216_E14_PRE_X_88_590_005_XX_02_002_X_XXX.pdf'"
      ]
     },
     "execution_count": 18,
     "metadata": {},
     "output_type": "execute_result"
    }
   ],
   "source": [
    "format_list[i_formato]"
   ]
  },
  {
   "cell_type": "code",
   "execution_count": 20,
   "metadata": {},
   "outputs": [
    {
     "data": {
      "text/plain": [
       "['2248310_E14_PRE_X_88_115_005_XX_86_001_X_XXX.pdf',\n",
       " '2865919_E14_PRE_X_88_115_005_XX_82_001_X_XXX.pdf',\n",
       " '3310313_E14_PRE_X_88_115_005_XX_84_001_X_XXX.pdf',\n",
       " '4158317_E14_PRE_X_88_115_005_XX_02_001_X_XXX.pdf',\n",
       " '6804318_E14_PRE_X_88_115_005_XX_83_001_X_XXX.pdf',\n",
       " '6824712_E14_PRE_X_88_115_005_XX_85_001_X_XXX.pdf',\n",
       " '7632814_E14_PRE_X_88_115_005_XX_81_001_X_XXX.pdf',\n",
       " '2721216_E14_PRE_X_88_120_005_XX_82_001_X_XXX.pdf',\n",
       " '2806819_E14_PRE_X_88_120_005_XX_85_001_X_XXX.pdf',\n",
       " '3067513_E14_PRE_X_88_120_005_XX_02_002_X_XXX.pdf']"
      ]
     },
     "execution_count": 20,
     "metadata": {},
     "output_type": "execute_result"
    }
   ],
   "source": [
    "format_list[:10]"
   ]
  }
 ],
 "metadata": {
  "kernelspec": {
   "display_name": "Python 3",
   "language": "python",
   "name": "python3"
  },
  "language_info": {
   "codemirror_mode": {
    "name": "ipython",
    "version": 3
   },
   "file_extension": ".py",
   "mimetype": "text/x-python",
   "name": "python",
   "nbconvert_exporter": "python",
   "pygments_lexer": "ipython3",
   "version": "3.8.3"
  }
 },
 "nbformat": 4,
 "nbformat_minor": 4
}
