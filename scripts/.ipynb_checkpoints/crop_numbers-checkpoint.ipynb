{
 "cells": [
  {
   "cell_type": "code",
   "execution_count": 209,
   "metadata": {},
   "outputs": [],
   "source": [
    "# Para instalar las librerías, solo tiene que ser una vez\n",
    "if False :\n",
    "    !pip install PyMuPDF\n",
    "    !pip install Pillow\n",
    "    !pip install opencv-python\n",
    "    !pip install imutils"
   ]
  },
  {
   "cell_type": "code",
   "execution_count": 5,
   "metadata": {},
   "outputs": [],
   "source": [
    "import os\n",
    "import numpy as np\n",
    "import pandas as pd\n",
    "import re\n",
    "from matplotlib import pyplot as plt\n",
    "import fitz # From PyMuPDF\n",
    "from PIL import Image\n",
    "import cv2\n",
    "import argparse\n",
    "import imutils\n",
    "import sys"
   ]
  },
  {
   "cell_type": "code",
   "execution_count": 6,
   "metadata": {},
   "outputs": [],
   "source": [
    "#os.chdir(r'D:\\Dropbox\\Proyectos\\python\\formatos_elecciones')\n",
    "os.chdir(r'C:\\Users\\gd.orbegozo10\\Dropbox\\Cosas_Programacion\\Python\\python\\formatos_elecciones')"
   ]
  },
  {
   "cell_type": "code",
   "execution_count": 8,
   "metadata": {},
   "outputs": [
    {
     "data": {
      "text/plain": [
       "['2000015_E14_PRE_X_16_001_016_XX_13_030_X_XXX.png',\n",
       " '2000115_E14_PRE_X_15_103_000_XX_00_002_X_XXX.png',\n",
       " '2000210_E14_PRE_X_29_001_007_XX_02_006_X_XXX.png',\n",
       " '2000219_E14_PRE_X_16_001_009_XX_12_004_X_XXX.png',\n",
       " '2000414_E14_PRE_X_31_001_030_XX_01_016_X_XXX.png',\n",
       " '2000417_E14_PRE_X_25_001_007_XX_06_007_X_XXX.png',\n",
       " '2000418_E14_PRE_X_27_071_000_XX_00_013_X_XXX.png',\n",
       " '2000513_E14_PRE_X_01_218_002_XX_02_001_X_XXX.png',\n",
       " '2000514_E14_PRE_X_29_085_000_XX_00_015_X_XXX.png',\n",
       " '2000515_E14_PRE_X_09_130_001_XX_02_012_X_XXX.png']"
      ]
     },
     "execution_count": 8,
     "metadata": {},
     "output_type": "execute_result"
    }
   ],
   "source": [
    "png_dir = 'formularios_e_14/pdf_crop/'\n",
    "png_list = os.listdir(png_dir)\n",
    "png_list[1:11]"
   ]
  },
  {
   "cell_type": "code",
   "execution_count": 9,
   "metadata": {},
   "outputs": [
    {
     "data": {
      "text/plain": [
       "'formularios_e_14/pdf_crop/2000015_E14_PRE_X_16_001_016_XX_13_030_X_XXX.png'"
      ]
     },
     "execution_count": 9,
     "metadata": {},
     "output_type": "execute_result"
    }
   ],
   "source": [
    "png_dir + png_list[1]"
   ]
  },
  {
   "cell_type": "code",
   "execution_count": 14,
   "metadata": {
    "scrolled": true
   },
   "outputs": [
    {
     "data": {
      "text/plain": [
       "(1143, 775, 3)"
      ]
     },
     "execution_count": 14,
     "metadata": {},
     "output_type": "execute_result"
    }
   ],
   "source": [
    "img = cv2.imread(png_dir + png_list[1])\n",
    "img.shape\n",
    "        "
   ]
  },
  {
   "cell_type": "markdown",
   "metadata": {},
   "source": [
    "# Hacemos un loop que itere sobre las imagenes de la carpeta para obtener el número de píxeles horizontal y vertical de todas\n"
   ]
  },
  {
   "cell_type": "code",
   "execution_count": 211,
   "metadata": {},
   "outputs": [],
   "source": [
    "# Defino la función de la barra de progreso\n",
    "def progressBar(value, endvalue, msg='', bar_length=40):\n",
    "    percent = float(value) / endvalue\n",
    "    arrow = '-' * int(round(percent * bar_length)-1) + '>'\n",
    "    spaces = ' ' * (bar_length - len(arrow))\n",
    "\n",
    "    sys.stdout.write(f\"\\rProgreso: [{arrow + spaces}] {int(round(percent * 100))}% ({value} de {endvalue} imagenes)\")\n",
    "    sys.stdout.flush()"
   ]
  },
  {
   "cell_type": "code",
   "execution_count": 212,
   "metadata": {
    "scrolled": false
   },
   "outputs": [
    {
     "name": "stdout",
     "output_type": "stream",
     "text": [
      "Progreso: [--------------------------------------->] 100% (94949 de 94950 imagenes)"
     ]
    }
   ],
   "source": [
    "ancho = []\n",
    "largo = []\n",
    "\n",
    "for i, x in enumerate(png_list):\n",
    "    img = cv2.imread(png_dir + x)\n",
    "    largo.append(img.shape[0])\n",
    "    ancho.append(img.shape[1])\n",
    "    progressBar(i,len(png_list))"
   ]
  },
  {
   "cell_type": "markdown",
   "metadata": {},
   "source": [
    "# Revisar la distribución"
   ]
  },
  {
   "cell_type": "code",
   "execution_count": 213,
   "metadata": {},
   "outputs": [
    {
     "data": {
      "image/png": "[encoded data removed]",
      "text/plain": [
       "<Figure size 432x288 with 1 Axes>"
      ]
     },
     "metadata": {
      "needs_background": "light"
     },
     "output_type": "display_data"
    },
    {
     "data": {
      "text/html": [
       "<div>\n",
       "<style scoped>\n",
       "    .dataframe tbody tr th:only-of-type {\n",
       "        vertical-align: middle;\n",
       "    }\n",
       "\n",
       "    .dataframe tbody tr th {\n",
       "        vertical-align: top;\n",
       "    }\n",
       "\n",
       "    .dataframe thead th {\n",
       "        text-align: right;\n",
       "    }\n",
       "</style>\n",
       "<table border=\"1\" class=\"dataframe\">\n",
       "  <thead>\n",
       "    <tr style=\"text-align: right;\">\n",
       "      <th></th>\n",
       "      <th>0</th>\n",
       "    </tr>\n",
       "  </thead>\n",
       "  <tbody>\n",
       "    <tr>\n",
       "      <td>count</td>\n",
       "      <td>94950.000000</td>\n",
       "    </tr>\n",
       "    <tr>\n",
       "      <td>mean</td>\n",
       "      <td>777.160653</td>\n",
       "    </tr>\n",
       "    <tr>\n",
       "      <td>std</td>\n",
       "      <td>3.177858</td>\n",
       "    </tr>\n",
       "    <tr>\n",
       "      <td>min</td>\n",
       "      <td>672.000000</td>\n",
       "    </tr>\n",
       "    <tr>\n",
       "      <td>25%</td>\n",
       "      <td>776.000000</td>\n",
       "    </tr>\n",
       "    <tr>\n",
       "      <td>50%</td>\n",
       "      <td>777.000000</td>\n",
       "    </tr>\n",
       "    <tr>\n",
       "      <td>75%</td>\n",
       "      <td>778.000000</td>\n",
       "    </tr>\n",
       "    <tr>\n",
       "      <td>max</td>\n",
       "      <td>871.000000</td>\n",
       "    </tr>\n",
       "  </tbody>\n",
       "</table>\n",
       "</div>"
      ],
      "text/plain": [
       "                  0\n",
       "count  94950.000000\n",
       "mean     777.160653\n",
       "std        3.177858\n",
       "min      672.000000\n",
       "25%      776.000000\n",
       "50%      777.000000\n",
       "75%      778.000000\n",
       "max      871.000000"
      ]
     },
     "execution_count": 213,
     "metadata": {},
     "output_type": "execute_result"
    }
   ],
   "source": [
    "plt.hist(ancho)\n",
    "plt.show()\n",
    "df_ancho = pd.DataFrame(ancho)\n",
    "df_ancho.describe()"
   ]
  },
  {
   "cell_type": "code",
   "execution_count": 214,
   "metadata": {
    "scrolled": true
   },
   "outputs": [
    {
     "data": {
      "image/png": "[encoded data removed]",
      "text/plain": [
       "<Figure size 432x288 with 1 Axes>"
      ]
     },
     "metadata": {
      "needs_background": "light"
     },
     "output_type": "display_data"
    },
    {
     "data": {
      "text/html": [
       "<div>\n",
       "<style scoped>\n",
       "    .dataframe tbody tr th:only-of-type {\n",
       "        vertical-align: middle;\n",
       "    }\n",
       "\n",
       "    .dataframe tbody tr th {\n",
       "        vertical-align: top;\n",
       "    }\n",
       "\n",
       "    .dataframe thead th {\n",
       "        text-align: right;\n",
       "    }\n",
       "</style>\n",
       "<table border=\"1\" class=\"dataframe\">\n",
       "  <thead>\n",
       "    <tr style=\"text-align: right;\">\n",
       "      <th></th>\n",
       "      <th>0</th>\n",
       "    </tr>\n",
       "  </thead>\n",
       "  <tbody>\n",
       "    <tr>\n",
       "      <td>count</td>\n",
       "      <td>94950.000000</td>\n",
       "    </tr>\n",
       "    <tr>\n",
       "      <td>mean</td>\n",
       "      <td>1149.393175</td>\n",
       "    </tr>\n",
       "    <tr>\n",
       "      <td>std</td>\n",
       "      <td>7.798674</td>\n",
       "    </tr>\n",
       "    <tr>\n",
       "      <td>min</td>\n",
       "      <td>963.000000</td>\n",
       "    </tr>\n",
       "    <tr>\n",
       "      <td>25%</td>\n",
       "      <td>1147.000000</td>\n",
       "    </tr>\n",
       "    <tr>\n",
       "      <td>50%</td>\n",
       "      <td>1150.000000</td>\n",
       "    </tr>\n",
       "    <tr>\n",
       "      <td>75%</td>\n",
       "      <td>1152.000000</td>\n",
       "    </tr>\n",
       "    <tr>\n",
       "      <td>max</td>\n",
       "      <td>2627.000000</td>\n",
       "    </tr>\n",
       "  </tbody>\n",
       "</table>\n",
       "</div>"
      ],
      "text/plain": [
       "                  0\n",
       "count  94950.000000\n",
       "mean    1149.393175\n",
       "std        7.798674\n",
       "min      963.000000\n",
       "25%     1147.000000\n",
       "50%     1150.000000\n",
       "75%     1152.000000\n",
       "max     2627.000000"
      ]
     },
     "execution_count": 214,
     "metadata": {},
     "output_type": "execute_result"
    }
   ],
   "source": [
    "plt.hist(largo)\n",
    "plt.show()\n",
    "df_largo = pd.DataFrame(largo)\n",
    "df_largo.describe()"
   ]
  },
  {
   "cell_type": "code",
   "execution_count": 57,
   "metadata": {},
   "outputs": [
    {
     "data": {
      "text/html": [
       "<div>\n",
       "<style scoped>\n",
       "    .dataframe tbody tr th:only-of-type {\n",
       "        vertical-align: middle;\n",
       "    }\n",
       "\n",
       "    .dataframe tbody tr th {\n",
       "        vertical-align: top;\n",
       "    }\n",
       "\n",
       "    .dataframe thead th {\n",
       "        text-align: right;\n",
       "    }\n",
       "</style>\n",
       "<table border=\"1\" class=\"dataframe\">\n",
       "  <thead>\n",
       "    <tr style=\"text-align: right;\">\n",
       "      <th></th>\n",
       "      <th>ancho</th>\n",
       "      <th>largo</th>\n",
       "    </tr>\n",
       "  </thead>\n",
       "  <tbody>\n",
       "    <tr>\n",
       "      <td>0</td>\n",
       "      <td>776</td>\n",
       "      <td>1157</td>\n",
       "    </tr>\n",
       "    <tr>\n",
       "      <td>1</td>\n",
       "      <td>775</td>\n",
       "      <td>1143</td>\n",
       "    </tr>\n",
       "    <tr>\n",
       "      <td>2</td>\n",
       "      <td>775</td>\n",
       "      <td>1144</td>\n",
       "    </tr>\n",
       "    <tr>\n",
       "      <td>3</td>\n",
       "      <td>776</td>\n",
       "      <td>1159</td>\n",
       "    </tr>\n",
       "    <tr>\n",
       "      <td>4</td>\n",
       "      <td>777</td>\n",
       "      <td>1149</td>\n",
       "    </tr>\n",
       "    <tr>\n",
       "      <td>...</td>\n",
       "      <td>...</td>\n",
       "      <td>...</td>\n",
       "    </tr>\n",
       "    <tr>\n",
       "      <td>5267</td>\n",
       "      <td>776</td>\n",
       "      <td>1148</td>\n",
       "    </tr>\n",
       "    <tr>\n",
       "      <td>5268</td>\n",
       "      <td>774</td>\n",
       "      <td>1150</td>\n",
       "    </tr>\n",
       "    <tr>\n",
       "      <td>5269</td>\n",
       "      <td>772</td>\n",
       "      <td>1145</td>\n",
       "    </tr>\n",
       "    <tr>\n",
       "      <td>5270</td>\n",
       "      <td>775</td>\n",
       "      <td>1149</td>\n",
       "    </tr>\n",
       "    <tr>\n",
       "      <td>5271</td>\n",
       "      <td>777</td>\n",
       "      <td>1153</td>\n",
       "    </tr>\n",
       "  </tbody>\n",
       "</table>\n",
       "<p>5272 rows × 2 columns</p>\n",
       "</div>"
      ],
      "text/plain": [
       "      ancho  largo\n",
       "0       776   1157\n",
       "1       775   1143\n",
       "2       775   1144\n",
       "3       776   1159\n",
       "4       777   1149\n",
       "...     ...    ...\n",
       "5267    776   1148\n",
       "5268    774   1150\n",
       "5269    772   1145\n",
       "5270    775   1149\n",
       "5271    777   1153\n",
       "\n",
       "[5272 rows x 2 columns]"
      ]
     },
     "execution_count": 57,
     "metadata": {},
     "output_type": "execute_result"
    }
   ],
   "source": [
    "df = pd.DataFrame({\"ancho\":ancho,\"largo\":largo})\n",
    "df"
   ]
  },
  {
   "cell_type": "code",
   "execution_count": 77,
   "metadata": {
    "scrolled": true
   },
   "outputs": [],
   "source": [
    "df[\"perc_25_75_ancho\"] = (df.ancho >= np.percentile(ancho,25)) & (df.ancho <= np.percentile(ancho,75))\n",
    "df[\"perc_25_75_largo\"] = (df.largo >= np.percentile(largo,25)) & (df.largo <= np.percentile(largo,75))\n",
    "df[\"perc_25_75_ambos\"] = (df.perc_25_75_ancho == True) & (df.perc_25_75_largo == True)"
   ]
  },
  {
   "cell_type": "code",
   "execution_count": 78,
   "metadata": {
    "scrolled": false
   },
   "outputs": [
    {
     "data": {
      "text/plain": [
       "True     2960\n",
       "False    2312\n",
       "Name: perc_25_75_ancho, dtype: int64"
      ]
     },
     "execution_count": 78,
     "metadata": {},
     "output_type": "execute_result"
    }
   ],
   "source": [
    "df.perc_25_75_ancho.value_counts()"
   ]
  },
  {
   "cell_type": "code",
   "execution_count": 79,
   "metadata": {
    "scrolled": true
   },
   "outputs": [
    {
     "data": {
      "text/plain": [
       "True     2978\n",
       "False    2294\n",
       "Name: perc_25_75_largo, dtype: int64"
      ]
     },
     "execution_count": 79,
     "metadata": {},
     "output_type": "execute_result"
    }
   ],
   "source": [
    "df.perc_25_75_largo.value_counts()"
   ]
  },
  {
   "cell_type": "code",
   "execution_count": 80,
   "metadata": {},
   "outputs": [
    {
     "data": {
      "text/plain": [
       "False    3489\n",
       "True     1783\n",
       "Name: perc_25_75_ambos, dtype: int64"
      ]
     },
     "execution_count": 80,
     "metadata": {},
     "output_type": "execute_result"
    }
   ],
   "source": [
    "df.perc_25_75_ambos.value_counts()"
   ]
  },
  {
   "cell_type": "code",
   "execution_count": 81,
   "metadata": {},
   "outputs": [
    {
     "data": {
      "text/html": [
       "<div>\n",
       "<style scoped>\n",
       "    .dataframe tbody tr th:only-of-type {\n",
       "        vertical-align: middle;\n",
       "    }\n",
       "\n",
       "    .dataframe tbody tr th {\n",
       "        vertical-align: top;\n",
       "    }\n",
       "\n",
       "    .dataframe thead th {\n",
       "        text-align: right;\n",
       "    }\n",
       "</style>\n",
       "<table border=\"1\" class=\"dataframe\">\n",
       "  <thead>\n",
       "    <tr style=\"text-align: right;\">\n",
       "      <th></th>\n",
       "      <th>ancho</th>\n",
       "      <th>largo</th>\n",
       "      <th>perc_25_75_ancho</th>\n",
       "      <th>perc_25_75_largo</th>\n",
       "      <th>perc_25_75_ambos</th>\n",
       "    </tr>\n",
       "  </thead>\n",
       "  <tbody>\n",
       "    <tr>\n",
       "      <td>0</td>\n",
       "      <td>776</td>\n",
       "      <td>1157</td>\n",
       "      <td>True</td>\n",
       "      <td>False</td>\n",
       "      <td>False</td>\n",
       "    </tr>\n",
       "    <tr>\n",
       "      <td>1</td>\n",
       "      <td>775</td>\n",
       "      <td>1143</td>\n",
       "      <td>False</td>\n",
       "      <td>False</td>\n",
       "      <td>False</td>\n",
       "    </tr>\n",
       "    <tr>\n",
       "      <td>2</td>\n",
       "      <td>775</td>\n",
       "      <td>1144</td>\n",
       "      <td>False</td>\n",
       "      <td>False</td>\n",
       "      <td>False</td>\n",
       "    </tr>\n",
       "    <tr>\n",
       "      <td>3</td>\n",
       "      <td>776</td>\n",
       "      <td>1159</td>\n",
       "      <td>True</td>\n",
       "      <td>False</td>\n",
       "      <td>False</td>\n",
       "    </tr>\n",
       "    <tr>\n",
       "      <td>4</td>\n",
       "      <td>777</td>\n",
       "      <td>1149</td>\n",
       "      <td>True</td>\n",
       "      <td>True</td>\n",
       "      <td>True</td>\n",
       "    </tr>\n",
       "    <tr>\n",
       "      <td>...</td>\n",
       "      <td>...</td>\n",
       "      <td>...</td>\n",
       "      <td>...</td>\n",
       "      <td>...</td>\n",
       "      <td>...</td>\n",
       "    </tr>\n",
       "    <tr>\n",
       "      <td>5267</td>\n",
       "      <td>776</td>\n",
       "      <td>1148</td>\n",
       "      <td>True</td>\n",
       "      <td>True</td>\n",
       "      <td>True</td>\n",
       "    </tr>\n",
       "    <tr>\n",
       "      <td>5268</td>\n",
       "      <td>774</td>\n",
       "      <td>1150</td>\n",
       "      <td>False</td>\n",
       "      <td>True</td>\n",
       "      <td>False</td>\n",
       "    </tr>\n",
       "    <tr>\n",
       "      <td>5269</td>\n",
       "      <td>772</td>\n",
       "      <td>1145</td>\n",
       "      <td>False</td>\n",
       "      <td>False</td>\n",
       "      <td>False</td>\n",
       "    </tr>\n",
       "    <tr>\n",
       "      <td>5270</td>\n",
       "      <td>775</td>\n",
       "      <td>1149</td>\n",
       "      <td>False</td>\n",
       "      <td>True</td>\n",
       "      <td>False</td>\n",
       "    </tr>\n",
       "    <tr>\n",
       "      <td>5271</td>\n",
       "      <td>777</td>\n",
       "      <td>1153</td>\n",
       "      <td>True</td>\n",
       "      <td>False</td>\n",
       "      <td>False</td>\n",
       "    </tr>\n",
       "  </tbody>\n",
       "</table>\n",
       "<p>5272 rows × 5 columns</p>\n",
       "</div>"
      ],
      "text/plain": [
       "      ancho  largo  perc_25_75_ancho  perc_25_75_largo  perc_25_75_ambos\n",
       "0       776   1157              True             False             False\n",
       "1       775   1143             False             False             False\n",
       "2       775   1144             False             False             False\n",
       "3       776   1159              True             False             False\n",
       "4       777   1149              True              True              True\n",
       "...     ...    ...               ...               ...               ...\n",
       "5267    776   1148              True              True              True\n",
       "5268    774   1150             False              True             False\n",
       "5269    772   1145             False             False             False\n",
       "5270    775   1149             False              True             False\n",
       "5271    777   1153              True             False             False\n",
       "\n",
       "[5272 rows x 5 columns]"
      ]
     },
     "execution_count": 81,
     "metadata": {},
     "output_type": "execute_result"
    }
   ],
   "source": [
    "df"
   ]
  },
  {
   "cell_type": "markdown",
   "metadata": {},
   "source": [
    "# Separar números de las imágenes"
   ]
  },
  {
   "cell_type": "code",
   "execution_count": 201,
   "metadata": {},
   "outputs": [],
   "source": [
    "png_name = png_list[5267]\n",
    "img = cv2.imread(png_dir + png_name)\n",
    "img_rect = cv2.imread(png_dir + png_name)"
   ]
  },
  {
   "cell_type": "code",
   "execution_count": 202,
   "metadata": {},
   "outputs": [
    {
     "data": {
      "text/plain": [
       "'2394111_E14_PRE_X_21_001_006_XX_06_011_X_XXX.png'"
      ]
     },
     "execution_count": 202,
     "metadata": {},
     "output_type": "execute_result"
    }
   ],
   "source": [
    "png_name"
   ]
  },
  {
   "cell_type": "code",
   "execution_count": 204,
   "metadata": {},
   "outputs": [],
   "source": [
    "# Defino la función que cropea los números de cada imagen\n",
    "def crop_digits(png_name, save_dir, png_dir='formularios_e_14/pdf_crop/', debug=False) :\n",
    "    \n",
    "    # Cargo la imagen \n",
    "    img = cv2.imread(png_dir + png_name)\n",
    "    img_rect = cv2.imread(png_dir + png_name)\n",
    "    \n",
    "    contador = 0\n",
    "\n",
    "    # Loop para cropear los números totales (sección 1)\n",
    "    row = 160\n",
    "    col = 0\n",
    "    for horizontal_move in range(3):\n",
    "        for horizontal_move_2 in range(3):\n",
    "            row_temp = row\n",
    "            x0, y0 = col, row_temp\n",
    "\n",
    "            row_temp += 49\n",
    "            col += 70\n",
    "            extra_row = 15\n",
    "            extra_col = 10\n",
    "            x1, y1 = col + extra_col, row_temp + extra_row\n",
    "\n",
    "            # Dibujo el rectangulo sobre la imagen\n",
    "            img_rect = cv2.rectangle(img_rect, (x0, y0), (x1, y1), (0,0,250), 1)\n",
    "\n",
    "            # Recorto el dígito\n",
    "            digito = img[y0:y1,x0:x1]\n",
    "            cv2.imwrite(f'{save_dir}/{contador}_{png_name}',digito)\n",
    "            contador += 1\n",
    "\n",
    "        col += 70\n",
    "\n",
    "    # Loop para cropear los números de los votos (sección 2) \n",
    "\n",
    "    row = 285\n",
    "    col = 555\n",
    "    for vertical_move in range(8):\n",
    "        col_temp = col\n",
    "\n",
    "        for horizontal_move in range(3):\n",
    "\n",
    "            row_temp = row\n",
    "            x0, y0 = col_temp, row_temp\n",
    "\n",
    "            row_temp += 66\n",
    "            col_temp += 71\n",
    "\n",
    "            extra_row = 15\n",
    "            extra_col = 10\n",
    "\n",
    "            x1, y1 = col_temp + extra_col, row_temp + extra_col\n",
    "\n",
    "            # Dibujo el rectangulo sobre la imagen\n",
    "            img_rect = cv2.rectangle(img_rect, (x0, y0), (x1, y1), (0,250,0), 1)\n",
    "\n",
    "            # Recorto el dígito\n",
    "            digito = img[y0:y1,x0:x1]\n",
    "            cv2.imwrite(f'{save_dir}/{contador}_{png_name}',digito)\n",
    "            contador += 1\n",
    "\n",
    "        row =  row_temp + 5 \n",
    "\n",
    "    # Loop para cropear los números de los votos en blanco nulos etc (sección 3)\n",
    "\n",
    "    row = 850\n",
    "    col = 555\n",
    "    for vertical_move in range(4):\n",
    "        col_temp = col\n",
    "\n",
    "        for horizontal_move in range(3):\n",
    "\n",
    "            row_temp = row\n",
    "            x0, y0 = col_temp, row_temp\n",
    "\n",
    "            row_temp += 58\n",
    "            col_temp += 71\n",
    "\n",
    "            extra_row = 18\n",
    "            extra_col = 10\n",
    "\n",
    "            x1, y1 = col_temp + extra_col, row_temp + extra_col\n",
    "\n",
    "            # Dibujo el rectangulo sobre la imagen\n",
    "            img_rect = cv2.rectangle(img_rect, (x0, y0), (x1, y1), (250,0,0), 1)\n",
    "\n",
    "            # Recorto el dígito\n",
    "            digito = img[y0:y1,x0:x1]\n",
    "            cv2.imwrite(f'{save_dir}/{contador}_{png_name}',digito)\n",
    "            contador += 1\n",
    "\n",
    "        row =  row_temp + 5 \n",
    "\n",
    "    if debug :    \n",
    "        # Saco la imagen con los cuadros    \n",
    "        cv2.imwrite(f'{save_dir}/{png_name}',img_rect)\n",
    "        "
   ]
  },
  {
   "cell_type": "code",
   "execution_count": 208,
   "metadata": {},
   "outputs": [],
   "source": [
    "png_name = png_list[666]\n",
    "\n",
    "crop_digits(png_name)"
   ]
  },
  {
   "cell_type": "code",
   "execution_count": 205,
   "metadata": {},
   "outputs": [
    {
     "data": {
      "text/plain": [
       "'2394111_E14_PRE_X_21_001_006_XX_06_011_X_XXX.png'"
      ]
     },
     "execution_count": 205,
     "metadata": {},
     "output_type": "execute_result"
    }
   ],
   "source": [
    "png_name = png_list[5267]\n",
    "png_name \n"
   ]
  }
 ],
 "metadata": {
  "kernelspec": {
   "display_name": "Python 3",
   "language": "python",
   "name": "python3"
  },
  "language_info": {
   "codemirror_mode": {
    "name": "ipython",
    "version": 3
   },
   "file_extension": ".py",
   "mimetype": "text/x-python",
   "name": "python",
   "nbconvert_exporter": "python",
   "pygments_lexer": "ipython3",
   "version": "3.7.4"
  }
 },
 "nbformat": 4,
 "nbformat_minor": 4
}
