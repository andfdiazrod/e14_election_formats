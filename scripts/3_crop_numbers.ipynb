{
 "cells": [
  {
   "cell_type": "code",
   "execution_count": 209,
   "metadata": {},
   "outputs": [],
   "source": [
    "# Para instalar las librerías, solo tiene que ser una vez\n",
    "if False :\n",
    "    !pip install PyMuPDF\n",
    "    !pip install Pillow\n",
    "    !pip install opencv-python\n",
    "    !pip install imutils"
   ]
  },
  {
   "cell_type": "code",
   "execution_count": null,
   "metadata": {},
   "outputs": [],
   "source": [
    "import os\n",
    "import numpy as np\n",
    "import pandas as pd\n",
    "import re\n",
    "from matplotlib import pyplot as plt\n",
    "import fitz # From PyMuPDF\n",
    "from PIL import Image\n",
    "import cv2\n",
    "import argparse\n",
    "import imutils\n",
    "import sys"
   ]
  },
  {
   "cell_type": "code",
   "execution_count": 2,
   "metadata": {},
   "outputs": [],
   "source": [
    "os.chdir(r'D:\\Dropbox\\Proyectos\\python\\formatos_elecciones')\n",
    "# os.chdir(r'C:\\Users\\gd.orbegozo10\\Dropbox\\Cosas_Programacion\\Python\\python\\formatos_elecciones')"
   ]
  },
  {
   "cell_type": "code",
   "execution_count": 3,
   "metadata": {},
   "outputs": [
    {
     "data": {
      "text/plain": [
       "['2000015_E14_PRE_X_16_001_016_XX_13_030_X_XXX.png',\n",
       " '2000115_E14_PRE_X_15_103_000_XX_00_002_X_XXX.png',\n",
       " '2000210_E14_PRE_X_29_001_007_XX_02_006_X_XXX.png',\n",
       " '2000219_E14_PRE_X_16_001_009_XX_12_004_X_XXX.png',\n",
       " '2000414_E14_PRE_X_31_001_030_XX_01_016_X_XXX.png',\n",
       " '2000417_E14_PRE_X_25_001_007_XX_06_007_X_XXX.png',\n",
       " '2000418_E14_PRE_X_27_071_000_XX_00_013_X_XXX.png',\n",
       " '2000513_E14_PRE_X_01_218_002_XX_02_001_X_XXX.png',\n",
       " '2000514_E14_PRE_X_29_085_000_XX_00_015_X_XXX.png',\n",
       " '2000515_E14_PRE_X_09_130_001_XX_02_012_X_XXX.png']"
      ]
     },
     "execution_count": 3,
     "metadata": {},
     "output_type": "execute_result"
    }
   ],
   "source": [
    "png_dir = 'formularios_e_14/pdf_crop/'\n",
    "png_list = os.listdir(png_dir)\n",
    "png_list[1:11]"
   ]
  },
  {
   "cell_type": "code",
   "execution_count": 9,
   "metadata": {},
   "outputs": [
    {
     "data": {
      "text/plain": [
       "'formularios_e_14/pdf_crop/2000015_E14_PRE_X_16_001_016_XX_13_030_X_XXX.png'"
      ]
     },
     "execution_count": 9,
     "metadata": {},
     "output_type": "execute_result"
    }
   ],
   "source": [
    "png_dir + png_list[1]"
   ]
  },
  {
   "cell_type": "code",
   "execution_count": 14,
   "metadata": {
    "scrolled": true
   },
   "outputs": [
    {
     "data": {
      "text/plain": [
       "(1143, 775, 3)"
      ]
     },
     "execution_count": 14,
     "metadata": {},
     "output_type": "execute_result"
    }
   ],
   "source": [
    "img = cv2.imread(png_dir + png_list[1])\n",
    "img.shape\n",
    "        "
   ]
  },
  {
   "cell_type": "markdown",
   "metadata": {},
   "source": [
    "# Hacemos un loop que itere sobre las imagenes de la carpeta para obtener el número de píxeles horizontal y vertical de todas\n"
   ]
  },
  {
   "cell_type": "code",
   "execution_count": 152,
   "metadata": {},
   "outputs": [],
   "source": [
    "# Defino la función de la barra de progreso\n",
    "def progressBar(value, endvalue, msg='', bar_length=40):\n",
    "    percent = float(value) / endvalue\n",
    "    arrow = '-' * int(round(percent * bar_length)-1) + '>'\n",
    "    spaces = ' ' * (bar_length - len(arrow))\n",
    "\n",
    "    sys.stdout.write(f\"\\rProgreso: [{arrow + spaces}] {int(round(percent * 100))}% ({value+1} de {endvalue} imagenes)\")\n",
    "    sys.stdout.flush()"
   ]
  },
  {
   "cell_type": "code",
   "execution_count": 212,
   "metadata": {},
   "outputs": [
    {
     "name": "stdout",
     "output_type": "stream",
     "text": [
      "Progreso: [--------------------------------------->] 100% (94949 de 94950 imagenes)"
     ]
    }
   ],
   "source": [
    "ancho = []\n",
    "largo = []\n",
    "\n",
    "for i, x in enumerate(png_list):\n",
    "    img = cv2.imread(png_dir + x)\n",
    "    largo.append(img.shape[0])\n",
    "    ancho.append(img.shape[1])\n",
    "    progressBar(i,len(png_list))"
   ]
  },
  {
   "cell_type": "markdown",
   "metadata": {},
   "source": [
    "# Revisar la distribución"
   ]
  },
  {
   "cell_type": "code",
   "execution_count": 25,
   "metadata": {},
   "outputs": [
    {
     "data": {
      "image/png": "[encoded data removed]",
      "text/plain": [
       "<Figure size 432x288 with 1 Axes>"
      ]
     },
     "metadata": {
      "needs_background": "light"
     },
     "output_type": "display_data"
    },
    {
     "data": {
      "text/html": [
       "<div>\n",
       "<style scoped>\n",
       "    .dataframe tbody tr th:only-of-type {\n",
       "        vertical-align: middle;\n",
       "    }\n",
       "\n",
       "    .dataframe tbody tr th {\n",
       "        vertical-align: top;\n",
       "    }\n",
       "\n",
       "    .dataframe thead th {\n",
       "        text-align: right;\n",
       "    }\n",
       "</style>\n",
       "<table border=\"1\" class=\"dataframe\">\n",
       "  <thead>\n",
       "    <tr style=\"text-align: right;\">\n",
       "      <th></th>\n",
       "      <th>0</th>\n",
       "    </tr>\n",
       "  </thead>\n",
       "  <tbody>\n",
       "    <tr>\n",
       "      <td>count</td>\n",
       "      <td>5272.000000</td>\n",
       "    </tr>\n",
       "    <tr>\n",
       "      <td>mean</td>\n",
       "      <td>777.204097</td>\n",
       "    </tr>\n",
       "    <tr>\n",
       "      <td>std</td>\n",
       "      <td>2.551997</td>\n",
       "    </tr>\n",
       "    <tr>\n",
       "      <td>min</td>\n",
       "      <td>706.000000</td>\n",
       "    </tr>\n",
       "    <tr>\n",
       "      <td>25%</td>\n",
       "      <td>776.000000</td>\n",
       "    </tr>\n",
       "    <tr>\n",
       "      <td>50%</td>\n",
       "      <td>777.000000</td>\n",
       "    </tr>\n",
       "    <tr>\n",
       "      <td>75%</td>\n",
       "      <td>778.000000</td>\n",
       "    </tr>\n",
       "    <tr>\n",
       "      <td>max</td>\n",
       "      <td>788.000000</td>\n",
       "    </tr>\n",
       "  </tbody>\n",
       "</table>\n",
       "</div>"
      ],
      "text/plain": [
       "                 0\n",
       "count  5272.000000\n",
       "mean    777.204097\n",
       "std       2.551997\n",
       "min     706.000000\n",
       "25%     776.000000\n",
       "50%     777.000000\n",
       "75%     778.000000\n",
       "max     788.000000"
      ]
     },
     "execution_count": 25,
     "metadata": {},
     "output_type": "execute_result"
    }
   ],
   "source": [
    "plt.hist(ancho)\n",
    "plt.show()\n",
    "df_ancho = pd.DataFrame(ancho)\n",
    "df_ancho.describe()"
   ]
  },
  {
   "cell_type": "code",
   "execution_count": 26,
   "metadata": {
    "scrolled": true
   },
   "outputs": [
    {
     "data": {
      "image/png": "[encoded data removed]",
      "text/plain": [
       "<Figure size 432x288 with 1 Axes>"
      ]
     },
     "metadata": {
      "needs_background": "light"
     },
     "output_type": "display_data"
    },
    {
     "data": {
      "text/html": [
       "<div>\n",
       "<style scoped>\n",
       "    .dataframe tbody tr th:only-of-type {\n",
       "        vertical-align: middle;\n",
       "    }\n",
       "\n",
       "    .dataframe tbody tr th {\n",
       "        vertical-align: top;\n",
       "    }\n",
       "\n",
       "    .dataframe thead th {\n",
       "        text-align: right;\n",
       "    }\n",
       "</style>\n",
       "<table border=\"1\" class=\"dataframe\">\n",
       "  <thead>\n",
       "    <tr style=\"text-align: right;\">\n",
       "      <th></th>\n",
       "      <th>0</th>\n",
       "    </tr>\n",
       "  </thead>\n",
       "  <tbody>\n",
       "    <tr>\n",
       "      <td>count</td>\n",
       "      <td>5272.000000</td>\n",
       "    </tr>\n",
       "    <tr>\n",
       "      <td>mean</td>\n",
       "      <td>1149.452011</td>\n",
       "    </tr>\n",
       "    <tr>\n",
       "      <td>std</td>\n",
       "      <td>5.564268</td>\n",
       "    </tr>\n",
       "    <tr>\n",
       "      <td>min</td>\n",
       "      <td>1051.000000</td>\n",
       "    </tr>\n",
       "    <tr>\n",
       "      <td>25%</td>\n",
       "      <td>1147.000000</td>\n",
       "    </tr>\n",
       "    <tr>\n",
       "      <td>50%</td>\n",
       "      <td>1150.000000</td>\n",
       "    </tr>\n",
       "    <tr>\n",
       "      <td>75%</td>\n",
       "      <td>1152.000000</td>\n",
       "    </tr>\n",
       "    <tr>\n",
       "      <td>max</td>\n",
       "      <td>1188.000000</td>\n",
       "    </tr>\n",
       "  </tbody>\n",
       "</table>\n",
       "</div>"
      ],
      "text/plain": [
       "                 0\n",
       "count  5272.000000\n",
       "mean   1149.452011\n",
       "std       5.564268\n",
       "min    1051.000000\n",
       "25%    1147.000000\n",
       "50%    1150.000000\n",
       "75%    1152.000000\n",
       "max    1188.000000"
      ]
     },
     "execution_count": 26,
     "metadata": {},
     "output_type": "execute_result"
    }
   ],
   "source": [
    "plt.hist(largo)\n",
    "plt.show()\n",
    "df_largo = pd.DataFrame(largo)\n",
    "df_largo.describe()"
   ]
  },
  {
   "cell_type": "code",
   "execution_count": 57,
   "metadata": {},
   "outputs": [
    {
     "data": {
      "text/html": [
       "<div>\n",
       "<style scoped>\n",
       "    .dataframe tbody tr th:only-of-type {\n",
       "        vertical-align: middle;\n",
       "    }\n",
       "\n",
       "    .dataframe tbody tr th {\n",
       "        vertical-align: top;\n",
       "    }\n",
       "\n",
       "    .dataframe thead th {\n",
       "        text-align: right;\n",
       "    }\n",
       "</style>\n",
       "<table border=\"1\" class=\"dataframe\">\n",
       "  <thead>\n",
       "    <tr style=\"text-align: right;\">\n",
       "      <th></th>\n",
       "      <th>ancho</th>\n",
       "      <th>largo</th>\n",
       "    </tr>\n",
       "  </thead>\n",
       "  <tbody>\n",
       "    <tr>\n",
       "      <td>0</td>\n",
       "      <td>776</td>\n",
       "      <td>1157</td>\n",
       "    </tr>\n",
       "    <tr>\n",
       "      <td>1</td>\n",
       "      <td>775</td>\n",
       "      <td>1143</td>\n",
       "    </tr>\n",
       "    <tr>\n",
       "      <td>2</td>\n",
       "      <td>775</td>\n",
       "      <td>1144</td>\n",
       "    </tr>\n",
       "    <tr>\n",
       "      <td>3</td>\n",
       "      <td>776</td>\n",
       "      <td>1159</td>\n",
       "    </tr>\n",
       "    <tr>\n",
       "      <td>4</td>\n",
       "      <td>777</td>\n",
       "      <td>1149</td>\n",
       "    </tr>\n",
       "    <tr>\n",
       "      <td>...</td>\n",
       "      <td>...</td>\n",
       "      <td>...</td>\n",
       "    </tr>\n",
       "    <tr>\n",
       "      <td>5267</td>\n",
       "      <td>776</td>\n",
       "      <td>1148</td>\n",
       "    </tr>\n",
       "    <tr>\n",
       "      <td>5268</td>\n",
       "      <td>774</td>\n",
       "      <td>1150</td>\n",
       "    </tr>\n",
       "    <tr>\n",
       "      <td>5269</td>\n",
       "      <td>772</td>\n",
       "      <td>1145</td>\n",
       "    </tr>\n",
       "    <tr>\n",
       "      <td>5270</td>\n",
       "      <td>775</td>\n",
       "      <td>1149</td>\n",
       "    </tr>\n",
       "    <tr>\n",
       "      <td>5271</td>\n",
       "      <td>777</td>\n",
       "      <td>1153</td>\n",
       "    </tr>\n",
       "  </tbody>\n",
       "</table>\n",
       "<p>5272 rows × 2 columns</p>\n",
       "</div>"
      ],
      "text/plain": [
       "      ancho  largo\n",
       "0       776   1157\n",
       "1       775   1143\n",
       "2       775   1144\n",
       "3       776   1159\n",
       "4       777   1149\n",
       "...     ...    ...\n",
       "5267    776   1148\n",
       "5268    774   1150\n",
       "5269    772   1145\n",
       "5270    775   1149\n",
       "5271    777   1153\n",
       "\n",
       "[5272 rows x 2 columns]"
      ]
     },
     "execution_count": 57,
     "metadata": {},
     "output_type": "execute_result"
    }
   ],
   "source": [
    "df = pd.DataFrame({\"ancho\":ancho,\"largo\":largo})\n",
    "df"
   ]
  },
  {
   "cell_type": "code",
   "execution_count": 77,
   "metadata": {
    "scrolled": true
   },
   "outputs": [],
   "source": [
    "df[\"perc_25_75_ancho\"] = (df.ancho >= np.percentile(ancho,25)) & (df.ancho <= np.percentile(ancho,75))\n",
    "df[\"perc_25_75_largo\"] = (df.largo >= np.percentile(largo,25)) & (df.largo <= np.percentile(largo,75))\n",
    "df[\"perc_25_75_ambos\"] = (df.perc_25_75_ancho == True) & (df.perc_25_75_largo == True)"
   ]
  },
  {
   "cell_type": "code",
   "execution_count": 78,
   "metadata": {},
   "outputs": [
    {
     "data": {
      "text/plain": [
       "True     2960\n",
       "False    2312\n",
       "Name: perc_25_75_ancho, dtype: int64"
      ]
     },
     "execution_count": 78,
     "metadata": {},
     "output_type": "execute_result"
    }
   ],
   "source": [
    "df.perc_25_75_ancho.value_counts()"
   ]
  },
  {
   "cell_type": "code",
   "execution_count": 79,
   "metadata": {
    "scrolled": true
   },
   "outputs": [
    {
     "data": {
      "text/plain": [
       "True     2978\n",
       "False    2294\n",
       "Name: perc_25_75_largo, dtype: int64"
      ]
     },
     "execution_count": 79,
     "metadata": {},
     "output_type": "execute_result"
    }
   ],
   "source": [
    "df.perc_25_75_largo.value_counts()"
   ]
  },
  {
   "cell_type": "code",
   "execution_count": 80,
   "metadata": {},
   "outputs": [
    {
     "data": {
      "text/plain": [
       "False    3489\n",
       "True     1783\n",
       "Name: perc_25_75_ambos, dtype: int64"
      ]
     },
     "execution_count": 80,
     "metadata": {},
     "output_type": "execute_result"
    }
   ],
   "source": [
    "df.perc_25_75_ambos.value_counts()"
   ]
  },
  {
   "cell_type": "code",
   "execution_count": 81,
   "metadata": {},
   "outputs": [
    {
     "data": {
      "text/html": [
       "<div>\n",
       "<style scoped>\n",
       "    .dataframe tbody tr th:only-of-type {\n",
       "        vertical-align: middle;\n",
       "    }\n",
       "\n",
       "    .dataframe tbody tr th {\n",
       "        vertical-align: top;\n",
       "    }\n",
       "\n",
       "    .dataframe thead th {\n",
       "        text-align: right;\n",
       "    }\n",
       "</style>\n",
       "<table border=\"1\" class=\"dataframe\">\n",
       "  <thead>\n",
       "    <tr style=\"text-align: right;\">\n",
       "      <th></th>\n",
       "      <th>ancho</th>\n",
       "      <th>largo</th>\n",
       "      <th>perc_25_75_ancho</th>\n",
       "      <th>perc_25_75_largo</th>\n",
       "      <th>perc_25_75_ambos</th>\n",
       "    </tr>\n",
       "  </thead>\n",
       "  <tbody>\n",
       "    <tr>\n",
       "      <td>0</td>\n",
       "      <td>776</td>\n",
       "      <td>1157</td>\n",
       "      <td>True</td>\n",
       "      <td>False</td>\n",
       "      <td>False</td>\n",
       "    </tr>\n",
       "    <tr>\n",
       "      <td>1</td>\n",
       "      <td>775</td>\n",
       "      <td>1143</td>\n",
       "      <td>False</td>\n",
       "      <td>False</td>\n",
       "      <td>False</td>\n",
       "    </tr>\n",
       "    <tr>\n",
       "      <td>2</td>\n",
       "      <td>775</td>\n",
       "      <td>1144</td>\n",
       "      <td>False</td>\n",
       "      <td>False</td>\n",
       "      <td>False</td>\n",
       "    </tr>\n",
       "    <tr>\n",
       "      <td>3</td>\n",
       "      <td>776</td>\n",
       "      <td>1159</td>\n",
       "      <td>True</td>\n",
       "      <td>False</td>\n",
       "      <td>False</td>\n",
       "    </tr>\n",
       "    <tr>\n",
       "      <td>4</td>\n",
       "      <td>777</td>\n",
       "      <td>1149</td>\n",
       "      <td>True</td>\n",
       "      <td>True</td>\n",
       "      <td>True</td>\n",
       "    </tr>\n",
       "    <tr>\n",
       "      <td>...</td>\n",
       "      <td>...</td>\n",
       "      <td>...</td>\n",
       "      <td>...</td>\n",
       "      <td>...</td>\n",
       "      <td>...</td>\n",
       "    </tr>\n",
       "    <tr>\n",
       "      <td>5267</td>\n",
       "      <td>776</td>\n",
       "      <td>1148</td>\n",
       "      <td>True</td>\n",
       "      <td>True</td>\n",
       "      <td>True</td>\n",
       "    </tr>\n",
       "    <tr>\n",
       "      <td>5268</td>\n",
       "      <td>774</td>\n",
       "      <td>1150</td>\n",
       "      <td>False</td>\n",
       "      <td>True</td>\n",
       "      <td>False</td>\n",
       "    </tr>\n",
       "    <tr>\n",
       "      <td>5269</td>\n",
       "      <td>772</td>\n",
       "      <td>1145</td>\n",
       "      <td>False</td>\n",
       "      <td>False</td>\n",
       "      <td>False</td>\n",
       "    </tr>\n",
       "    <tr>\n",
       "      <td>5270</td>\n",
       "      <td>775</td>\n",
       "      <td>1149</td>\n",
       "      <td>False</td>\n",
       "      <td>True</td>\n",
       "      <td>False</td>\n",
       "    </tr>\n",
       "    <tr>\n",
       "      <td>5271</td>\n",
       "      <td>777</td>\n",
       "      <td>1153</td>\n",
       "      <td>True</td>\n",
       "      <td>False</td>\n",
       "      <td>False</td>\n",
       "    </tr>\n",
       "  </tbody>\n",
       "</table>\n",
       "<p>5272 rows × 5 columns</p>\n",
       "</div>"
      ],
      "text/plain": [
       "      ancho  largo  perc_25_75_ancho  perc_25_75_largo  perc_25_75_ambos\n",
       "0       776   1157              True             False             False\n",
       "1       775   1143             False             False             False\n",
       "2       775   1144             False             False             False\n",
       "3       776   1159              True             False             False\n",
       "4       777   1149              True              True              True\n",
       "...     ...    ...               ...               ...               ...\n",
       "5267    776   1148              True              True              True\n",
       "5268    774   1150             False              True             False\n",
       "5269    772   1145             False             False             False\n",
       "5270    775   1149             False              True             False\n",
       "5271    777   1153              True             False             False\n",
       "\n",
       "[5272 rows x 5 columns]"
      ]
     },
     "execution_count": 81,
     "metadata": {},
     "output_type": "execute_result"
    }
   ],
   "source": [
    "df"
   ]
  },
  {
   "cell_type": "markdown",
   "metadata": {},
   "source": [
    "# Separar números de las imágenes"
   ]
  },
  {
   "cell_type": "code",
   "execution_count": 5,
   "metadata": {},
   "outputs": [],
   "source": [
    "png_name = png_list[5267]\n",
    "img = cv2.imread(png_dir + png_name)\n",
    "img_rect = cv2.imread(png_dir + png_name)"
   ]
  },
  {
   "cell_type": "code",
   "execution_count": 6,
   "metadata": {},
   "outputs": [
    {
     "data": {
      "text/plain": [
       "'2394111_E14_PRE_X_21_001_006_XX_06_011_X_XXX.png'"
      ]
     },
     "execution_count": 6,
     "metadata": {},
     "output_type": "execute_result"
    }
   ],
   "source": [
    "png_name"
   ]
  },
  {
   "cell_type": "code",
   "execution_count": 6,
   "metadata": {},
   "outputs": [],
   "source": [
    "# Defino la función que cropea los números de cada imagen\n",
    "def crop_digits(png_name, save_dir, png_dir='formularios_e_14/pdf_crop/', debug=False) :\n",
    "    \n",
    "    # Cargo la imagen \n",
    "    img = cv2.imread(png_dir + png_name)\n",
    "    img_rect = cv2.imread(png_dir + png_name)\n",
    "    \n",
    "    contador = 0\n",
    "\n",
    "    # Loop para cropear los números totales (sección 1)\n",
    "    row = 160\n",
    "    col = 0\n",
    "    for horizontal_move in range(3):\n",
    "        for horizontal_move_2 in range(3):\n",
    "            row_temp = row\n",
    "            x0, y0 = col, row_temp\n",
    "\n",
    "            row_temp += 49\n",
    "            col += 70\n",
    "            extra_row = 15\n",
    "            extra_col = 10\n",
    "            x1, y1 = col + extra_col, row_temp + extra_row\n",
    "\n",
    "            # Dibujo el rectangulo sobre la imagen\n",
    "            img_rect = cv2.rectangle(img_rect, (x0, y0), (x1, y1), (0,0,250), 1)\n",
    "\n",
    "            # Recorto el dígito\n",
    "            digito = img[y0:y1,x0:x1]\n",
    "            cv2.imwrite(f'{save_dir}/{contador}_{png_name}',digito)\n",
    "            contador += 1\n",
    "\n",
    "        col += 70\n",
    "\n",
    "    # Loop para cropear los números de los votos (sección 2) \n",
    "\n",
    "    row = 285\n",
    "    col = 555\n",
    "    for vertical_move in range(8):\n",
    "        col_temp = col\n",
    "\n",
    "        for horizontal_move in range(3):\n",
    "\n",
    "            row_temp = row\n",
    "            x0, y0 = col_temp, row_temp\n",
    "\n",
    "            row_temp += 66\n",
    "            col_temp += 71\n",
    "\n",
    "            extra_row = 15\n",
    "            extra_col = 10\n",
    "\n",
    "            x1, y1 = col_temp + extra_col, row_temp + extra_col\n",
    "\n",
    "            # Dibujo el rectangulo sobre la imagen\n",
    "            img_rect = cv2.rectangle(img_rect, (x0, y0), (x1, y1), (0,250,0), 1)\n",
    "\n",
    "            # Recorto el dígito\n",
    "            digito = img[y0:y1,x0:x1]\n",
    "            cv2.imwrite(f'{save_dir}/{contador}_{png_name}',digito)\n",
    "            contador += 1\n",
    "\n",
    "        row =  row_temp + 5 \n",
    "\n",
    "    # Loop para cropear los números de los votos en blanco nulos etc (sección 3)\n",
    "\n",
    "    row = 850\n",
    "    col = 555\n",
    "    for vertical_move in range(4):\n",
    "        col_temp = col\n",
    "\n",
    "        for horizontal_move in range(3):\n",
    "\n",
    "            row_temp = row\n",
    "            x0, y0 = col_temp, row_temp\n",
    "\n",
    "            row_temp += 58\n",
    "            col_temp += 71\n",
    "\n",
    "            extra_row = 18\n",
    "            extra_col = 10\n",
    "\n",
    "            x1, y1 = col_temp + extra_col, row_temp + extra_col\n",
    "\n",
    "            # Dibujo el rectangulo sobre la imagen\n",
    "            img_rect = cv2.rectangle(img_rect, (x0, y0), (x1, y1), (250,0,0), 1)\n",
    "\n",
    "            # Recorto el dígito\n",
    "            digito = img[y0:y1,x0:x1]\n",
    "            cv2.imwrite(f'{save_dir}/{contador}_{png_name}',digito)\n",
    "            contador += 1\n",
    "\n",
    "        row =  row_temp + 5 \n",
    "\n",
    "    if debug :    \n",
    "        # Saco la imagen con los cuadros    \n",
    "        cv2.imwrite(f'{save_dir}/{png_name}',img_rect)\n",
    "        "
   ]
  },
  {
   "cell_type": "code",
   "execution_count": 10,
   "metadata": {},
   "outputs": [],
   "source": [
    "png_name = png_list[2560]\n",
    "\n",
    "crop_digits(png_name, 'test/save_images')"
   ]
  },
  {
   "cell_type": "markdown",
   "metadata": {},
   "source": [
    "## INTENTAR VARIOS MÉTODOS PARA GUARDAR UNA GRAN CANTIDAD DE IMÁGENES\n",
    "\n",
    "* El primer método, que ya está en la función de arriba guarda cada dígito en un png en una carpeta, esos son 45 imágenes por cada uno de lo 95k formatos."
   ]
  },
  {
   "cell_type": "code",
   "execution_count": 4,
   "metadata": {},
   "outputs": [],
   "source": [
    "import lmdb\n",
    "import h5py"
   ]
  },
  {
   "cell_type": "code",
   "execution_count": 121,
   "metadata": {},
   "outputs": [],
   "source": [
    "def save_img_h5(img, key, save_dir, h5_name) :\n",
    "        # Abrir el archivo h5 para guardar las imágenes\n",
    "    with h5py.File(f'{save_dir}/{h5_name}.h5', 'a') as h5_f :\n",
    "        # Create the image and palette dataspaces\n",
    "        dset = h5_f.create_dataset(name=key, data=img)\n",
    "\n",
    "        # Set the image attributes\n",
    "        dset.attrs['CLASS'] = 'IMAGE'\n",
    "        dset.attrs['IMAGE_VERSION'] = '1.2'\n",
    "        dset.attrs['IMAGE_SUBCLASS'] =  'IMAGE_INDEXED'\n",
    "        dset.attrs['IMAGE_MINMAXRANGE'] = np.array([0,255], dtype=np.uint8)    \n",
    "    \n",
    "# Defino la función que cropea los números de cada imagen\n",
    "def crop_digits_h5(png_name, save_dir, h5_name, png_dir='formularios_e_14/pdf_crop/', debug=False) :\n",
    "    \n",
    "    # Cargo la imagen \n",
    "    img = cv2.imread(png_dir + png_name)\n",
    "    img_rect = cv2.imread(png_dir + png_name)\n",
    "\n",
    "    contador = 0\n",
    "    \n",
    "    png_name = png_name[:-4]\n",
    "\n",
    "    # Loop para cropear los números totales (sección 1)\n",
    "    row = 160\n",
    "    col = 0\n",
    "    for horizontal_move in range(3):\n",
    "        for horizontal_move_2 in range(3):\n",
    "            row_temp = row\n",
    "            x0, y0 = col, row_temp\n",
    "\n",
    "            row_temp += 49\n",
    "            col += 70\n",
    "            extra_row = 15\n",
    "            extra_col = 10\n",
    "            x1, y1 = col + extra_col, row_temp + extra_row\n",
    "\n",
    "            # Dibujo el rectangulo sobre la imagen\n",
    "            img_rect = cv2.rectangle(img_rect, (x0, y0), (x1, y1), (0,0,250), 1)\n",
    "\n",
    "            # Recorto el dígito\n",
    "            digito = img[y0:y1,x0:x1]\n",
    "#                 cv2.imwrite(f'{save_dir}/{contador}_{png_name}',digito)\n",
    "            save_img_h5(\n",
    "                img=digito, \n",
    "                key=f'{contador}_{png_name}', \n",
    "                save_dir=save_dir,\n",
    "                h5_name=h5_name\n",
    "            )\n",
    "            contador += 1\n",
    "\n",
    "        col += 70\n",
    "\n",
    "    # Loop para cropear los números de los votos (sección 2) \n",
    "\n",
    "    row = 285\n",
    "    col = 555\n",
    "    for vertical_move in range(8):\n",
    "        col_temp = col\n",
    "\n",
    "        for horizontal_move in range(3):\n",
    "\n",
    "            row_temp = row\n",
    "            x0, y0 = col_temp, row_temp\n",
    "\n",
    "            row_temp += 66\n",
    "            col_temp += 71\n",
    "\n",
    "            extra_row = 15\n",
    "            extra_col = 10\n",
    "\n",
    "            x1, y1 = col_temp + extra_col, row_temp + extra_col\n",
    "\n",
    "            # Dibujo el rectangulo sobre la imagen\n",
    "            img_rect = cv2.rectangle(img_rect, (x0, y0), (x1, y1), (0,250,0), 1)\n",
    "\n",
    "            # Recorto el dígito\n",
    "            digito = img[y0:y1,x0:x1]\n",
    "#                 cv2.imwrite(f'{save_dir}/{contador}_{png_name}',digito)\n",
    "            save_img_h5(\n",
    "                img=digito, \n",
    "                key=f'{contador}_{png_name}', \n",
    "                save_dir=save_dir,\n",
    "                h5_name=h5_name\n",
    "            )\n",
    "            contador += 1\n",
    "\n",
    "        row =  row_temp + 5 \n",
    "\n",
    "    # Loop para cropear los números de los votos en blanco nulos etc (sección 3)\n",
    "\n",
    "    row = 850\n",
    "    col = 555\n",
    "    for vertical_move in range(4):\n",
    "        col_temp = col\n",
    "\n",
    "        for horizontal_move in range(3):\n",
    "\n",
    "            row_temp = row\n",
    "            x0, y0 = col_temp, row_temp\n",
    "\n",
    "            row_temp += 58\n",
    "            col_temp += 71\n",
    "\n",
    "            extra_row = 18\n",
    "            extra_col = 10\n",
    "\n",
    "            x1, y1 = col_temp + extra_col, row_temp + extra_col\n",
    "\n",
    "            # Dibujo el rectangulo sobre la imagen\n",
    "            img_rect = cv2.rectangle(img_rect, (x0, y0), (x1, y1), (250,0,0), 1)\n",
    "\n",
    "            # Recorto el dígito\n",
    "            digito = img[y0:y1,x0:x1]\n",
    "#                 cv2.imwrite(f'{save_dir}/{contador}_{png_name}',digito)\n",
    "            save_img_h5(\n",
    "                img=digito, \n",
    "                key=f'{contador}_{png_name}', \n",
    "                save_dir=save_dir,\n",
    "                h5_name=h5_name\n",
    "            )\n",
    "            contador += 1\n",
    "\n",
    "        row =  row_temp + 5 \n",
    "\n",
    "    if debug :    \n",
    "        # Saco la imagen con los cuadros    \n",
    "        cv2.imwrite(f'{save_dir}/{png_name}',img_rect)\n",
    "        \n",
    "    h5_f.close()"
   ]
  },
  {
   "cell_type": "code",
   "execution_count": 156,
   "metadata": {},
   "outputs": [
    {
     "name": "stdout",
     "output_type": "stream",
     "text": [
      "Progreso: [--------------------------------------->] 99% (100 de 100 imagenes)\n",
      "\n",
      "Progreso: [--------------------------------------->] 99% (100 de 100 imagenes)"
     ]
    }
   ],
   "source": [
    "import random\n",
    "import shutil\n",
    "\n",
    "random.seed(666)\n",
    "\n",
    "png_index = random.sample(range(len(png_list)),100)\n",
    "\n",
    "if os.path.exists(\"demofile.txt\"): os.remove(\"test/test_h5_1.h5\")\n",
    "for i,x in enumerate(png_index) :\n",
    "    crop_digits_h5(\n",
    "        png_name=png_list[x],\n",
    "        save_dir='test/',\n",
    "        h5_name='test_h5_1',\n",
    "    )\n",
    "    progressBar(i, len(png_index))\n",
    "    \n",
    "print(\"\\n\") \n",
    "\n",
    "digit_png_file = 'test/save_images'\n",
    "shutil.rmtree(digit_png_file, ignore_errors=True)\n",
    "os.mkdir(digit_png_file)\n",
    "for i,x in enumerate(png_index) :\n",
    "    crop_digits(\n",
    "        png_name=png_list[x],\n",
    "        save_dir=digit_png_file\n",
    "    )\n",
    "    progressBar(i, len(png_index))"
   ]
  },
  {
   "cell_type": "code",
   "execution_count": 119,
   "metadata": {},
   "outputs": [
    {
     "data": {
      "text/plain": [
       "'102001416_E14_PRE_X_01_001_003_XX_01_034_X_XXX'"
      ]
     },
     "execution_count": 119,
     "metadata": {},
     "output_type": "execute_result"
    }
   ],
   "source": [
    "a"
   ]
  },
  {
   "cell_type": "code",
   "execution_count": 164,
   "metadata": {},
   "outputs": [
    {
     "name": "stdout",
     "output_type": "stream",
     "text": [
      "4500\n"
     ]
    },
    {
     "data": {
      "image/png": "[encoded data removed]",
      "text/plain": [
       "<Figure size 432x288 with 1 Axes>"
      ]
     },
     "metadata": {
      "needs_background": "light"
     },
     "output_type": "display_data"
    }
   ],
   "source": [
    "with h5py.File(f'test/test_h5_1.h5', 'r') as f_read:\n",
    "    print(len(f_read.keys()))\n",
    "    plt.imshow(list(f_read[list(f_read.keys())[20]]))\n",
    "    plt.show()\n",
    "    f_read.close()"
   ]
  },
  {
   "cell_type": "code",
   "execution_count": 198,
   "metadata": {},
   "outputs": [],
   "source": [
    "png_name = png_list[2000]\n",
    "\n",
    "\n",
    "# Cargo la imagen \n",
    "img = cv2.imread(png_dir + png_name)\n",
    "img_rect = cv2.imread(png_dir + png_name)\n",
    "\n",
    "contador = 0\n",
    "\n",
    "png_name = png_name[:-4]\n",
    "\n",
    "digit_array = []\n",
    "key_array = []\n",
    "# Loop para cropear los números totales (sección 1)\n",
    "row = 160\n",
    "col = 0\n",
    "for horizontal_move in range(3):\n",
    "    for horizontal_move_2 in range(3):\n",
    "        row_temp = row\n",
    "        x0, y0 = col, row_temp\n",
    "\n",
    "        row_temp += 49\n",
    "        col += 70\n",
    "        extra_row = 15\n",
    "        extra_col = 10\n",
    "        x1, y1 = col + extra_col, row_temp + extra_row\n",
    "\n",
    "        # Dibujo el rectangulo sobre la imagen\n",
    "        img_rect = cv2.rectangle(img_rect, (x0, y0), (x1, y1), (0,0,250), 1)\n",
    "\n",
    "        # Recorto el dígito\n",
    "        digito = img[y0:y1,x0:x1]\n",
    "#                 cv2.imwrite(f'{save_dir}/{contador}_{png_name}',digito)\n",
    "        digit_array.append(digito)\n",
    "        key_array.append(f'{contador}_{png_name}')\n",
    "        contador += 1\n",
    "\n",
    "    col += 70\n",
    "\n",
    "# Loop para cropear los números de los votos (sección 2) \n",
    "\n",
    "row = 285\n",
    "col = 555\n",
    "for vertical_move in range(8):\n",
    "    col_temp = col\n",
    "\n",
    "    for horizontal_move in range(3):\n",
    "\n",
    "        row_temp = row\n",
    "        x0, y0 = col_temp, row_temp\n",
    "\n",
    "        row_temp += 66\n",
    "        col_temp += 71\n",
    "\n",
    "        extra_row = 15\n",
    "        extra_col = 10\n",
    "\n",
    "        x1, y1 = col_temp + extra_col, row_temp + extra_col\n",
    "\n",
    "        # Dibujo el rectangulo sobre la imagen\n",
    "        img_rect = cv2.rectangle(img_rect, (x0, y0), (x1, y1), (0,250,0), 1)\n",
    "\n",
    "        # Recorto el dígito\n",
    "        digito = img[y0:y1,x0:x1]\n",
    "#                 cv2.imwrite(f'{save_dir}/{contador}_{png_name}',digito)\n",
    "        digit_array.append(digito)\n",
    "        key_array.append(f'{contador}_{png_name}')\n",
    "        contador += 1\n",
    "\n",
    "    row =  row_temp + 5 \n",
    "\n",
    "# Loop para cropear los números de los votos en blanco nulos etc (sección 3)\n",
    "\n",
    "row = 850\n",
    "col = 555\n",
    "for vertical_move in range(4):\n",
    "    col_temp = col\n",
    "\n",
    "    for horizontal_move in range(3):\n",
    "\n",
    "        row_temp = row\n",
    "        x0, y0 = col_temp, row_temp\n",
    "\n",
    "        row_temp += 58\n",
    "        col_temp += 71\n",
    "\n",
    "        extra_row = 18\n",
    "        extra_col = 10\n",
    "\n",
    "        x1, y1 = col_temp + extra_col, row_temp + extra_col\n",
    "\n",
    "        # Dibujo el rectangulo sobre la imagen\n",
    "        img_rect = cv2.rectangle(img_rect, (x0, y0), (x1, y1), (250,0,0), 1)\n",
    "\n",
    "        # Recorto el dígito\n",
    "        digito = img[y0:y1,x0:x1]\n",
    "#                 cv2.imwrite(f'{save_dir}/{contador}_{png_name}',digito)\n",
    "        digit_array.append(digito)\n",
    "        key_array.append(f'{contador}_{png_name}')\n",
    "        contador += 1\n",
    "\n",
    "    row =  row_temp + 5 \n",
    "digit_array = np.asarray(digit_array)\n",
    "key_array = np.asarray(key_array)"
   ]
  },
  {
   "cell_type": "code",
   "execution_count": 203,
   "metadata": {},
   "outputs": [
    {
     "ename": "OSError",
     "evalue": "Can't write data (no appropriate function for conversion path)",
     "output_type": "error",
     "traceback": [
      "\u001b[1;31m---------------------------------------------------------------------------\u001b[0m",
      "\u001b[1;31mOSError\u001b[0m                                   Traceback (most recent call last)",
      "\u001b[1;32m<ipython-input-203-106e7538ef69>\u001b[0m in \u001b[0;36m<module>\u001b[1;34m\u001b[0m\n\u001b[0;32m      1\u001b[0m \u001b[1;32mwith\u001b[0m \u001b[0mh5py\u001b[0m\u001b[1;33m.\u001b[0m\u001b[0mFile\u001b[0m\u001b[1;33m(\u001b[0m\u001b[1;34mf'test/test_2.h5'\u001b[0m\u001b[1;33m,\u001b[0m \u001b[1;34m'a'\u001b[0m\u001b[1;33m)\u001b[0m \u001b[1;32mas\u001b[0m \u001b[0mfile\u001b[0m \u001b[1;33m:\u001b[0m\u001b[1;33m\u001b[0m\u001b[1;33m\u001b[0m\u001b[0m\n\u001b[1;32m----> 2\u001b[1;33m     dataset = file.create_dataset(\n\u001b[0m\u001b[0;32m      3\u001b[0m         \u001b[1;34m\"images\"\u001b[0m\u001b[1;33m,\u001b[0m \u001b[0mnp\u001b[0m\u001b[1;33m.\u001b[0m\u001b[0mshape\u001b[0m\u001b[1;33m(\u001b[0m\u001b[0mdigit_array\u001b[0m\u001b[1;33m)\u001b[0m\u001b[1;33m,\u001b[0m \u001b[0mh5py\u001b[0m\u001b[1;33m.\u001b[0m\u001b[0mh5t\u001b[0m\u001b[1;33m.\u001b[0m\u001b[0mSTD_U8BE\u001b[0m\u001b[1;33m,\u001b[0m \u001b[0mdata\u001b[0m\u001b[1;33m=\u001b[0m\u001b[0mdigit_array\u001b[0m\u001b[1;33m\u001b[0m\u001b[1;33m\u001b[0m\u001b[0m\n\u001b[0;32m      4\u001b[0m     )\n\u001b[0;32m      5\u001b[0m     meta_set = file.create_dataset(\n",
      "\u001b[1;32mD:\\anaconda3\\lib\\site-packages\\h5py\\_hl\\group.py\u001b[0m in \u001b[0;36mcreate_dataset\u001b[1;34m(self, name, shape, dtype, data, **kwds)\u001b[0m\n\u001b[0;32m    134\u001b[0m \u001b[1;33m\u001b[0m\u001b[0m\n\u001b[0;32m    135\u001b[0m         \u001b[1;32mwith\u001b[0m \u001b[0mphil\u001b[0m\u001b[1;33m:\u001b[0m\u001b[1;33m\u001b[0m\u001b[1;33m\u001b[0m\u001b[0m\n\u001b[1;32m--> 136\u001b[1;33m             \u001b[0mdsid\u001b[0m \u001b[1;33m=\u001b[0m \u001b[0mdataset\u001b[0m\u001b[1;33m.\u001b[0m\u001b[0mmake_new_dset\u001b[0m\u001b[1;33m(\u001b[0m\u001b[0mself\u001b[0m\u001b[1;33m,\u001b[0m \u001b[0mshape\u001b[0m\u001b[1;33m,\u001b[0m \u001b[0mdtype\u001b[0m\u001b[1;33m,\u001b[0m \u001b[0mdata\u001b[0m\u001b[1;33m,\u001b[0m \u001b[1;33m**\u001b[0m\u001b[0mkwds\u001b[0m\u001b[1;33m)\u001b[0m\u001b[1;33m\u001b[0m\u001b[1;33m\u001b[0m\u001b[0m\n\u001b[0m\u001b[0;32m    137\u001b[0m             \u001b[0mdset\u001b[0m \u001b[1;33m=\u001b[0m \u001b[0mdataset\u001b[0m\u001b[1;33m.\u001b[0m\u001b[0mDataset\u001b[0m\u001b[1;33m(\u001b[0m\u001b[0mdsid\u001b[0m\u001b[1;33m)\u001b[0m\u001b[1;33m\u001b[0m\u001b[1;33m\u001b[0m\u001b[0m\n\u001b[0;32m    138\u001b[0m             \u001b[1;32mif\u001b[0m \u001b[0mname\u001b[0m \u001b[1;32mis\u001b[0m \u001b[1;32mnot\u001b[0m \u001b[1;32mNone\u001b[0m\u001b[1;33m:\u001b[0m\u001b[1;33m\u001b[0m\u001b[1;33m\u001b[0m\u001b[0m\n",
      "\u001b[1;32mD:\\anaconda3\\lib\\site-packages\\h5py\\_hl\\dataset.py\u001b[0m in \u001b[0;36mmake_new_dset\u001b[1;34m(parent, shape, dtype, data, chunks, compression, shuffle, fletcher32, maxshape, compression_opts, fillvalue, scaleoffset, track_times, external, track_order, dcpl)\u001b[0m\n\u001b[0;32m    168\u001b[0m \u001b[1;33m\u001b[0m\u001b[0m\n\u001b[0;32m    169\u001b[0m     \u001b[1;32mif\u001b[0m \u001b[1;33m(\u001b[0m\u001b[0mdata\u001b[0m \u001b[1;32mis\u001b[0m \u001b[1;32mnot\u001b[0m \u001b[1;32mNone\u001b[0m\u001b[1;33m)\u001b[0m \u001b[1;32mand\u001b[0m \u001b[1;33m(\u001b[0m\u001b[1;32mnot\u001b[0m \u001b[0misinstance\u001b[0m\u001b[1;33m(\u001b[0m\u001b[0mdata\u001b[0m\u001b[1;33m,\u001b[0m \u001b[0mEmpty\u001b[0m\u001b[1;33m)\u001b[0m\u001b[1;33m)\u001b[0m\u001b[1;33m:\u001b[0m\u001b[1;33m\u001b[0m\u001b[1;33m\u001b[0m\u001b[0m\n\u001b[1;32m--> 170\u001b[1;33m         \u001b[0mdset_id\u001b[0m\u001b[1;33m.\u001b[0m\u001b[0mwrite\u001b[0m\u001b[1;33m(\u001b[0m\u001b[0mh5s\u001b[0m\u001b[1;33m.\u001b[0m\u001b[0mALL\u001b[0m\u001b[1;33m,\u001b[0m \u001b[0mh5s\u001b[0m\u001b[1;33m.\u001b[0m\u001b[0mALL\u001b[0m\u001b[1;33m,\u001b[0m \u001b[0mdata\u001b[0m\u001b[1;33m)\u001b[0m\u001b[1;33m\u001b[0m\u001b[1;33m\u001b[0m\u001b[0m\n\u001b[0m\u001b[0;32m    171\u001b[0m \u001b[1;33m\u001b[0m\u001b[0m\n\u001b[0;32m    172\u001b[0m     \u001b[1;32mreturn\u001b[0m \u001b[0mdset_id\u001b[0m\u001b[1;33m\u001b[0m\u001b[1;33m\u001b[0m\u001b[0m\n",
      "\u001b[1;32mh5py\\_objects.pyx\u001b[0m in \u001b[0;36mh5py._objects.with_phil.wrapper\u001b[1;34m()\u001b[0m\n",
      "\u001b[1;32mh5py\\_objects.pyx\u001b[0m in \u001b[0;36mh5py._objects.with_phil.wrapper\u001b[1;34m()\u001b[0m\n",
      "\u001b[1;32mh5py\\h5d.pyx\u001b[0m in \u001b[0;36mh5py.h5d.DatasetID.write\u001b[1;34m()\u001b[0m\n",
      "\u001b[1;32mh5py\\_proxy.pyx\u001b[0m in \u001b[0;36mh5py._proxy.dset_rw\u001b[1;34m()\u001b[0m\n",
      "\u001b[1;32mh5py\\_proxy.pyx\u001b[0m in \u001b[0;36mh5py._proxy.H5PY_H5Dwrite\u001b[1;34m()\u001b[0m\n",
      "\u001b[1;31mOSError\u001b[0m: Can't write data (no appropriate function for conversion path)"
     ]
    }
   ],
   "source": [
    "with h5py.File(f'test/test_2.h5', 'a') as file :\n",
    "    dataset = file.create_dataset(\n",
    "        \"images\", np.shape(digit_array), h5py.h5t.STD_U8BE, data=digit_array\n",
    "    )\n",
    "    meta_set = file.create_dataset(\n",
    "        \"meta\", np.shape(key_array), h5py.STD_U8BE, data=key_array\n",
    "    )\n"
   ]
  },
  {
   "cell_type": "code",
   "execution_count": 196,
   "metadata": {},
   "outputs": [
    {
     "data": {
      "text/plain": [
       "(45,)"
      ]
     },
     "execution_count": 196,
     "metadata": {},
     "output_type": "execute_result"
    }
   ],
   "source": [
    "np.asarray(digit_array).shape"
   ]
  },
  {
   "cell_type": "code",
   "execution_count": 192,
   "metadata": {},
   "outputs": [
    {
     "data": {
      "text/plain": [
       "array([[ 0,  2,  4,  6,  8],\n",
       "       [10, 12, 14, 16, 18],\n",
       "       [20, 22, 24, 26, 28],\n",
       "       [30, 32, 34, 36, 38],\n",
       "       [40, 42, 44, 46, 48]])"
      ]
     },
     "execution_count": 192,
     "metadata": {},
     "output_type": "execute_result"
    }
   ],
   "source": [
    "array"
   ]
  },
  {
   "cell_type": "code",
   "execution_count": 186,
   "metadata": {},
   "outputs": [],
   "source": [
    "archive = h5py.File('test/test.h5', 'w')\n",
    "\n",
    "archive.create_dataset('/array', data=array)\n",
    "\n",
    "archive.close()"
   ]
  },
  {
   "cell_type": "code",
   "execution_count": 188,
   "metadata": {},
   "outputs": [
    {
     "name": "stdout",
     "output_type": "stream",
     "text": [
      "1\n"
     ]
    },
    {
     "data": {
      "image/png": "[encoded data removed]",
      "text/plain": [
       "<Figure size 432x288 with 1 Axes>"
      ]
     },
     "metadata": {
      "needs_background": "light"
     },
     "output_type": "display_data"
    }
   ],
   "source": [
    "with h5py.File(f'test/test.h5', 'r') as f_read:\n",
    "    print(len(f_read.keys()))\n",
    "    plt.imshow(list(f_read[list(f_read.keys())[0]]))\n",
    "    plt.show()\n",
    "    f_read.close()"
   ]
  }
 ],
 "metadata": {
  "kernelspec": {
   "display_name": "Python 3",
   "language": "python",
   "name": "python3"
  },
  "language_info": {
   "codemirror_mode": {
    "name": "ipython",
    "version": 3
   },
   "file_extension": ".py",
   "mimetype": "text/x-python",
   "name": "python",
   "nbconvert_exporter": "python",
   "pygments_lexer": "ipython3",
   "version": "3.7.3"
  }
 },
 "nbformat": 4,
 "nbformat_minor": 4
}
