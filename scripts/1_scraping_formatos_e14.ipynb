{
 "cells": [
  {
   "cell_type": "markdown",
   "metadata": {},
   "source": [
    "## WEB SCRAPING FOR THE E-14 FORMATS"
   ]
  },
  {
   "cell_type": "code",
   "execution_count": 1,
   "metadata": {},
   "outputs": [
    {
     "name": "stdout",
     "output_type": "stream",
     "text": [
      "Collecting beautifulsoup\n",
      "  Using cached https://files.pythonhosted.org/packages/40/f2/6c9f2f3e696ee6a1fb0e4d7850617e224ed2b0b1e872110abffeca2a09d4/BeautifulSoup-3.2.2.tar.gz\n"
     ]
    },
    {
     "name": "stderr",
     "output_type": "stream",
     "text": [
      "    ERROR: Command errored out with exit status 1:\n",
      "     command: 'C:\\Users\\gd.orbegozo10\\AppData\\Local\\Continuum\\anaconda3\\python.exe' -c 'import sys, setuptools, tokenize; sys.argv[0] = '\"'\"'C:\\\\Users\\\\GDA7A5~1.ORB\\\\AppData\\\\Local\\\\Temp\\\\pip-install-kwsi9km9\\\\beautifulsoup\\\\setup.py'\"'\"'; __file__='\"'\"'C:\\\\Users\\\\GDA7A5~1.ORB\\\\AppData\\\\Local\\\\Temp\\\\pip-install-kwsi9km9\\\\beautifulsoup\\\\setup.py'\"'\"';f=getattr(tokenize, '\"'\"'open'\"'\"', open)(__file__);code=f.read().replace('\"'\"'\\r\\n'\"'\"', '\"'\"'\\n'\"'\"');f.close();exec(compile(code, __file__, '\"'\"'exec'\"'\"'))' egg_info --egg-base pip-egg-info\n",
      "         cwd: C:\\Users\\GDA7A5~1.ORB\\AppData\\Local\\Temp\\pip-install-kwsi9km9\\beautifulsoup\\\n",
      "    Complete output (6 lines):\n",
      "    Traceback (most recent call last):\n",
      "      File \"<string>\", line 1, in <module>\n",
      "      File \"C:\\Users\\GDA7A5~1.ORB\\AppData\\Local\\Temp\\pip-install-kwsi9km9\\beautifulsoup\\setup.py\", line 3\n",
      "        \"You're trying to run a very old release of Beautiful Soup under Python 3. This will not work.\"<>\"Please use Beautiful Soup 4, available through the pip package 'beautifulsoup4'.\"\n",
      "                                                                                                        ^\n",
      "    SyntaxError: invalid syntax\n",
      "    ----------------------------------------\n",
      "ERROR: Command errored out with exit status 1: python setup.py egg_info Check the logs for full command output.\n"
     ]
    },
    {
     "name": "stdout",
     "output_type": "stream",
     "text": [
      "Requirement already satisfied: selenium in c:\\users\\gd.orbegozo10\\appdata\\local\\continuum\\anaconda3\\lib\\site-packages (3.141.0)\n",
      "Requirement already satisfied: urllib3 in c:\\users\\gd.orbegozo10\\appdata\\local\\continuum\\anaconda3\\lib\\site-packages (from selenium) (1.24.2)\n"
     ]
    }
   ],
   "source": [
    "if False:\n",
    "    !pip install beautifulsoup\n",
    "    !pip install selenium"
   ]
  },
  {
   "cell_type": "code",
   "execution_count": 2,
   "metadata": {},
   "outputs": [],
   "source": [
    "import requests\n",
    "from bs4 import BeautifulSoup\n",
    "from selenium import webdriver\n",
    "from selenium.webdriver.chrome.service import Service\n",
    "from selenium.webdriver.support.ui import Select\n",
    "import urllib\n",
    "import pandas as pd\n",
    "import time\n",
    "import re\n",
    "import matplotlib.pyplot as plt\n",
    "import numpy as np\n",
    "import sys\n",
    "import random\n",
    "import os"
   ]
  },
  {
   "cell_type": "markdown",
   "metadata": {},
   "source": [
    "2018 presidential elections: https://elecciones1.registraduria.gov.co/e14_pre1_2018/"
   ]
  },
  {
   "cell_type": "markdown",
   "metadata": {},
   "source": [
    "## Functions"
   ]
  },
  {
   "cell_type": "code",
   "execution_count": 3,
   "metadata": {},
   "outputs": [],
   "source": [
    "def main(html, dept_list, data_frame_dir='formularios_e_14/'):\n",
    "  \n",
    "    soup = BeautifulSoup(html)\n",
    "    \n",
    "    dept_select = Select(browser.find_element_by_id('select_dep'))\n",
    "    \n",
    "    pdf_info = pd.DataFrame(columns=['dept', 'mun', 'zona', 'pto','n_format','format_names'])\n",
    "    \n",
    "    # Choose department\n",
    "    for i_d,dept in enumerate(dept_list):\n",
    "       \n",
    "        mun_select, mun_values = find_select(dept_select, dept, 0)\n",
    "        \n",
    "        # Create a directory for each department\n",
    "        dept_dir = fr'formularios_e_14/{dept}'\n",
    "        if not os.path.exists(dept_dir):\n",
    "            os.mkdir(dept_dir)\n",
    "        \n",
    "        # Choose municipality\n",
    "        for i_m,mun in enumerate(mun_values):\n",
    "\n",
    "            zona_select, zona_values = find_select(mun_select, mun, 1)\n",
    "               \n",
    "            # Create a directory for each municipality\n",
    "            mun_dir = fr'formularios_e_14/{dept}/{mun}'\n",
    "            if not os.path.exists(mun_dir):\n",
    "                os.mkdir(mun_dir)\n",
    "            print(f'\\nDept: {dept} - Mun: {mun} ({(i_m+1)}/{len(mun_values)})')\n",
    "            \n",
    "            # Choose zona\n",
    "            for i_z,zona in enumerate(zona_values):\n",
    "                \n",
    "                pto_select, pto_values = find_select(zona_select, zona, 2)\n",
    "                \n",
    "                # Create a directory for each zona\n",
    "                zona_dir = fr'formularios_e_14/{dept}/{mun}/{zona}'\n",
    "                if not os.path.exists(zona_dir):\n",
    "                    os.mkdir(zona_dir)\n",
    "                                \n",
    "                progressBar((i_z+1), len(zona_values))\n",
    "                \n",
    "                # Choose puesto and get pdf links from each voting table\n",
    "                for i_p, pto in enumerate(pto_values):\n",
    "                    \n",
    "                    pdf_list = find_select(pto_select, pto, 3)\n",
    "\n",
    "                    # Download the pdfs\n",
    "                    for i,link in enumerate(pdf_list):\n",
    "                        time.sleep(random.normalvariate(2, 0.4))\n",
    "                        file_name = link.split('/')[-1]\n",
    "\n",
    "                        pdf_name = f'{zona_dir}/{file_name}'\n",
    "\n",
    "                        urllib.request.urlretrieve(link,pdf_name)\n",
    "\n",
    "                    # Put information inside the dataframe\n",
    "                    n_format = len(pdf_list)\n",
    "                    format_names = ','.join([x.split('/')[-1].split('_')[0] for i,x in enumerate(pdf_list)])\n",
    "                    pdf_info = pdf_info.append({'dept': dept, 'mun': mun, \n",
    "                                                'zona': zona , 'pto': pto, \n",
    "                                                'n_format': n_format, \n",
    "                                                'format_names': format_names},\n",
    "                                               ignore_index=True)\n",
    "\n",
    "            # Save the dataframe after each municipality\n",
    "            pdf_info.to_csv(f'{data_frame_dir}info_formatos_{dept}.csv', index=False, sep=';')\n",
    "    \n",
    "    return pdf_info"
   ]
  },
  {
   "cell_type": "code",
   "execution_count": 4,
   "metadata": {},
   "outputs": [],
   "source": [
    "def find_select(select, value, index, sleep_time_mu=2, sleep_time_de=0.4):\n",
    "    \n",
    "    # Names for the levels of information inside the html\n",
    "    id_list = ['mpio', 'zona', 'pto']\n",
    "    \n",
    "    # Find the given value inside the given select\n",
    "    select.select_by_value(value)\n",
    "    \n",
    "    # Time to wait between searchas\n",
    "    sleep_time = random.normalvariate(sleep_time_mu, sleep_time_de)\n",
    "    time.sleep(sleep_time)\n",
    "\n",
    "    # Read html for the current level\n",
    "    html = browser.page_source\n",
    "    soup = BeautifulSoup(html)\n",
    "    \n",
    "    # index == 3 is the place to stop and look for the pdf_links\n",
    "    if index < 3:\n",
    "        option_list = str(soup.find_all('div',{'class': 'form-group'})[index])\n",
    "        values = re.findall('<option.+?=\"([0-9]+)\"', option_list)\n",
    "\n",
    "        select = Select(browser.find_element_by_id(id_list[index]))\n",
    "    \n",
    "        return select, values\n",
    "    \n",
    "    elif index == 3:\n",
    "        mesa_list = soup.find_all('a', {'href':re.compile('https.*pdf')})\n",
    "        pdf_links = re.findall('href=\"(https.+?pdf)\"', str(mesa_list))\n",
    "             \n",
    "        return pdf_links"
   ]
  },
  {
   "cell_type": "code",
   "execution_count": 5,
   "metadata": {},
   "outputs": [],
   "source": [
    "def progressBar(value, endvalue, bar_length=40):\n",
    "    percent = float(value) / endvalue\n",
    "    arrow = '-' * int(round(percent * bar_length)-1) + '>'\n",
    "    spaces = ' ' * (bar_length - len(arrow))\n",
    "\n",
    "    sys.stdout.write(f\"\\rProgreso: [{arrow + spaces}] {int(round(percent * 100))}% ({value} de {endvalue} zonas.)\")\n",
    "    sys.stdout.flush()"
   ]
  },
  {
   "cell_type": "markdown",
   "metadata": {},
   "source": [
    "### RUN MAIN"
   ]
  },
  {
   "cell_type": "code",
   "execution_count": 6,
   "metadata": {},
   "outputs": [],
   "source": [
    "dept_values = ['1', '3', '5', '7', '9', '11', '12', '13', '15', '16', '17', '19', '21',\n",
    "               '23', '24', '25', '26', '27', '28', '29', '31', '40', '44', '46', '48',\n",
    "               '50', '52', '54', '56', '60', '64', '68', '72', '88']"
   ]
  },
  {
   "cell_type": "markdown",
   "metadata": {},
   "source": [
    "## CAMBIAR"
   ]
  },
  {
   "cell_type": "code",
   "execution_count": 13,
   "metadata": {},
   "outputs": [],
   "source": [
    "#os.chdir(r'D:\\Dropbox\\Proyectos\\python\\formatos_elecciones')\n",
    "os.chdir(r'C:\\Users\\gd.orbegozo10\\Dropbox\\Cosas_Programacion\\Python\\python\\formatos_elecciones')\n",
    "service = Service('C:\\Program Files (x86)\\Google\\Chrome\\Application\\chromedriver.exe')"
   ]
  },
  {
   "cell_type": "markdown",
   "metadata": {},
   "source": [
    "## CORRER"
   ]
  },
  {
   "cell_type": "code",
   "execution_count": 20,
   "metadata": {},
   "outputs": [],
   "source": [
    "pdf_dir = 'formularios_e_14/pdf_no_text/'\n",
    "png_dir = 'formularios_e_14/png_no_text/'"
   ]
  },
  {
   "cell_type": "code",
   "execution_count": 21,
   "metadata": {},
   "outputs": [
    {
     "name": "stdout",
     "output_type": "stream",
     "text": [
      "\n",
      "Dept: 60 - Mun: 1 (1/11)\n",
      "Progreso: [--------------------------------------->] 100% (4 de 4 zonas.)\n",
      "Dept: 60 - Mun: 7 (2/11)\n",
      "Progreso: [--------------------------------------->] 100% (2 de 2 zonas.)\n",
      "Dept: 60 - Mun: 10 (3/11)\n",
      "Progreso: [--------------------------------------->] 100% (1 de 1 zonas.)\n",
      "Dept: 60 - Mun: 13 (4/11)\n",
      "Progreso: [--------------------------------------->] 100% (1 de 1 zonas.)\n",
      "Dept: 60 - Mun: 16 (5/11)\n",
      "Progreso: [--------------------------------------->] 100% (1 de 1 zonas.)\n",
      "Dept: 60 - Mun: 17 (6/11)\n",
      "Progreso: [--------------------------------------->] 100% (1 de 1 zonas.)\n",
      "Dept: 60 - Mun: 19 (7/11)\n",
      "Progreso: [--------------------------------------->] 100% (2 de 2 zonas.)\n",
      "Dept: 60 - Mun: 21 (8/11)\n",
      "Progreso: [--------------------------------------->] 100% (1 de 1 zonas.)\n",
      "Dept: 60 - Mun: 22 (9/11)\n",
      "Progreso: [--------------------------------------->] 100% (1 de 1 zonas.)\n",
      "Dept: 60 - Mun: 30 (10/11)\n",
      "Progreso: [--------------------------------------->] 100% (1 de 1 zonas.)\n",
      "Dept: 60 - Mun: 40 (11/11)\n",
      "Progreso: [--------------------------------------->] 100% (1 de 1 zonas.)\n",
      "Dept: 64 - Mun: 1 (1/13)\n",
      "Progreso: [--------------------------------------->] 100% (4 de 4 zonas.)\n",
      "Dept: 64 - Mun: 2 (2/13)\n",
      "Progreso: [--------------------------------------->] 100% (4 de 4 zonas.)\n",
      "Dept: 64 - Mun: 4 (3/13)\n",
      "Progreso: [--------------------------------------->] 100% (2 de 2 zonas.)\n",
      "Dept: 64 - Mun: 7 (4/13)\n",
      "Progreso: [--------------------------------------->] 100% (2 de 2 zonas.)\n",
      "Dept: 64 - Mun: 13 (5/13)\n",
      "Progreso: [--------------------------------------->] 100% (2 de 2 zonas.)\n",
      "Dept: 64 - Mun: 16 (6/13)\n",
      "Progreso: [--------------------------------------->] 100% (2 de 2 zonas.)\n",
      "Dept: 64 - Mun: 18 (7/13)\n",
      "Progreso: [--------------------------------------->] 100% (2 de 2 zonas.)\n",
      "Dept: 64 - Mun: 19 (8/13)\n",
      "Progreso: [--------------------------------------->] 100% (1 de 1 zonas.)\n",
      "Dept: 64 - Mun: 23 (9/13)\n",
      "Progreso: [--------------------------------------->] 100% (3 de 3 zonas.)\n",
      "Dept: 64 - Mun: 25 (10/13)\n",
      "Progreso: [--------------------------------------->] 100% (2 de 2 zonas.)\n",
      "Dept: 64 - Mun: 26 (11/13)\n",
      "Progreso: [--------------------------------------->] 100% (2 de 2 zonas.)\n",
      "Dept: 64 - Mun: 28 (12/13)\n",
      "Progreso: [--------------------------------------->] 100% (2 de 2 zonas.)\n",
      "Dept: 64 - Mun: 30 (13/13)\n",
      "Progreso: [--------------------------------------->] 100% (2 de 2 zonas.)\n",
      "Dept: 68 - Mun: 1 (1/6)\n",
      "Progreso: [--------------------------------------->] 100% (2 de 2 zonas.)\n",
      "Dept: 68 - Mun: 4 (2/6)\n",
      "Progreso: [--------------------------------------->] 100% (2 de 2 zonas.)\n",
      "Dept: 68 - Mun: 10 (3/6)\n",
      "Progreso: [--------------------------------------->] 100% (1 de 1 zonas.)\n",
      "Dept: 68 - Mun: 13 (4/6)\n",
      "Progreso: [--------------------------------------->] 100% (2 de 2 zonas.)\n",
      "Dept: 68 - Mun: 17 (5/6)\n",
      "Progreso: [--------------------------------------->] 100% (2 de 2 zonas.)\n",
      "Dept: 68 - Mun: 22 (6/6)\n",
      "Progreso: [--------------------------------------->] 100% (2 de 2 zonas.)\n",
      "Dept: 72 - Mun: 1 (1/4)\n",
      "Progreso: [--------------------------------------->] 100% (3 de 3 zonas.)\n",
      "Dept: 72 - Mun: 2 (2/4)\n",
      "Progreso: [--------------------------------------->] 100% (2 de 2 zonas.)\n",
      "Dept: 72 - Mun: 6 (3/4)\n",
      "Progreso: [--------------------------------------->] 100% (2 de 2 zonas.)\n",
      "Dept: 72 - Mun: 8 (4/4)\n",
      "Progreso: [--------------------------------------->] 100% (2 de 2 zonas.)\n",
      "Dept: 88 - Mun: 115 (1/69)\n",
      "Progreso: [--------------------------------------->] 100% (1 de 1 zonas.)\n",
      "Dept: 88 - Mun: 120 (2/69)\n",
      "Progreso: [--------------------------------------->] 100% (2 de 2 zonas.)\n",
      "Dept: 88 - Mun: 130 (3/69)\n",
      "Progreso: [--------------------------------------->] 100% (1 de 1 zonas.)\n",
      "Dept: 88 - Mun: 135 (4/69)\n",
      "Progreso: [--------------------------------------->] 100% (1 de 1 zonas.)\n",
      "Dept: 88 - Mun: 140 (5/69)\n",
      "Progreso: [--------------------------------------->] 100% (1 de 1 zonas.)\n",
      "Dept: 88 - Mun: 155 (6/69)\n",
      "Progreso: [--------------------------------------->] 100% (1 de 1 zonas.)\n",
      "Dept: 88 - Mun: 160 (7/69)\n",
      "Progreso: [--------------------------------------->] 100% (1 de 1 zonas.)\n",
      "Dept: 88 - Mun: 165 (8/69)\n",
      "Progreso: [--------------------------------------->] 100% (2 de 2 zonas.)\n",
      "Dept: 88 - Mun: 170 (9/69)\n",
      "Progreso: [--------------------------------------->] 100% (2 de 2 zonas.)\n",
      "Dept: 88 - Mun: 190 (10/69)\n",
      "Progreso: [--------------------------------------->] 100% (1 de 1 zonas.)\n",
      "Dept: 88 - Mun: 215 (11/69)\n",
      "Progreso: [--------------------------------------->] 100% (2 de 2 zonas.)\n",
      "Dept: 88 - Mun: 220 (12/69)\n",
      "Progreso: [--------------------------------------->] 100% (7 de 7 zonas.)\n",
      "Dept: 88 - Mun: 250 (13/69)\n",
      "Progreso: [--------------------------------------->] 100% (5 de 5 zonas.)\n",
      "Dept: 88 - Mun: 275 (14/69)\n",
      "Progreso: [--------------------------------------->] 100% (1 de 1 zonas.)\n",
      "Dept: 88 - Mun: 285 (15/69)\n",
      "Progreso: [--------------------------------------->] 100% (1 de 1 zonas.)\n",
      "Dept: 88 - Mun: 290 (16/69)\n",
      "Progreso: [--------------------------------------->] 100% (1 de 1 zonas.)\n",
      "Dept: 88 - Mun: 305 (17/69)\n",
      "Progreso: [--------------------------------------->] 100% (3 de 3 zonas.)"
     ]
    },
    {
     "ename": "WebDriverException",
     "evalue": "Message: chrome not reachable\n  (Session info: chrome=84.0.4147.135)\n",
     "output_type": "error",
     "traceback": [
      "\u001b[1;31m---------------------------------------------------------------------------\u001b[0m",
      "\u001b[1;31mWebDriverException\u001b[0m                        Traceback (most recent call last)",
      "\u001b[1;32m<ipython-input-21-a8313df32b69>\u001b[0m in \u001b[0;36m<module>\u001b[1;34m\u001b[0m\n\u001b[0;32m     12\u001b[0m \u001b[0mhtml\u001b[0m \u001b[1;33m=\u001b[0m \u001b[0mbrowser\u001b[0m\u001b[1;33m.\u001b[0m\u001b[0mpage_source\u001b[0m\u001b[1;33m\u001b[0m\u001b[1;33m\u001b[0m\u001b[0m\n\u001b[0;32m     13\u001b[0m \u001b[1;33m\u001b[0m\u001b[0m\n\u001b[1;32m---> 14\u001b[1;33m \u001b[0mpdf_info\u001b[0m \u001b[1;33m=\u001b[0m \u001b[0mmain\u001b[0m\u001b[1;33m(\u001b[0m\u001b[0mhtml\u001b[0m\u001b[1;33m,\u001b[0m \u001b[1;33m[\u001b[0m\u001b[1;34m'60'\u001b[0m\u001b[1;33m,\u001b[0m \u001b[1;34m'64'\u001b[0m\u001b[1;33m,\u001b[0m \u001b[1;34m'68'\u001b[0m\u001b[1;33m,\u001b[0m \u001b[1;34m'72'\u001b[0m\u001b[1;33m,\u001b[0m \u001b[1;34m'88'\u001b[0m\u001b[1;33m]\u001b[0m\u001b[1;33m)\u001b[0m\u001b[1;33m\u001b[0m\u001b[1;33m\u001b[0m\u001b[0m\n\u001b[0m",
      "\u001b[1;32m<ipython-input-3-cd5e432353fe>\u001b[0m in \u001b[0;36mmain\u001b[1;34m(html, dept_list, data_frame_dir)\u001b[0m\n\u001b[0;32m     43\u001b[0m                 \u001b[1;32mfor\u001b[0m \u001b[0mi_p\u001b[0m\u001b[1;33m,\u001b[0m \u001b[0mpto\u001b[0m \u001b[1;32min\u001b[0m \u001b[0menumerate\u001b[0m\u001b[1;33m(\u001b[0m\u001b[0mpto_values\u001b[0m\u001b[1;33m)\u001b[0m\u001b[1;33m:\u001b[0m\u001b[1;33m\u001b[0m\u001b[1;33m\u001b[0m\u001b[0m\n\u001b[0;32m     44\u001b[0m \u001b[1;33m\u001b[0m\u001b[0m\n\u001b[1;32m---> 45\u001b[1;33m                     \u001b[0mpdf_list\u001b[0m \u001b[1;33m=\u001b[0m \u001b[0mfind_select\u001b[0m\u001b[1;33m(\u001b[0m\u001b[0mpto_select\u001b[0m\u001b[1;33m,\u001b[0m \u001b[0mpto\u001b[0m\u001b[1;33m,\u001b[0m \u001b[1;36m3\u001b[0m\u001b[1;33m)\u001b[0m\u001b[1;33m\u001b[0m\u001b[1;33m\u001b[0m\u001b[0m\n\u001b[0m\u001b[0;32m     46\u001b[0m \u001b[1;33m\u001b[0m\u001b[0m\n\u001b[0;32m     47\u001b[0m                     \u001b[1;31m# Download the pdfs\u001b[0m\u001b[1;33m\u001b[0m\u001b[1;33m\u001b[0m\u001b[1;33m\u001b[0m\u001b[0m\n",
      "\u001b[1;32m<ipython-input-4-82636a92bb71>\u001b[0m in \u001b[0;36mfind_select\u001b[1;34m(select, value, index, sleep_time_mu, sleep_time_de)\u001b[0m\n\u001b[0;32m      5\u001b[0m \u001b[1;33m\u001b[0m\u001b[0m\n\u001b[0;32m      6\u001b[0m     \u001b[1;31m# Find the given value inside the given select\u001b[0m\u001b[1;33m\u001b[0m\u001b[1;33m\u001b[0m\u001b[1;33m\u001b[0m\u001b[0m\n\u001b[1;32m----> 7\u001b[1;33m     \u001b[0mselect\u001b[0m\u001b[1;33m.\u001b[0m\u001b[0mselect_by_value\u001b[0m\u001b[1;33m(\u001b[0m\u001b[0mvalue\u001b[0m\u001b[1;33m)\u001b[0m\u001b[1;33m\u001b[0m\u001b[1;33m\u001b[0m\u001b[0m\n\u001b[0m\u001b[0;32m      8\u001b[0m \u001b[1;33m\u001b[0m\u001b[0m\n\u001b[0;32m      9\u001b[0m     \u001b[1;31m# Time to wait between searchas\u001b[0m\u001b[1;33m\u001b[0m\u001b[1;33m\u001b[0m\u001b[1;33m\u001b[0m\u001b[0m\n",
      "\u001b[1;32m~\\AppData\\Local\\Continuum\\anaconda3\\lib\\site-packages\\selenium\\webdriver\\support\\select.py\u001b[0m in \u001b[0;36mselect_by_value\u001b[1;34m(self, value)\u001b[0m\n\u001b[0;32m     77\u001b[0m            \"\"\"\n\u001b[0;32m     78\u001b[0m         \u001b[0mcss\u001b[0m \u001b[1;33m=\u001b[0m \u001b[1;34m\"option[value =%s]\"\u001b[0m \u001b[1;33m%\u001b[0m \u001b[0mself\u001b[0m\u001b[1;33m.\u001b[0m\u001b[0m_escapeString\u001b[0m\u001b[1;33m(\u001b[0m\u001b[0mvalue\u001b[0m\u001b[1;33m)\u001b[0m\u001b[1;33m\u001b[0m\u001b[1;33m\u001b[0m\u001b[0m\n\u001b[1;32m---> 79\u001b[1;33m         \u001b[0mopts\u001b[0m \u001b[1;33m=\u001b[0m \u001b[0mself\u001b[0m\u001b[1;33m.\u001b[0m\u001b[0m_el\u001b[0m\u001b[1;33m.\u001b[0m\u001b[0mfind_elements\u001b[0m\u001b[1;33m(\u001b[0m\u001b[0mBy\u001b[0m\u001b[1;33m.\u001b[0m\u001b[0mCSS_SELECTOR\u001b[0m\u001b[1;33m,\u001b[0m \u001b[0mcss\u001b[0m\u001b[1;33m)\u001b[0m\u001b[1;33m\u001b[0m\u001b[1;33m\u001b[0m\u001b[0m\n\u001b[0m\u001b[0;32m     80\u001b[0m         \u001b[0mmatched\u001b[0m \u001b[1;33m=\u001b[0m \u001b[1;32mFalse\u001b[0m\u001b[1;33m\u001b[0m\u001b[1;33m\u001b[0m\u001b[0m\n\u001b[0;32m     81\u001b[0m         \u001b[1;32mfor\u001b[0m \u001b[0mopt\u001b[0m \u001b[1;32min\u001b[0m \u001b[0mopts\u001b[0m\u001b[1;33m:\u001b[0m\u001b[1;33m\u001b[0m\u001b[1;33m\u001b[0m\u001b[0m\n",
      "\u001b[1;32m~\\AppData\\Local\\Continuum\\anaconda3\\lib\\site-packages\\selenium\\webdriver\\remote\\webelement.py\u001b[0m in \u001b[0;36mfind_elements\u001b[1;34m(self, by, value)\u001b[0m\n\u001b[0;32m    683\u001b[0m \u001b[1;33m\u001b[0m\u001b[0m\n\u001b[0;32m    684\u001b[0m         return self._execute(Command.FIND_CHILD_ELEMENTS,\n\u001b[1;32m--> 685\u001b[1;33m                              {\"using\": by, \"value\": value})['value']\n\u001b[0m\u001b[0;32m    686\u001b[0m \u001b[1;33m\u001b[0m\u001b[0m\n\u001b[0;32m    687\u001b[0m     \u001b[1;32mdef\u001b[0m \u001b[0m__hash__\u001b[0m\u001b[1;33m(\u001b[0m\u001b[0mself\u001b[0m\u001b[1;33m)\u001b[0m\u001b[1;33m:\u001b[0m\u001b[1;33m\u001b[0m\u001b[1;33m\u001b[0m\u001b[0m\n",
      "\u001b[1;32m~\\AppData\\Local\\Continuum\\anaconda3\\lib\\site-packages\\selenium\\webdriver\\remote\\webelement.py\u001b[0m in \u001b[0;36m_execute\u001b[1;34m(self, command, params)\u001b[0m\n\u001b[0;32m    631\u001b[0m             \u001b[0mparams\u001b[0m \u001b[1;33m=\u001b[0m \u001b[1;33m{\u001b[0m\u001b[1;33m}\u001b[0m\u001b[1;33m\u001b[0m\u001b[1;33m\u001b[0m\u001b[0m\n\u001b[0;32m    632\u001b[0m         \u001b[0mparams\u001b[0m\u001b[1;33m[\u001b[0m\u001b[1;34m'id'\u001b[0m\u001b[1;33m]\u001b[0m \u001b[1;33m=\u001b[0m \u001b[0mself\u001b[0m\u001b[1;33m.\u001b[0m\u001b[0m_id\u001b[0m\u001b[1;33m\u001b[0m\u001b[1;33m\u001b[0m\u001b[0m\n\u001b[1;32m--> 633\u001b[1;33m         \u001b[1;32mreturn\u001b[0m \u001b[0mself\u001b[0m\u001b[1;33m.\u001b[0m\u001b[0m_parent\u001b[0m\u001b[1;33m.\u001b[0m\u001b[0mexecute\u001b[0m\u001b[1;33m(\u001b[0m\u001b[0mcommand\u001b[0m\u001b[1;33m,\u001b[0m \u001b[0mparams\u001b[0m\u001b[1;33m)\u001b[0m\u001b[1;33m\u001b[0m\u001b[1;33m\u001b[0m\u001b[0m\n\u001b[0m\u001b[0;32m    634\u001b[0m \u001b[1;33m\u001b[0m\u001b[0m\n\u001b[0;32m    635\u001b[0m     \u001b[1;32mdef\u001b[0m \u001b[0mfind_element\u001b[0m\u001b[1;33m(\u001b[0m\u001b[0mself\u001b[0m\u001b[1;33m,\u001b[0m \u001b[0mby\u001b[0m\u001b[1;33m=\u001b[0m\u001b[0mBy\u001b[0m\u001b[1;33m.\u001b[0m\u001b[0mID\u001b[0m\u001b[1;33m,\u001b[0m \u001b[0mvalue\u001b[0m\u001b[1;33m=\u001b[0m\u001b[1;32mNone\u001b[0m\u001b[1;33m)\u001b[0m\u001b[1;33m:\u001b[0m\u001b[1;33m\u001b[0m\u001b[1;33m\u001b[0m\u001b[0m\n",
      "\u001b[1;32m~\\AppData\\Local\\Continuum\\anaconda3\\lib\\site-packages\\selenium\\webdriver\\remote\\webdriver.py\u001b[0m in \u001b[0;36mexecute\u001b[1;34m(self, driver_command, params)\u001b[0m\n\u001b[0;32m    319\u001b[0m         \u001b[0mresponse\u001b[0m \u001b[1;33m=\u001b[0m \u001b[0mself\u001b[0m\u001b[1;33m.\u001b[0m\u001b[0mcommand_executor\u001b[0m\u001b[1;33m.\u001b[0m\u001b[0mexecute\u001b[0m\u001b[1;33m(\u001b[0m\u001b[0mdriver_command\u001b[0m\u001b[1;33m,\u001b[0m \u001b[0mparams\u001b[0m\u001b[1;33m)\u001b[0m\u001b[1;33m\u001b[0m\u001b[1;33m\u001b[0m\u001b[0m\n\u001b[0;32m    320\u001b[0m         \u001b[1;32mif\u001b[0m \u001b[0mresponse\u001b[0m\u001b[1;33m:\u001b[0m\u001b[1;33m\u001b[0m\u001b[1;33m\u001b[0m\u001b[0m\n\u001b[1;32m--> 321\u001b[1;33m             \u001b[0mself\u001b[0m\u001b[1;33m.\u001b[0m\u001b[0merror_handler\u001b[0m\u001b[1;33m.\u001b[0m\u001b[0mcheck_response\u001b[0m\u001b[1;33m(\u001b[0m\u001b[0mresponse\u001b[0m\u001b[1;33m)\u001b[0m\u001b[1;33m\u001b[0m\u001b[1;33m\u001b[0m\u001b[0m\n\u001b[0m\u001b[0;32m    322\u001b[0m             response['value'] = self._unwrap_value(\n\u001b[0;32m    323\u001b[0m                 response.get('value', None))\n",
      "\u001b[1;32m~\\AppData\\Local\\Continuum\\anaconda3\\lib\\site-packages\\selenium\\webdriver\\remote\\errorhandler.py\u001b[0m in \u001b[0;36mcheck_response\u001b[1;34m(self, response)\u001b[0m\n\u001b[0;32m    240\u001b[0m                 \u001b[0malert_text\u001b[0m \u001b[1;33m=\u001b[0m \u001b[0mvalue\u001b[0m\u001b[1;33m[\u001b[0m\u001b[1;34m'alert'\u001b[0m\u001b[1;33m]\u001b[0m\u001b[1;33m.\u001b[0m\u001b[0mget\u001b[0m\u001b[1;33m(\u001b[0m\u001b[1;34m'text'\u001b[0m\u001b[1;33m)\u001b[0m\u001b[1;33m\u001b[0m\u001b[1;33m\u001b[0m\u001b[0m\n\u001b[0;32m    241\u001b[0m             \u001b[1;32mraise\u001b[0m \u001b[0mexception_class\u001b[0m\u001b[1;33m(\u001b[0m\u001b[0mmessage\u001b[0m\u001b[1;33m,\u001b[0m \u001b[0mscreen\u001b[0m\u001b[1;33m,\u001b[0m \u001b[0mstacktrace\u001b[0m\u001b[1;33m,\u001b[0m \u001b[0malert_text\u001b[0m\u001b[1;33m)\u001b[0m\u001b[1;33m\u001b[0m\u001b[1;33m\u001b[0m\u001b[0m\n\u001b[1;32m--> 242\u001b[1;33m         \u001b[1;32mraise\u001b[0m \u001b[0mexception_class\u001b[0m\u001b[1;33m(\u001b[0m\u001b[0mmessage\u001b[0m\u001b[1;33m,\u001b[0m \u001b[0mscreen\u001b[0m\u001b[1;33m,\u001b[0m \u001b[0mstacktrace\u001b[0m\u001b[1;33m)\u001b[0m\u001b[1;33m\u001b[0m\u001b[1;33m\u001b[0m\u001b[0m\n\u001b[0m\u001b[0;32m    243\u001b[0m \u001b[1;33m\u001b[0m\u001b[0m\n\u001b[0;32m    244\u001b[0m     \u001b[1;32mdef\u001b[0m \u001b[0m_value_or_default\u001b[0m\u001b[1;33m(\u001b[0m\u001b[0mself\u001b[0m\u001b[1;33m,\u001b[0m \u001b[0mobj\u001b[0m\u001b[1;33m,\u001b[0m \u001b[0mkey\u001b[0m\u001b[1;33m,\u001b[0m \u001b[0mdefault\u001b[0m\u001b[1;33m)\u001b[0m\u001b[1;33m:\u001b[0m\u001b[1;33m\u001b[0m\u001b[1;33m\u001b[0m\u001b[0m\n",
      "\u001b[1;31mWebDriverException\u001b[0m: Message: chrome not reachable\n  (Session info: chrome=84.0.4147.135)\n"
     ]
    }
   ],
   "source": [
    "pdf_info = pd.DataFrame(columns=['dept', 'mun', 'zona', 'pto','n_format','format_names'])\n",
    "\n",
    "service.start()\n",
    "browser = webdriver.Remote(service.service_url)\n",
    "\n",
    "url = 'https://elecciones1.registraduria.gov.co/e14_pre1_2018/'\n",
    "\n",
    "browser.maximize_window()\n",
    "\n",
    "browser.get(url)\n",
    "\n",
    "html = browser.page_source\n",
    "\n",
    "pdf_info = main(html, ['60', '64', '68', '72', '88'])"
   ]
  },
  {
   "cell_type": "markdown",
   "metadata": {},
   "source": [
    "### DEBUG"
   ]
  },
  {
   "cell_type": "markdown",
   "metadata": {},
   "source": [
    "### How to find a single link (the loops and functions generalize this) "
   ]
  },
  {
   "cell_type": "code",
   "execution_count": 9,
   "metadata": {},
   "outputs": [],
   "source": [
    "sleep_time = 1"
   ]
  },
  {
   "cell_type": "code",
   "execution_count": 24,
   "metadata": {},
   "outputs": [],
   "source": [
    "service = Service('C:\\Program Files (x86)\\Google\\Chrome\\Application\\chromedriver.exe')\n",
    "service.start()\n",
    "browser = webdriver.Remote(service.service_url)\n",
    "\n",
    "url = 'https://elecciones1.registraduria.gov.co/e14_pre1_2018/'\n",
    "\n",
    "browser.maximize_window()\n",
    "\n",
    "browser.get(url)\n",
    "\n",
    "html = browser.page_source\n",
    "soup = BeautifulSoup(html)\n",
    "\n",
    "dept_select = Select(browser.find_element_by_id('select_dep'))"
   ]
  },
  {
   "cell_type": "code",
   "execution_count": 25,
   "metadata": {},
   "outputs": [],
   "source": [
    "dept = '1'\n",
    "dept_select.select_by_value(dept)\n",
    "\n",
    "dept_html = browser.page_source\n",
    "dept_soup = BeautifulSoup(dept_html)\n",
    "\n",
    "time.sleep(sleep_time)\n",
    "\n",
    "dept_html = browser.page_source\n",
    "dept_soup = BeautifulSoup(dept_html)\n",
    "\n",
    "mun_option_list = str(dept_soup.find_all('div',{'class': 'form-group'})[0])\n",
    "mun_values = re.findall('<option.+?=\"([0-9]+)\">', mun_option_list)\n",
    "\n",
    "mun_select = Select(browser.find_element_by_id('mpio'))\n",
    "\n",
    "mun = '250'\n",
    "mun_select.select_by_value(mun) \n",
    "\n",
    "time.sleep(sleep_time)\n",
    "\n",
    "mun_html = browser.page_source\n",
    "mun_soup = BeautifulSoup(mun_html)\n",
    "\n",
    "zona_option_list = str(mun_soup.find_all('div',{'class': 'form-group'})[1])\n",
    "zona_values = re.findall('<option.+?=\"([0-9]+)\"', zona_option_list)\n",
    "\n",
    "zona_select = Select(browser.find_element_by_id('zona'))\n",
    "\n",
    "zona = '01'\n",
    "zona_select.select_by_value(zona)\n",
    "\n",
    "time.sleep(sleep_time)\n",
    "\n",
    "zona_html = browser.page_source\n",
    "zona_soup = BeautifulSoup(zona_html)\n",
    "\n",
    "pto_option_list = str(zona_soup.find_all('div',{'class': 'form-group'})[2])\n",
    "pto_values = re.findall('<option.+?=\"([0-9]+)\">', pto_option_list)\n",
    "\n",
    "pto_select = Select(browser.find_element_by_id('pto'))\n",
    "\n",
    "pto = pto_values[0]\n",
    "pto_select.select_by_value(pto)\n",
    "\n",
    "time.sleep(sleep_time)"
   ]
  },
  {
   "cell_type": "code",
   "execution_count": 26,
   "metadata": {},
   "outputs": [
    {
     "data": {
      "text/plain": [
       "['01', '02', '98', '99']"
      ]
     },
     "execution_count": 26,
     "metadata": {},
     "output_type": "execute_result"
    }
   ],
   "source": [
    "zona_values"
   ]
  },
  {
   "cell_type": "code",
   "execution_count": 28,
   "metadata": {},
   "outputs": [
    {
     "data": {
      "text/plain": [
       "['01', '02']"
      ]
     },
     "execution_count": 28,
     "metadata": {},
     "output_type": "execute_result"
    }
   ],
   "source": [
    "pto_values"
   ]
  },
  {
   "cell_type": "code",
   "execution_count": 17,
   "metadata": {},
   "outputs": [
    {
     "name": "stdout",
     "output_type": "stream",
     "text": [
      "A\n",
      "\n",
      "CV\n"
     ]
    }
   ],
   "source": [
    "print('A')\n",
    "print('\\nA\\rCV')"
   ]
  },
  {
   "cell_type": "code",
   "execution_count": 480,
   "metadata": {},
   "outputs": [],
   "source": [
    "mesa_html = browser.page_source\n",
    "mesa_soup = BeautifulSoup(mesa_html)\n",
    "\n",
    "mesa_list = mesa_soup.find_all('a', {'href':re.compile('https.*pdf')})\n",
    "\n",
    "pdf_links = re.findall('href=\"(https.+?pdf)\"', str(mesa_list))"
   ]
  },
  {
   "cell_type": "code",
   "execution_count": 482,
   "metadata": {},
   "outputs": [
    {
     "data": {
      "text/plain": [
       "'https://elecciones1.registraduria.gov.co/e14_pre1_2018//e14_divulgacion/28/100/000/PRE/5903613_E14_PRE_X_28_100_000_XX_00_011_X_XXX.pdf'"
      ]
     },
     "execution_count": 482,
     "metadata": {},
     "output_type": "execute_result"
    }
   ],
   "source": [
    "link = pdf_links[10]\n",
    "link"
   ]
  },
  {
   "cell_type": "markdown",
   "metadata": {},
   "source": [
    "### Scraping inside a single loop"
   ]
  },
  {
   "cell_type": "code",
   "execution_count": 3,
   "metadata": {},
   "outputs": [
    {
     "ename": "WebDriverException",
     "evalue": "Message: chrome not reachable\n  (Session info: chrome=84.0.4147.105)\n",
     "output_type": "error",
     "traceback": [
      "\u001b[1;31m---------------------------------------------------------------------------\u001b[0m",
      "\u001b[1;31mWebDriverException\u001b[0m                        Traceback (most recent call last)",
      "\u001b[1;32m<ipython-input-3-1ce0c6108a78>\u001b[0m in \u001b[0;36m<module>\u001b[1;34m\u001b[0m\n\u001b[0;32m     68\u001b[0m                 \u001b[0mtime\u001b[0m\u001b[1;33m.\u001b[0m\u001b[0msleep\u001b[0m\u001b[1;33m(\u001b[0m\u001b[0msleep_time\u001b[0m\u001b[1;33m)\u001b[0m\u001b[1;33m\u001b[0m\u001b[1;33m\u001b[0m\u001b[0m\n\u001b[0;32m     69\u001b[0m \u001b[1;33m\u001b[0m\u001b[0m\n\u001b[1;32m---> 70\u001b[1;33m                 \u001b[0mmesa_html\u001b[0m \u001b[1;33m=\u001b[0m \u001b[0mbrowser\u001b[0m\u001b[1;33m.\u001b[0m\u001b[0mpage_source\u001b[0m\u001b[1;33m\u001b[0m\u001b[1;33m\u001b[0m\u001b[0m\n\u001b[0m\u001b[0;32m     71\u001b[0m                 \u001b[0mmesa_soup\u001b[0m \u001b[1;33m=\u001b[0m \u001b[0mBeautifulSoup\u001b[0m\u001b[1;33m(\u001b[0m\u001b[0mmesa_html\u001b[0m\u001b[1;33m)\u001b[0m\u001b[1;33m\u001b[0m\u001b[1;33m\u001b[0m\u001b[0m\n\u001b[0;32m     72\u001b[0m \u001b[1;33m\u001b[0m\u001b[0m\n",
      "\u001b[1;32mD:\\anaconda3\\lib\\site-packages\\selenium\\webdriver\\remote\\webdriver.py\u001b[0m in \u001b[0;36mpage_source\u001b[1;34m(self)\u001b[0m\n\u001b[0;32m    677\u001b[0m             \u001b[0mdriver\u001b[0m\u001b[1;33m.\u001b[0m\u001b[0mpage_source\u001b[0m\u001b[1;33m\u001b[0m\u001b[1;33m\u001b[0m\u001b[0m\n\u001b[0;32m    678\u001b[0m         \"\"\"\n\u001b[1;32m--> 679\u001b[1;33m         \u001b[1;32mreturn\u001b[0m \u001b[0mself\u001b[0m\u001b[1;33m.\u001b[0m\u001b[0mexecute\u001b[0m\u001b[1;33m(\u001b[0m\u001b[0mCommand\u001b[0m\u001b[1;33m.\u001b[0m\u001b[0mGET_PAGE_SOURCE\u001b[0m\u001b[1;33m)\u001b[0m\u001b[1;33m[\u001b[0m\u001b[1;34m'value'\u001b[0m\u001b[1;33m]\u001b[0m\u001b[1;33m\u001b[0m\u001b[1;33m\u001b[0m\u001b[0m\n\u001b[0m\u001b[0;32m    680\u001b[0m \u001b[1;33m\u001b[0m\u001b[0m\n\u001b[0;32m    681\u001b[0m     \u001b[1;32mdef\u001b[0m \u001b[0mclose\u001b[0m\u001b[1;33m(\u001b[0m\u001b[0mself\u001b[0m\u001b[1;33m)\u001b[0m\u001b[1;33m:\u001b[0m\u001b[1;33m\u001b[0m\u001b[1;33m\u001b[0m\u001b[0m\n",
      "\u001b[1;32mD:\\anaconda3\\lib\\site-packages\\selenium\\webdriver\\remote\\webdriver.py\u001b[0m in \u001b[0;36mexecute\u001b[1;34m(self, driver_command, params)\u001b[0m\n\u001b[0;32m    319\u001b[0m         \u001b[0mresponse\u001b[0m \u001b[1;33m=\u001b[0m \u001b[0mself\u001b[0m\u001b[1;33m.\u001b[0m\u001b[0mcommand_executor\u001b[0m\u001b[1;33m.\u001b[0m\u001b[0mexecute\u001b[0m\u001b[1;33m(\u001b[0m\u001b[0mdriver_command\u001b[0m\u001b[1;33m,\u001b[0m \u001b[0mparams\u001b[0m\u001b[1;33m)\u001b[0m\u001b[1;33m\u001b[0m\u001b[1;33m\u001b[0m\u001b[0m\n\u001b[0;32m    320\u001b[0m         \u001b[1;32mif\u001b[0m \u001b[0mresponse\u001b[0m\u001b[1;33m:\u001b[0m\u001b[1;33m\u001b[0m\u001b[1;33m\u001b[0m\u001b[0m\n\u001b[1;32m--> 321\u001b[1;33m             \u001b[0mself\u001b[0m\u001b[1;33m.\u001b[0m\u001b[0merror_handler\u001b[0m\u001b[1;33m.\u001b[0m\u001b[0mcheck_response\u001b[0m\u001b[1;33m(\u001b[0m\u001b[0mresponse\u001b[0m\u001b[1;33m)\u001b[0m\u001b[1;33m\u001b[0m\u001b[1;33m\u001b[0m\u001b[0m\n\u001b[0m\u001b[0;32m    322\u001b[0m             response['value'] = self._unwrap_value(\n\u001b[0;32m    323\u001b[0m                 response.get('value', None))\n",
      "\u001b[1;32mD:\\anaconda3\\lib\\site-packages\\selenium\\webdriver\\remote\\errorhandler.py\u001b[0m in \u001b[0;36mcheck_response\u001b[1;34m(self, response)\u001b[0m\n\u001b[0;32m    240\u001b[0m                 \u001b[0malert_text\u001b[0m \u001b[1;33m=\u001b[0m \u001b[0mvalue\u001b[0m\u001b[1;33m[\u001b[0m\u001b[1;34m'alert'\u001b[0m\u001b[1;33m]\u001b[0m\u001b[1;33m.\u001b[0m\u001b[0mget\u001b[0m\u001b[1;33m(\u001b[0m\u001b[1;34m'text'\u001b[0m\u001b[1;33m)\u001b[0m\u001b[1;33m\u001b[0m\u001b[1;33m\u001b[0m\u001b[0m\n\u001b[0;32m    241\u001b[0m             \u001b[1;32mraise\u001b[0m \u001b[0mexception_class\u001b[0m\u001b[1;33m(\u001b[0m\u001b[0mmessage\u001b[0m\u001b[1;33m,\u001b[0m \u001b[0mscreen\u001b[0m\u001b[1;33m,\u001b[0m \u001b[0mstacktrace\u001b[0m\u001b[1;33m,\u001b[0m \u001b[0malert_text\u001b[0m\u001b[1;33m)\u001b[0m\u001b[1;33m\u001b[0m\u001b[1;33m\u001b[0m\u001b[0m\n\u001b[1;32m--> 242\u001b[1;33m         \u001b[1;32mraise\u001b[0m \u001b[0mexception_class\u001b[0m\u001b[1;33m(\u001b[0m\u001b[0mmessage\u001b[0m\u001b[1;33m,\u001b[0m \u001b[0mscreen\u001b[0m\u001b[1;33m,\u001b[0m \u001b[0mstacktrace\u001b[0m\u001b[1;33m)\u001b[0m\u001b[1;33m\u001b[0m\u001b[1;33m\u001b[0m\u001b[0m\n\u001b[0m\u001b[0;32m    243\u001b[0m \u001b[1;33m\u001b[0m\u001b[0m\n\u001b[0;32m    244\u001b[0m     \u001b[1;32mdef\u001b[0m \u001b[0m_value_or_default\u001b[0m\u001b[1;33m(\u001b[0m\u001b[0mself\u001b[0m\u001b[1;33m,\u001b[0m \u001b[0mobj\u001b[0m\u001b[1;33m,\u001b[0m \u001b[0mkey\u001b[0m\u001b[1;33m,\u001b[0m \u001b[0mdefault\u001b[0m\u001b[1;33m)\u001b[0m\u001b[1;33m:\u001b[0m\u001b[1;33m\u001b[0m\u001b[1;33m\u001b[0m\u001b[0m\n",
      "\u001b[1;31mWebDriverException\u001b[0m: Message: chrome not reachable\n  (Session info: chrome=84.0.4147.105)\n"
     ]
    }
   ],
   "source": [
    "sleep_time = abs(random.normalvariate(2,0.3))\n",
    "\n",
    "service = Service('C:\\Program Files (x86)\\Google\\Chrome\\Application\\chromedriver.exe')\n",
    "service.start()\n",
    "browser = webdriver.Remote(service.service_url)\n",
    "\n",
    "url = 'https://elecciones1.registraduria.gov.co/e14_pre1_2018/'\n",
    "\n",
    "browser.maximize_window()\n",
    "\n",
    "browser.get(url)\n",
    "\n",
    "html = browser.page_source\n",
    "soup = BeautifulSoup(html)\n",
    "\n",
    "option_list = soup.find_all('option',{'value': re.compile('[0-9]+')})\n",
    "option_value = re.findall('\"([0-9]+)\"',str(option_list))\n",
    "\n",
    "first_value = [i for i,x in enumerate(option_value) if (x == '1') | (x == '01')]\n",
    "\n",
    "dept_list = option_list[first_value[0]:first_value[1]]\n",
    "dept_values = re.findall('<option value=\"(\\d+)\"', str(dept_list))\n",
    "\n",
    "dept_select = Select(browser.find_element_by_id('select_dep'))\n",
    "\n",
    "for i_d,dept in enumerate(dept_values):\n",
    "    dept_select.select_by_value(dept)\n",
    "    \n",
    "    time.sleep(sleep_time)\n",
    "\n",
    "    dept_html = browser.page_source\n",
    "    dept_soup = BeautifulSoup(dept_html)\n",
    "\n",
    "    mun_option_list = str(dept_soup.find_all('div',{'class': 'form-group'})[0])\n",
    "    mun_values = re.findall('<option.+=\"([0-9]+)\">', mun_option_list)\n",
    "\n",
    "    mun_select = Select(browser.find_element_by_id('mpio'))\n",
    "    \n",
    "    for i_m,mun in enumerate(mun_values):\n",
    "        mun_select.select_by_value(mun) \n",
    "        \n",
    "        time.sleep(sleep_time)\n",
    "\n",
    "        mun_html = browser.page_source\n",
    "        mun_soup = BeautifulSoup(mun_html)\n",
    "        \n",
    "        zona_option_list = str(mun_soup.find_all('div',{'class': 'form-group'})[1])\n",
    "        zona_values = re.findall('<option value=\"([0-9]+)\">', zona_option_list)\n",
    "        \n",
    "        zona_select = Select(browser.find_element_by_id('zona'))\n",
    "        \n",
    "        for i_z,zona in enumerate(zona_values):\n",
    "            zona_select.select_by_value(zona)\n",
    "            \n",
    "            time.sleep(sleep_time)\n",
    "            \n",
    "            zona_html = browser.page_source\n",
    "            zona_soup = BeautifulSoup(zona_html)\n",
    "\n",
    "            pto_option_list = str(zona_soup.find_all('div',{'class': 'form-group'})[2])\n",
    "            pto_values = re.findall('<option value=\"([0-9]+)\">', pto_option_list)\n",
    "            \n",
    "            pto_select = Select(browser.find_element_by_id('pto'))\n",
    "            \n",
    "            for i_p,pto in enumerate(pto_values):\n",
    "                pto_select.select_by_value(pto)\n",
    "                \n",
    "                time.sleep(sleep_time)\n",
    "                \n",
    "                mesa_html = browser.page_source\n",
    "                mesa_soup = BeautifulSoup(mesa_html)\n",
    "\n",
    "                mesa_list = mesa_soup.find_all('a', {'href':re.compile('https.*pdf')})\n",
    "\n",
    "                pdf_links = re.findall('href=\"(https.+?pdf)\"', str(mesa_list))\n",
    "                \n",
    "                for i_l,link in enumerate(pdf_links):\n",
    "                    file_name = link.split('/')[-1]\n",
    "                    \n",
    "                    pdf_name = f'{pdf_dir}{file_name}'\n",
    "                    \n",
    "                    #urllib.request.urlretrieve(link,pdf_name)"
   ]
  },
  {
   "cell_type": "code",
   "execution_count": 29,
   "metadata": {},
   "outputs": [
    {
     "ename": "NoSuchElementException",
     "evalue": "Message: Cannot locate option with value: 1\n",
     "output_type": "error",
     "traceback": [
      "\u001b[1;31m---------------------------------------------------------------------------\u001b[0m",
      "\u001b[1;31mNoSuchElementException\u001b[0m                    Traceback (most recent call last)",
      "\u001b[1;32m<ipython-input-29-7ccfac3f3eaa>\u001b[0m in \u001b[0;36m<module>\u001b[1;34m\u001b[0m\n\u001b[0;32m     21\u001b[0m \u001b[1;32mfor\u001b[0m \u001b[0mi_d\u001b[0m\u001b[1;33m,\u001b[0m\u001b[0mdept\u001b[0m \u001b[1;32min\u001b[0m \u001b[0menumerate\u001b[0m\u001b[1;33m(\u001b[0m\u001b[0mdept_list\u001b[0m\u001b[1;33m)\u001b[0m\u001b[1;33m:\u001b[0m\u001b[1;33m\u001b[0m\u001b[1;33m\u001b[0m\u001b[0m\n\u001b[0;32m     22\u001b[0m \u001b[1;33m\u001b[0m\u001b[0m\n\u001b[1;32m---> 23\u001b[1;33m     \u001b[0mmun_select\u001b[0m\u001b[1;33m,\u001b[0m \u001b[0mmun_values\u001b[0m \u001b[1;33m=\u001b[0m \u001b[0mfind_select\u001b[0m\u001b[1;33m(\u001b[0m\u001b[0mdept_select\u001b[0m\u001b[1;33m,\u001b[0m \u001b[0mdept\u001b[0m\u001b[1;33m,\u001b[0m \u001b[1;36m0\u001b[0m\u001b[1;33m)\u001b[0m\u001b[1;33m\u001b[0m\u001b[1;33m\u001b[0m\u001b[0m\n\u001b[0m\u001b[0;32m     24\u001b[0m \u001b[1;33m\u001b[0m\u001b[0m\n\u001b[0;32m     25\u001b[0m     \u001b[1;31m# Choose municipality\u001b[0m\u001b[1;33m\u001b[0m\u001b[1;33m\u001b[0m\u001b[1;33m\u001b[0m\u001b[0m\n",
      "\u001b[1;32m<ipython-input-27-372ce6708016>\u001b[0m in \u001b[0;36mfind_select\u001b[1;34m(select, value, index, sleep_time_mu, sleep_time_de)\u001b[0m\n\u001b[0;32m      5\u001b[0m \u001b[1;33m\u001b[0m\u001b[0m\n\u001b[0;32m      6\u001b[0m     \u001b[1;31m# Find the given value inside the given select\u001b[0m\u001b[1;33m\u001b[0m\u001b[1;33m\u001b[0m\u001b[1;33m\u001b[0m\u001b[0m\n\u001b[1;32m----> 7\u001b[1;33m     \u001b[0mselect\u001b[0m\u001b[1;33m.\u001b[0m\u001b[0mselect_by_value\u001b[0m\u001b[1;33m(\u001b[0m\u001b[0mvalue\u001b[0m\u001b[1;33m)\u001b[0m\u001b[1;33m\u001b[0m\u001b[1;33m\u001b[0m\u001b[0m\n\u001b[0m\u001b[0;32m      8\u001b[0m \u001b[1;33m\u001b[0m\u001b[0m\n\u001b[0;32m      9\u001b[0m     \u001b[1;31m# Time to wait between searchas\u001b[0m\u001b[1;33m\u001b[0m\u001b[1;33m\u001b[0m\u001b[1;33m\u001b[0m\u001b[0m\n",
      "\u001b[1;32mD:\\anaconda3\\lib\\site-packages\\selenium\\webdriver\\support\\select.py\u001b[0m in \u001b[0;36mselect_by_value\u001b[1;34m(self, value)\u001b[0m\n\u001b[0;32m     85\u001b[0m             \u001b[0mmatched\u001b[0m \u001b[1;33m=\u001b[0m \u001b[1;32mTrue\u001b[0m\u001b[1;33m\u001b[0m\u001b[1;33m\u001b[0m\u001b[0m\n\u001b[0;32m     86\u001b[0m         \u001b[1;32mif\u001b[0m \u001b[1;32mnot\u001b[0m \u001b[0mmatched\u001b[0m\u001b[1;33m:\u001b[0m\u001b[1;33m\u001b[0m\u001b[1;33m\u001b[0m\u001b[0m\n\u001b[1;32m---> 87\u001b[1;33m             \u001b[1;32mraise\u001b[0m \u001b[0mNoSuchElementException\u001b[0m\u001b[1;33m(\u001b[0m\u001b[1;34m\"Cannot locate option with value: %s\"\u001b[0m \u001b[1;33m%\u001b[0m \u001b[0mvalue\u001b[0m\u001b[1;33m)\u001b[0m\u001b[1;33m\u001b[0m\u001b[1;33m\u001b[0m\u001b[0m\n\u001b[0m\u001b[0;32m     88\u001b[0m \u001b[1;33m\u001b[0m\u001b[0m\n\u001b[0;32m     89\u001b[0m     \u001b[1;32mdef\u001b[0m \u001b[0mselect_by_index\u001b[0m\u001b[1;33m(\u001b[0m\u001b[0mself\u001b[0m\u001b[1;33m,\u001b[0m \u001b[0mindex\u001b[0m\u001b[1;33m)\u001b[0m\u001b[1;33m:\u001b[0m\u001b[1;33m\u001b[0m\u001b[1;33m\u001b[0m\u001b[0m\n",
      "\u001b[1;31mNoSuchElementException\u001b[0m: Message: Cannot locate option with value: 1\n"
     ]
    }
   ],
   "source": [
    "dept_list = ['1']\n",
    "\n",
    "pdf_info = pd.DataFrame(columns=['dept', 'mun', 'zona', 'pto','n_format','format_names'])\n",
    "\n",
    "service = Service('C:\\Program Files (x86)\\Google\\Chrome\\Application\\chromedriver.exe')\n",
    "service.start()\n",
    "browser = webdriver.Remote(service.service_url)\n",
    "\n",
    "url = 'https://elecciones1.registraduria.gov.co/e14_pre1_2018/'\n",
    "\n",
    "browser.maximize_window()\n",
    "\n",
    "browser.get(url)\n",
    "\n",
    "html = browser.page_source\n",
    "soup = BeautifulSoup(html)\n",
    "\n",
    "dept_select = Select(browser.find_element_by_id('select_dep'))\n",
    "\n",
    "# Choose department\n",
    "for i_d,dept in enumerate(dept_list):\n",
    "\n",
    "    mun_select, mun_values = find_select(dept_select, dept, 0)\n",
    "\n",
    "    # Choose municipality\n",
    "    for i_d,mun in enumerate(mun_values):\n",
    "\n",
    "        zona_select, zona_values = find_select(mun_select, mun, 1)\n",
    "\n",
    "        # Choose zona\n",
    "        for i_z,zona in enumerate(zona_values):\n",
    "            pto_select, pto_values = find_select(zona_select, zona, 2)\n",
    "\n",
    "            # Choose puesto and get pdf links from each voting table\n",
    "            pto = pto_values[0]\n",
    "            pdf_list = find_select(pto_select, pto, 3)\n",
    "\n",
    "            # Download the pdfs\n",
    "            for i,link in enumerate(pdf_list):\n",
    "                file_name = link.split('/')[-1]\n",
    "\n",
    "                pdf_name = f'{pdf_dir}{file_name}'\n",
    "\n",
    "                urllib.request.urlretrieve(link,pdf_name)\n",
    "\n",
    "            # Put information inside the dataframe\n",
    "            n_format = len(pdf_list)\n",
    "            format_names = ';'.join([x.split('/')[-1].split('_')[0] for i,x in enumerate(pdf_list)])\n",
    "            pdf_info = pdf_info.append({'dept': dept, 'mun': mun, \n",
    "                                        'zona': zona , 'pto': pto, \n",
    "                                        'n_format': n_format, \n",
    "                                        'format_names': format_names},\n",
    "                                       ignore_index=True)\n",
    "\n",
    "        # Save the dataframe each municipality\n",
    "        pdf_info.to_csv(f'{data_frame_dir}','info_formatos.csv')\n"
   ]
  },
  {
   "cell_type": "code",
   "execution_count": 12,
   "metadata": {},
   "outputs": [],
   "source": [
    "service = Service('C:\\Program Files (x86)\\Google\\Chrome\\Application\\chromedriver.exe')\n",
    "service.start()\n",
    "browser = webdriver.Remote(service.service_url)\n",
    "\n",
    "url = 'https://elecciones1.registraduria.gov.co/e14_pre1_2018/'\n",
    "\n",
    "browser.maximize_window()\n",
    "\n",
    "browser.get(url)\n",
    "\n",
    "html = browser.page_source\n",
    "soup = BeautifulSoup(html)\n",
    "\n",
    "pdf_info = pd.DataFrame(columns=['dept', 'mun', 'zona', 'pto','n_format','format_names'])\n",
    "\n",
    "\n",
    "dept_select = Select(browser.find_element_by_id('select_dep'))\n",
    "\n",
    "# Choose department\n",
    "dept = '1'\n",
    "\n",
    "mun_select, mun_values = find_select(dept_select, dept, 0)\n",
    "\n",
    "# Choose municipality\n",
    "mun = mun_values[20]\n",
    "\n",
    "zona_select, zona_values = find_select(mun_select, mun, 1)\n",
    "\n",
    "# Choose zona\n",
    "zona = zona_values[0] \n",
    "\n",
    "pto_select, pto_values = find_select(zona_select, zona, 2)\n",
    "\n",
    "# Choose puesto and get pdf links from each voting table\n",
    "pto = pto_values[0]\n",
    "pdf_list = find_select(pto_select, pto, 3)\n",
    "\n",
    "# Download the pdfs\n",
    "for i,link in enumerate(pdf_list):\n",
    "    file_name = link.split('/')[-1]\n",
    "\n",
    "    pdf_name = f'{pdf_dir}{file_name}'\n",
    "\n",
    "    urllib.request.urlretrieve(link,pdf_name)\n",
    "    \n",
    "n_format = len(pdf_list)\n",
    "format_names = '-'.join([x.split('/')[-1].split('_')[0] for i,x in enumerate(pdf_list)])\n",
    "pdf_info = pdf_info.append({'dept': dept, 'mun': mun, \n",
    "                            'zona': zona , 'pto': pto, \n",
    "                            'n_format': n_format, \n",
    "                            'format_names': format_names},\n",
    "                           ignore_index=True)"
   ]
  },
  {
   "cell_type": "code",
   "execution_count": 13,
   "metadata": {},
   "outputs": [
    {
     "data": {
      "text/plain": [
       "['https://elecciones1.registraduria.gov.co/e14_pre1_2018//e14_divulgacion/01/055/000/PRE/8280914_E14_PRE_X_01_055_000_XX_00_001_X_XXX.pdf',\n",
       " 'https://elecciones1.registraduria.gov.co/e14_pre1_2018//e14_divulgacion/01/055/000/PRE/2092115_E14_PRE_X_01_055_000_XX_00_002_X_XXX.pdf',\n",
       " 'https://elecciones1.registraduria.gov.co/e14_pre1_2018//e14_divulgacion/01/055/000/PRE/4818516_E14_PRE_X_01_055_000_XX_00_003_X_XXX.pdf',\n",
       " 'https://elecciones1.registraduria.gov.co/e14_pre1_2018//e14_divulgacion/01/055/000/PRE/6213411_E14_PRE_X_01_055_000_XX_00_004_X_XXX.pdf',\n",
       " 'https://elecciones1.registraduria.gov.co/e14_pre1_2018//e14_divulgacion/01/055/000/PRE/6048718_E14_PRE_X_01_055_000_XX_00_005_X_XXX.pdf',\n",
       " 'https://elecciones1.registraduria.gov.co/e14_pre1_2018//e14_divulgacion/01/055/000/PRE/8875015_E14_PRE_X_01_055_000_XX_00_006_X_XXX.pdf',\n",
       " 'https://elecciones1.registraduria.gov.co/e14_pre1_2018//e14_divulgacion/01/055/000/PRE/3222116_E14_PRE_X_01_055_000_XX_00_007_X_XXX.pdf',\n",
       " 'https://elecciones1.registraduria.gov.co/e14_pre1_2018//e14_divulgacion/01/055/000/PRE/8428416_E14_PRE_X_01_055_000_XX_00_008_X_XXX.pdf',\n",
       " 'https://elecciones1.registraduria.gov.co/e14_pre1_2018//e14_divulgacion/01/055/000/PRE/6176319_E14_PRE_X_01_055_000_XX_00_009_X_XXX.pdf',\n",
       " 'https://elecciones1.registraduria.gov.co/e14_pre1_2018//e14_divulgacion/01/055/000/PRE/6859618_E14_PRE_X_01_055_000_XX_00_010_X_XXX.pdf',\n",
       " 'https://elecciones1.registraduria.gov.co/e14_pre1_2018//e14_divulgacion/01/055/000/PRE/6565317_E14_PRE_X_01_055_000_XX_00_011_X_XXX.pdf',\n",
       " 'https://elecciones1.registraduria.gov.co/e14_pre1_2018//e14_divulgacion/01/055/000/PRE/5656319_E14_PRE_X_01_055_000_XX_00_012_X_XXX.pdf',\n",
       " 'https://elecciones1.registraduria.gov.co/e14_pre1_2018//e14_divulgacion/01/055/000/PRE/7084214_E14_PRE_X_01_055_000_XX_00_013_X_XXX.pdf',\n",
       " 'https://elecciones1.registraduria.gov.co/e14_pre1_2018//e14_divulgacion/01/055/000/PRE/2729910_E14_PRE_X_01_055_000_XX_00_014_X_XXX.pdf',\n",
       " 'https://elecciones1.registraduria.gov.co/e14_pre1_2018//e14_divulgacion/01/055/000/PRE/6585215_E14_PRE_X_01_055_000_XX_00_015_X_XXX.pdf',\n",
       " 'https://elecciones1.registraduria.gov.co/e14_pre1_2018//e14_divulgacion/01/055/000/PRE/2629311_E14_PRE_X_01_055_000_XX_00_016_X_XXX.pdf',\n",
       " 'https://elecciones1.registraduria.gov.co/e14_pre1_2018//e14_divulgacion/01/055/000/PRE/2843913_E14_PRE_X_01_055_000_XX_00_017_X_XXX.pdf',\n",
       " 'https://elecciones1.registraduria.gov.co/e14_pre1_2018//e14_divulgacion/01/055/000/PRE/7986915_E14_PRE_X_01_055_000_XX_00_018_X_XXX.pdf',\n",
       " 'https://elecciones1.registraduria.gov.co/e14_pre1_2018//e14_divulgacion/01/055/000/PRE/6311218_E14_PRE_X_01_055_000_XX_00_019_X_XXX.pdf',\n",
       " 'https://elecciones1.registraduria.gov.co/e14_pre1_2018//e14_divulgacion/01/055/000/PRE/4166715_E14_PRE_X_01_055_000_XX_00_020_X_XXX.pdf',\n",
       " 'https://elecciones1.registraduria.gov.co/e14_pre1_2018//e14_divulgacion/01/055/000/PRE/4270411_E14_PRE_X_01_055_000_XX_00_021_X_XXX.pdf',\n",
       " 'https://elecciones1.registraduria.gov.co/e14_pre1_2018//e14_divulgacion/01/055/000/PRE/6638911_E14_PRE_X_01_055_000_XX_00_022_X_XXX.pdf',\n",
       " 'https://elecciones1.registraduria.gov.co/e14_pre1_2018//e14_divulgacion/01/055/000/PRE/2134319_E14_PRE_X_01_055_000_XX_00_023_X_XXX.pdf',\n",
       " 'https://elecciones1.registraduria.gov.co/e14_pre1_2018//e14_divulgacion/01/055/000/PRE/7386214_E14_PRE_X_01_055_000_XX_00_024_X_XXX.pdf',\n",
       " 'https://elecciones1.registraduria.gov.co/e14_pre1_2018//e14_divulgacion/01/055/000/PRE/8569118_E14_PRE_X_01_055_000_XX_00_025_X_XXX.pdf']"
      ]
     },
     "execution_count": 13,
     "metadata": {},
     "output_type": "execute_result"
    }
   ],
   "source": [
    "pdf_list"
   ]
  }
 ],
 "metadata": {
  "kernelspec": {
   "display_name": "Python 3",
   "language": "python",
   "name": "python3"
  },
  "language_info": {
   "codemirror_mode": {
    "name": "ipython",
    "version": 3
   },
   "file_extension": ".py",
   "mimetype": "text/x-python",
   "name": "python",
   "nbconvert_exporter": "python",
   "pygments_lexer": "ipython3",
   "version": "3.8.3"
  }
 },
 "nbformat": 4,
 "nbformat_minor": 4
}
