{
 "cells": [
  {
   "cell_type": "code",
   "execution_count": 1,
   "metadata": {},
   "outputs": [],
   "source": [
    "# Para instalar las librerías, solo tiene que ser una vez\n",
    "if False :\n",
    "    !pip install PyMuPDF\n",
    "    !pip install Pillow\n",
    "    !pip install opencv-python"
   ]
  },
  {
   "cell_type": "code",
   "execution_count": 1,
   "metadata": {},
   "outputs": [],
   "source": [
    "import os\n",
    "import numpy as np\n",
    "import pandas as pd\n",
    "import re\n",
    "from matplotlib import pyplot as plt\n",
    "import fitz # From PyMuPDF\n",
    "from PIL import Image\n",
    "import cv2\n",
    "# import argparse\n",
    "# import imutils\n",
    "import sys"
   ]
  },
  {
   "cell_type": "code",
   "execution_count": 2,
   "metadata": {},
   "outputs": [],
   "source": [
    "def progressBar(value, endvalue, msg='', bar_length=40):\n",
    "    percent = float(value) / endvalue\n",
    "    arrow = '-' * int(round(percent * bar_length)-1) + '>'\n",
    "    spaces = ' ' * (bar_length - len(arrow))\n",
    "\n",
    "    sys.stdout.write(f\"\\rProgreso: [{arrow + spaces}] {int(round(percent * 100))}% ({value} de {endvalue} municipios) ({msg} formatos)\")\n",
    "    sys.stdout.flush()"
   ]
  },
  {
   "cell_type": "code",
   "execution_count": 3,
   "metadata": {},
   "outputs": [],
   "source": [
    "def pdf_to_png(pdf_name, pdf_dir, png_dir, debug=False):\n",
    "    # Erase \".pdf\" in case it is in the name\n",
    "    pdf_name = pdf_name.replace('.pdf','')\n",
    "    \n",
    "    # Open the pdf\n",
    "    doc = fitz.open(f'{pdf_dir}{pdf_name}.pdf')\n",
    "    page = doc[0]\n",
    "    \n",
    "    # Transform the page into an image\n",
    "    img = doc.getPageImageList(0)[0]\n",
    "    xref = img[0]\n",
    "    pix = fitz.Pixmap(doc, xref)\n",
    "    \n",
    "    # Create the png name\n",
    "    png_name = f'{png_dir}{pdf_name}.png'\n",
    "    \n",
    "    # Saves the pdf as a png image\n",
    "    if pix.n < 5:       # this is GRAY or RGB\n",
    "        pix.writePNG(png_name)\n",
    "    else:               # CMYK: convert to RGB first\n",
    "        pix1 = fitz.Pixmap(fitz.csRGB, pix)\n",
    "        pix1.writePNG(png_name)\n",
    "        pix1 = None\n",
    "    pix = None\n",
    "    \n",
    "    if debug:\n",
    "        print(f'Image {png_name} was saved')\n",
    "    \n",
    "    return png_name"
   ]
  },
  {
   "cell_type": "code",
   "execution_count": 4,
   "metadata": {},
   "outputs": [],
   "source": [
    "def find_bounding_box(img):\n",
    "    # Transform the morphplogy of the image to end up with only the darker parts\n",
    "    se = np.ones((7,7), dtype='uint8')\n",
    "    morph = cv2.morphologyEx(img, cv2.MORPH_CLOSE, se)\n",
    "\n",
    "    # Transform to gray\n",
    "    gray = cv2.cvtColor(morph, cv2.COLOR_BGR2GRAY)\n",
    "\n",
    "    # Apply threshold\n",
    "    thresh = cv2.threshold(gray, 30, 255, cv2.THRESH_BINARY)[1]\n",
    "\n",
    "    # Find contours\n",
    "    contours = cv2.findContours(thresh, cv2.RETR_TREE, cv2.CHAIN_APPROX_SIMPLE)\n",
    "    contours = contours[0] if len(contours) == 2 else contours[1]\n",
    "    \n",
    "    # Define the general size of the squares we are looking for\n",
    "    rect_size = 32*26\n",
    "    buffer = 200\n",
    "\n",
    "    # Calculate area of the contours and keep only those between the range desired\n",
    "    area = [cv2.contourArea(c) for c in contours]\n",
    "\n",
    "    # Find the position of the chosen contours in the contour list\n",
    "    area_pos = [i for i, x in enumerate(area) if (rect_size + buffer) > x > (rect_size - buffer)]\n",
    "\n",
    "    # Width and height of the image\n",
    "    height, width = img.shape[:2]\n",
    "    \n",
    "    # Save coordinates of the whole box we want\n",
    "    x0 = width\n",
    "    x1 = 0\n",
    "    y0 = height\n",
    "    y1 = 0\n",
    "    \n",
    "    center = (width/2, height/2)\n",
    "    \n",
    "    # Empty list to save our squares\n",
    "    rect_list = []\n",
    "\n",
    "    # Find which of the contours of correct size are closer to the shape we want\n",
    "    for i,pos in enumerate(area_pos):\n",
    "        cont = contours[pos]\n",
    "\n",
    "        # Find the polynomial aproximation of the contours in order to \n",
    "        # find which resemble more a rectangle of the size we want\n",
    "        approx = cv2.approxPolyDP(cont,0.025*cv2.arcLength(cont,True),True)\n",
    "\n",
    "        # If there are 4 elements in approx, it is a rectangle or square\n",
    "        if len(approx) == 4:\n",
    "            (x, y, w, h) = cv2.boundingRect(approx)\n",
    "\n",
    "            if (1.45 > w/h > 1.01) & (2000 > y > 400):\n",
    "\n",
    "                rect_list += [(x, y, w, h)]\n",
    "\n",
    "                # We save the highest and lowest value of the (x,y) coordinates each\n",
    "                # iteration so we know the overall bounding box of the table.\n",
    "                x0 = min(x, x0)\n",
    "                x1 = max(x + w, x1)\n",
    "\n",
    "                y0 = min(y, y0)\n",
    "                y1 = max(y + h, y1)\n",
    "\n",
    "                # Before this we saved the top left corner of the bottom right square\n",
    "                # so we need to go to the lower right corner of this square to have\n",
    "                # the correct area.\n",
    "                if (x == x1) & (y == y1):\n",
    "                    x1 = x + w\n",
    "                    y1 = y + h         \n",
    "\n",
    "                # Find the triangle corners to calculate the rotation angle \n",
    "                cx, cy = ((x + w/2),(y + h/2))\n",
    "                \n",
    "                if (cx < center[0]) & (cy < center[1]):\n",
    "                    cor_1 = (x,y)\n",
    "                    cen_1 = (cx,cy)\n",
    "                elif (cx > center[0]) & (cy < center[1]):\n",
    "                    cor_2 = (x,y)\n",
    "                    cen_2 = (cx,cy)\n",
    "                elif (cx > center[0]) & (cy > center[1]):\n",
    "                    cor_3 = (x,y)\n",
    "                    cen_3 = (cx,cy)\n",
    "                elif (cx < center[0]) & (cy > center[1]):\n",
    "                    cor_4 = (x,y)\n",
    "                    cen_4 = (cx,cy)\n",
    "    \n",
    "    if (not \"cor_1\" in locals()) & (len(rect_list) == 3):\n",
    "        cor_1 = (cor_4[0], cor_2[1])\n",
    "        cen_1 = (cen_4[0], cen_2[1])\n",
    "    if (not \"cor_2\" in locals()) & (len(rect_list) == 3):\n",
    "        cor_2 = (cor_3[0], cor_1[1])\n",
    "        cen_2 = (cen_3[0], cen_1[1])\n",
    "    if (not \"cor_4\" in locals()) & (len(rect_list) == 3):\n",
    "        cor_2 = (cor_1[0], cor_3[1])\n",
    "        cen_2 = (cen_1[0], cen_3[1])\n",
    "\n",
    "    if len(rect_list) in [3,4]:\n",
    "        corner_1 = cor_1\n",
    "\n",
    "        if cen_1[1] <= cen_2[1]:    \n",
    "            corner_2 = cor_2\n",
    "        else:\n",
    "            corner_2 = cor_4\n",
    "\n",
    "        return corner_1, corner_2, rect_list\n",
    "    else:\n",
    "        return 'Error', len(rect_list)"
   ]
  },
  {
   "cell_type": "code",
   "execution_count": 5,
   "metadata": {},
   "outputs": [],
   "source": [
    "def rotate_format(img, corner_1, corner_2):\n",
    "    # Width and height of the image\n",
    "    height, width = img.shape[:2]\n",
    "    \n",
    "    # Find the angle to rotate the image\n",
    "    np.seterr('ignore')\n",
    "    # Calculate sides a and b of the trinangle\n",
    "    a = abs(corner_1[1] - corner_2[1])\n",
    "    b = abs(corner_2[0] - corner_1[0])\n",
    "    # Calculate the hipotenuse\n",
    "    c = np.sqrt(a**2 + b**2)\n",
    "    # Calculate the angles of the triangle. They give the rotation angle\n",
    "    A = np.degrees(np.arcsin(a/c))\n",
    "    B = np.degrees(np.arcsin(b/c))\n",
    "    \n",
    "    # If the triangle is wider than it is tall, the rotation must be clockwise\n",
    "    # if it is taller than it is wide, the rotation must be counterclockwise\n",
    "    if (a - b) < 0 :\n",
    "        angle = min(A,30)\n",
    "    else:\n",
    "        angle = -min(B,30)\n",
    "\n",
    "    img_center = tuple(np.array([width, height]) / 2)\n",
    "    rot_mat = cv2.getRotationMatrix2D(img_center, angle, 1.0)\n",
    "\n",
    "    # rotation calculates the cos and sin, taking absolutes of those.\n",
    "    abs_cos = abs(rot_mat[0,0]) \n",
    "    abs_sin = abs(rot_mat[0,1])\n",
    "\n",
    "    # find the new width and height bounds\n",
    "    bound_w = int(height * abs_sin + width * abs_cos)\n",
    "    bound_h = int(height * abs_cos + width * abs_sin)\n",
    "\n",
    "    # subtract old image center (bringing image back to origo) and adding the new image center coordinates\n",
    "    rot_mat[0, 2] += bound_w/2 - img_center[0]\n",
    "    rot_mat[1, 2] += bound_h/2 - img_center[1]\n",
    "\n",
    "    # rotate image with the new bounds and translated rotation matrix\n",
    "\n",
    "    rot_img = cv2.warpAffine(img, rot_mat,  (bound_w, bound_h), flags=cv2.INTER_LINEAR)\n",
    "    \n",
    "    return rot_img, rot_mat"
   ]
  },
  {
   "cell_type": "code",
   "execution_count": 6,
   "metadata": {},
   "outputs": [],
   "source": [
    "def crop_rotated_img(img, rot_mat, rect_list):\n",
    "    # Save coordinates of the whole box we want\n",
    "    nheight, nwidth = img.shape[:2]\n",
    "    \n",
    "    nx0 = nwidth\n",
    "    nx1 = 0\n",
    "    ny0 = nheight\n",
    "    ny1 = 0\n",
    "\n",
    "    for i,x in enumerate(rect_list):\n",
    "        x_y_array = np.array(x[:2] + (1,))\n",
    "        trans_x_y = rot_mat.dot(x_y_array)\n",
    "\n",
    "        nx, ny, nw, nh = (int(np.round(trans_x_y[0])),\n",
    "                          int(np.round(trans_x_y[1])),\n",
    "                          x[2], x[3])\n",
    "        # We save the highest and lowest value of the (x,y) coordinates each\n",
    "        # iteration so we know the overall bounding box of the table.\n",
    "        nx0 = min(nx, nx0)\n",
    "        nx1 = max(nx + nw, nx1)\n",
    "\n",
    "        ny0 = min(ny, ny0)\n",
    "        ny1 = max(ny + nh, ny1)\n",
    "\n",
    "        # Before this we saved the top left corner of the bottom right square\n",
    "        # so we need to go to the lower right corner of this square to have\n",
    "        # the correct area.\n",
    "        if (nx == nx1) & (ny == ny1):\n",
    "            nx1 = nx + nw\n",
    "            ny1 = ny + nh\n",
    "        \n",
    "    crop_rot_img = img[ny0:ny1,nx0:nx1]\n",
    "    \n",
    "    return crop_rot_img"
   ]
  },
  {
   "cell_type": "code",
   "execution_count": 7,
   "metadata": {},
   "outputs": [],
   "source": [
    "def main(dept, png_dir = 'formularios_e_14/pdf_crop/'):\n",
    "\n",
    "    dept_dir = f'formularios_e_14/{dept}/'\n",
    "    \n",
    "    aspect_df = pd.DataFrame(columns=['file','width','height','aspect', 'n_rect', 'fail'])\n",
    "    \n",
    "    mun_dirs = os.listdir(dept_dir)\n",
    "    \n",
    "    cont = 0\n",
    "    print(f'\\nDept: {dept}')\n",
    "    for i_m,mun in enumerate(mun_dirs):\n",
    "        \n",
    "        mun_dir = f'{dept_dir}/{mun}/'\n",
    "        zona_dirs = os.listdir(mun_dir)\n",
    "        \n",
    "        #print(f'\\nDept: {dept} - Mun: {mun} ({(i_m+1)}/{len(mun_dirs)} mun)')\n",
    "        \n",
    "        for i_z,zona in enumerate(zona_dirs):\n",
    "            \n",
    "            zona_dir = f'{mun_dir}/{zona}/'\n",
    "            pdf_list = os.listdir(zona_dir)\n",
    "            \n",
    "            for i,x in enumerate(pdf_list):\n",
    "                \n",
    "                cont += 1\n",
    "                progressBar((i_m+1), len(mun_dirs), cont)\n",
    "                # Read the pdf and turn it into a png image\n",
    "                png_name = pdf_to_png(x, zona_dir, png_dir)\n",
    "\n",
    "                # Read the format as a png\n",
    "                img = cv2.imread(png_name)\n",
    "\n",
    "                # When the aspect ratio stops being 0.6, we will have \n",
    "                bounding_box = find_bounding_box(img)\n",
    "                \n",
    "                fail = 0\n",
    "                if bounding_box[0] == 'Error':\n",
    "                    fail = 1\n",
    "                    aspect_df = aspect_df.append({'file': x, 'n_rect': bounding_box[1], \n",
    "                                                  'fail': fail},\n",
    "                                                 ignore_index=True)\n",
    "                    os.remove(png_name)\n",
    "                    cv2.imwrite(png_name.replace('/pdf_crop/','/failed/'), img)\n",
    "                else:\n",
    "                    corner_1, corner_2, rect_list = bounding_box\n",
    "\n",
    "                    rot_img, rot_mat = rotate_format(img, corner_1, corner_2)\n",
    "\n",
    "                    crop_rot_img = crop_rotated_img(rot_img, rot_mat, rect_list)\n",
    "\n",
    "                    height, width = crop_rot_img.shape[:2]\n",
    "                    aspect = width / height\n",
    "\n",
    "                    # With the aspect ratio of the image we know if we have the correct\n",
    "                    # piece of the images. The information table has on average an aspect\n",
    "                    # ratio of 0.6\n",
    "                    cv2.imwrite(png_name, crop_rot_img)\n",
    "                        \n",
    "                    aspect_df = aspect_df.append({'file': x, 'width': width, 'height': height,\n",
    "                                                  'aspect': aspect, 'n_rect': len(rect_list), \n",
    "                                                  'fail': fail},\n",
    "                                                 ignore_index=True)\n",
    "        \n",
    "        aspect_df.to_csv(f'formularios_e_14/aspect_{dept}.csv', index=False, sep=';')\n",
    "    \n",
    "    return aspect_df"
   ]
  },
  {
   "cell_type": "markdown",
   "metadata": {},
   "source": [
    "---"
   ]
  },
  {
   "cell_type": "markdown",
   "metadata": {},
   "source": [
    "### CORRER TODO"
   ]
  },
  {
   "cell_type": "code",
   "execution_count": 8,
   "metadata": {},
   "outputs": [],
   "source": [
    "#os.chdir(r'D:\\Dropbox\\Proyectos\\python\\formatos_elecciones')\n",
    "os.chdir(r'C:\\Users\\gd.orbegozo10\\Dropbox\\Cosas_Programacion\\Python\\python\\formatos_elecciones')"
   ]
  },
  {
   "cell_type": "code",
   "execution_count": 11,
   "metadata": {},
   "outputs": [
    {
     "name": "stdout",
     "output_type": "stream",
     "text": [
      "\n",
      "Dept: 88\n",
      "Progreso: [--------------------------->            ] 70% (48 de 69 municipios) (1645 formatos)"
     ]
    },
    {
     "ename": "UnboundLocalError",
     "evalue": "local variable 'cor_3' referenced before assignment",
     "output_type": "error",
     "traceback": [
      "\u001b[1;31m---------------------------------------------------------------------------\u001b[0m",
      "\u001b[1;31mUnboundLocalError\u001b[0m                         Traceback (most recent call last)",
      "\u001b[1;32m<ipython-input-11-aa479f41d49c>\u001b[0m in \u001b[0;36m<module>\u001b[1;34m\u001b[0m\n\u001b[0;32m      1\u001b[0m \u001b[0maspect_df\u001b[0m \u001b[1;33m=\u001b[0m \u001b[0mpd\u001b[0m\u001b[1;33m.\u001b[0m\u001b[0mDataFrame\u001b[0m\u001b[1;33m(\u001b[0m\u001b[0mcolumns\u001b[0m\u001b[1;33m=\u001b[0m\u001b[1;33m[\u001b[0m\u001b[1;34m'file'\u001b[0m\u001b[1;33m,\u001b[0m\u001b[1;34m'width'\u001b[0m\u001b[1;33m,\u001b[0m\u001b[1;34m'height'\u001b[0m\u001b[1;33m,\u001b[0m\u001b[1;34m'aspect'\u001b[0m\u001b[1;33m,\u001b[0m \u001b[1;34m'n_rect'\u001b[0m\u001b[1;33m,\u001b[0m \u001b[1;34m'fail'\u001b[0m\u001b[1;33m]\u001b[0m\u001b[1;33m)\u001b[0m\u001b[1;33m\u001b[0m\u001b[1;33m\u001b[0m\u001b[0m\n\u001b[0;32m      2\u001b[0m \u001b[1;32mfor\u001b[0m \u001b[0md\u001b[0m \u001b[1;32min\u001b[0m \u001b[1;33m[\u001b[0m\u001b[1;34m'88'\u001b[0m\u001b[1;33m]\u001b[0m\u001b[1;33m:\u001b[0m\u001b[1;33m\u001b[0m\u001b[1;33m\u001b[0m\u001b[0m\n\u001b[1;32m----> 3\u001b[1;33m     \u001b[0maspect_df_temp\u001b[0m \u001b[1;33m=\u001b[0m \u001b[0mmain\u001b[0m\u001b[1;33m(\u001b[0m\u001b[0mdept\u001b[0m\u001b[1;33m=\u001b[0m\u001b[0md\u001b[0m\u001b[1;33m)\u001b[0m\u001b[1;33m\u001b[0m\u001b[1;33m\u001b[0m\u001b[0m\n\u001b[0m\u001b[0;32m      4\u001b[0m     \u001b[0maspect_df\u001b[0m\u001b[1;33m.\u001b[0m\u001b[0mappend\u001b[0m\u001b[1;33m(\u001b[0m\u001b[0maspect_df\u001b[0m\u001b[1;33m)\u001b[0m\u001b[1;33m\u001b[0m\u001b[1;33m\u001b[0m\u001b[0m\n",
      "\u001b[1;32m<ipython-input-7-6129ca75da45>\u001b[0m in \u001b[0;36mmain\u001b[1;34m(dept, png_dir)\u001b[0m\n\u001b[0;32m     32\u001b[0m \u001b[1;33m\u001b[0m\u001b[0m\n\u001b[0;32m     33\u001b[0m                 \u001b[1;31m# When the aspect ratio stops being 0.6, we will have\u001b[0m\u001b[1;33m\u001b[0m\u001b[1;33m\u001b[0m\u001b[1;33m\u001b[0m\u001b[0m\n\u001b[1;32m---> 34\u001b[1;33m                 \u001b[0mbounding_box\u001b[0m \u001b[1;33m=\u001b[0m \u001b[0mfind_bounding_box\u001b[0m\u001b[1;33m(\u001b[0m\u001b[0mimg\u001b[0m\u001b[1;33m)\u001b[0m\u001b[1;33m\u001b[0m\u001b[1;33m\u001b[0m\u001b[0m\n\u001b[0m\u001b[0;32m     35\u001b[0m \u001b[1;33m\u001b[0m\u001b[0m\n\u001b[0;32m     36\u001b[0m                 \u001b[0mfail\u001b[0m \u001b[1;33m=\u001b[0m \u001b[1;36m0\u001b[0m\u001b[1;33m\u001b[0m\u001b[1;33m\u001b[0m\u001b[0m\n",
      "\u001b[1;32m<ipython-input-4-bb9e8c7d2440>\u001b[0m in \u001b[0;36mfind_bounding_box\u001b[1;34m(img)\u001b[0m\n\u001b[0;32m     92\u001b[0m         \u001b[0mcen_2\u001b[0m \u001b[1;33m=\u001b[0m \u001b[1;33m(\u001b[0m\u001b[0mcen_3\u001b[0m\u001b[1;33m[\u001b[0m\u001b[1;36m0\u001b[0m\u001b[1;33m]\u001b[0m\u001b[1;33m,\u001b[0m \u001b[0mcen_1\u001b[0m\u001b[1;33m[\u001b[0m\u001b[1;36m1\u001b[0m\u001b[1;33m]\u001b[0m\u001b[1;33m)\u001b[0m\u001b[1;33m\u001b[0m\u001b[1;33m\u001b[0m\u001b[0m\n\u001b[0;32m     93\u001b[0m     \u001b[1;32mif\u001b[0m \u001b[1;33m(\u001b[0m\u001b[1;32mnot\u001b[0m \u001b[1;34m\"cor_4\"\u001b[0m \u001b[1;32min\u001b[0m \u001b[0mlocals\u001b[0m\u001b[1;33m(\u001b[0m\u001b[1;33m)\u001b[0m\u001b[1;33m)\u001b[0m \u001b[1;33m&\u001b[0m \u001b[1;33m(\u001b[0m\u001b[0mlen\u001b[0m\u001b[1;33m(\u001b[0m\u001b[0mrect_list\u001b[0m\u001b[1;33m)\u001b[0m \u001b[1;33m==\u001b[0m \u001b[1;36m3\u001b[0m\u001b[1;33m)\u001b[0m\u001b[1;33m:\u001b[0m\u001b[1;33m\u001b[0m\u001b[1;33m\u001b[0m\u001b[0m\n\u001b[1;32m---> 94\u001b[1;33m         \u001b[0mcor_2\u001b[0m \u001b[1;33m=\u001b[0m \u001b[1;33m(\u001b[0m\u001b[0mcor_1\u001b[0m\u001b[1;33m[\u001b[0m\u001b[1;36m0\u001b[0m\u001b[1;33m]\u001b[0m\u001b[1;33m,\u001b[0m \u001b[0mcor_3\u001b[0m\u001b[1;33m[\u001b[0m\u001b[1;36m1\u001b[0m\u001b[1;33m]\u001b[0m\u001b[1;33m)\u001b[0m\u001b[1;33m\u001b[0m\u001b[1;33m\u001b[0m\u001b[0m\n\u001b[0m\u001b[0;32m     95\u001b[0m         \u001b[0mcen_2\u001b[0m \u001b[1;33m=\u001b[0m \u001b[1;33m(\u001b[0m\u001b[0mcen_1\u001b[0m\u001b[1;33m[\u001b[0m\u001b[1;36m0\u001b[0m\u001b[1;33m]\u001b[0m\u001b[1;33m,\u001b[0m \u001b[0mcen_3\u001b[0m\u001b[1;33m[\u001b[0m\u001b[1;36m1\u001b[0m\u001b[1;33m]\u001b[0m\u001b[1;33m)\u001b[0m\u001b[1;33m\u001b[0m\u001b[1;33m\u001b[0m\u001b[0m\n\u001b[0;32m     96\u001b[0m \u001b[1;33m\u001b[0m\u001b[0m\n",
      "\u001b[1;31mUnboundLocalError\u001b[0m: local variable 'cor_3' referenced before assignment"
     ]
    }
   ],
   "source": [
    "aspect_df = pd.DataFrame(columns=['file','width','height','aspect', 'n_rect', 'fail'])\n",
    "for d in ['88']:\n",
    "    aspect_df_temp = main(dept=d)\n",
    "    aspect_df.append(aspect_df)"
   ]
  },
  {
   "cell_type": "code",
   "execution_count": 22,
   "metadata": {},
   "outputs": [
    {
     "data": {
      "text/html": [
       "<div>\n",
       "<style scoped>\n",
       "    .dataframe tbody tr th:only-of-type {\n",
       "        vertical-align: middle;\n",
       "    }\n",
       "\n",
       "    .dataframe tbody tr th {\n",
       "        vertical-align: top;\n",
       "    }\n",
       "\n",
       "    .dataframe thead th {\n",
       "        text-align: right;\n",
       "    }\n",
       "</style>\n",
       "<table border=\"1\" class=\"dataframe\">\n",
       "  <thead>\n",
       "    <tr style=\"text-align: right;\">\n",
       "      <th></th>\n",
       "      <th>file</th>\n",
       "      <th>width</th>\n",
       "      <th>height</th>\n",
       "      <th>aspect</th>\n",
       "      <th>n_rect</th>\n",
       "      <th>fail</th>\n",
       "    </tr>\n",
       "  </thead>\n",
       "  <tbody>\n",
       "    <tr>\n",
       "      <th>888</th>\n",
       "      <td>4193417_E14_PRE_X_05_001_010_XX_01_015_X_XXX.pdf</td>\n",
       "      <td>775</td>\n",
       "      <td>1153</td>\n",
       "      <td>0.672160</td>\n",
       "      <td>4</td>\n",
       "      <td>0</td>\n",
       "    </tr>\n",
       "    <tr>\n",
       "      <th>2987</th>\n",
       "      <td>8555813_E14_PRE_X_05_028_099_XX_25_005_X_XXX.pdf</td>\n",
       "      <td>776</td>\n",
       "      <td>1154</td>\n",
       "      <td>0.672444</td>\n",
       "      <td>4</td>\n",
       "      <td>0</td>\n",
       "    </tr>\n",
       "    <tr>\n",
       "      <th>2690</th>\n",
       "      <td>2800413_E14_PRE_X_05_026_099_XX_55_003_X_XXX.pdf</td>\n",
       "      <td>776</td>\n",
       "      <td>1154</td>\n",
       "      <td>0.672444</td>\n",
       "      <td>4</td>\n",
       "      <td>0</td>\n",
       "    </tr>\n",
       "    <tr>\n",
       "      <th>2930</th>\n",
       "      <td>4725212_E14_PRE_X_05_028_099_XX_25_002_X_XXX.pdf</td>\n",
       "      <td>776</td>\n",
       "      <td>1154</td>\n",
       "      <td>0.672444</td>\n",
       "      <td>4</td>\n",
       "      <td>0</td>\n",
       "    </tr>\n",
       "    <tr>\n",
       "      <th>2693</th>\n",
       "      <td>3023215_E14_PRE_X_05_026_099_XX_32_006_X_XXX.pdf</td>\n",
       "      <td>776</td>\n",
       "      <td>1154</td>\n",
       "      <td>0.672444</td>\n",
       "      <td>4</td>\n",
       "      <td>0</td>\n",
       "    </tr>\n",
       "    <tr>\n",
       "      <th>...</th>\n",
       "      <td>...</td>\n",
       "      <td>...</td>\n",
       "      <td>...</td>\n",
       "      <td>...</td>\n",
       "      <td>...</td>\n",
       "      <td>...</td>\n",
       "    </tr>\n",
       "    <tr>\n",
       "      <th>2053</th>\n",
       "      <td>2068613_E14_PRE_X_05_113_099_XX_33_002_X_XXX.pdf</td>\n",
       "      <td>780</td>\n",
       "      <td>1127</td>\n",
       "      <td>0.692103</td>\n",
       "      <td>4</td>\n",
       "      <td>0</td>\n",
       "    </tr>\n",
       "    <tr>\n",
       "      <th>2062</th>\n",
       "      <td>4188018_E14_PRE_X_05_113_099_XX_65_003_X_XXX.pdf</td>\n",
       "      <td>781</td>\n",
       "      <td>1127</td>\n",
       "      <td>0.692990</td>\n",
       "      <td>4</td>\n",
       "      <td>0</td>\n",
       "    </tr>\n",
       "    <tr>\n",
       "      <th>2067</th>\n",
       "      <td>5611017_E14_PRE_X_05_113_099_XX_21_001_X_XXX.pdf</td>\n",
       "      <td>781</td>\n",
       "      <td>1127</td>\n",
       "      <td>0.692990</td>\n",
       "      <td>4</td>\n",
       "      <td>0</td>\n",
       "    </tr>\n",
       "    <tr>\n",
       "      <th>2060</th>\n",
       "      <td>3385016_E14_PRE_X_05_113_099_XX_42_001_X_XXX.pdf</td>\n",
       "      <td>780</td>\n",
       "      <td>1125</td>\n",
       "      <td>0.693333</td>\n",
       "      <td>4</td>\n",
       "      <td>0</td>\n",
       "    </tr>\n",
       "    <tr>\n",
       "      <th>2468</th>\n",
       "      <td>8128613_E14_PRE_X_05_016_099_XX_09_005_X_XXX.pdf</td>\n",
       "      <td>836</td>\n",
       "      <td>1186</td>\n",
       "      <td>0.704890</td>\n",
       "      <td>4</td>\n",
       "      <td>0</td>\n",
       "    </tr>\n",
       "  </tbody>\n",
       "</table>\n",
       "<p>4224 rows × 6 columns</p>\n",
       "</div>"
      ],
      "text/plain": [
       "                                                  file width height    aspect  \\\n",
       "888   4193417_E14_PRE_X_05_001_010_XX_01_015_X_XXX.pdf   775   1153  0.672160   \n",
       "2987  8555813_E14_PRE_X_05_028_099_XX_25_005_X_XXX.pdf   776   1154  0.672444   \n",
       "2690  2800413_E14_PRE_X_05_026_099_XX_55_003_X_XXX.pdf   776   1154  0.672444   \n",
       "2930  4725212_E14_PRE_X_05_028_099_XX_25_002_X_XXX.pdf   776   1154  0.672444   \n",
       "2693  3023215_E14_PRE_X_05_026_099_XX_32_006_X_XXX.pdf   776   1154  0.672444   \n",
       "...                                                ...   ...    ...       ...   \n",
       "2053  2068613_E14_PRE_X_05_113_099_XX_33_002_X_XXX.pdf   780   1127  0.692103   \n",
       "2062  4188018_E14_PRE_X_05_113_099_XX_65_003_X_XXX.pdf   781   1127  0.692990   \n",
       "2067  5611017_E14_PRE_X_05_113_099_XX_21_001_X_XXX.pdf   781   1127  0.692990   \n",
       "2060  3385016_E14_PRE_X_05_113_099_XX_42_001_X_XXX.pdf   780   1125  0.693333   \n",
       "2468  8128613_E14_PRE_X_05_016_099_XX_09_005_X_XXX.pdf   836   1186  0.704890   \n",
       "\n",
       "     n_rect fail  \n",
       "888       4    0  \n",
       "2987      4    0  \n",
       "2690      4    0  \n",
       "2930      4    0  \n",
       "2693      4    0  \n",
       "...     ...  ...  \n",
       "2053      4    0  \n",
       "2062      4    0  \n",
       "2067      4    0  \n",
       "2060      4    0  \n",
       "2468      4    0  \n",
       "\n",
       "[4224 rows x 6 columns]"
      ]
     },
     "execution_count": 22,
     "metadata": {},
     "output_type": "execute_result"
    }
   ],
   "source": [
    "aspect_df_temp[aspect_df_temp.fail == 0].sort_values('aspect')"
   ]
  },
  {
   "cell_type": "code",
   "execution_count": 17,
   "metadata": {},
   "outputs": [
    {
     "data": {
      "image/png": "[encoded data removed]",
      "text/plain": [
       "<Figure size 432x288 with 1 Axes>"
      ]
     },
     "metadata": {
      "needs_background": "light"
     },
     "output_type": "display_data"
    }
   ],
   "source": [
    "plt.hist(aspect_df_temp.aspect)\n",
    "plt.show()"
   ]
  },
  {
   "cell_type": "code",
   "execution_count": 18,
   "metadata": {},
   "outputs": [
    {
     "data": {
      "image/png": "[encoded data removed]",
      "text/plain": [
       "<Figure size 432x288 with 1 Axes>"
      ]
     },
     "metadata": {
      "needs_background": "light"
     },
     "output_type": "display_data"
    }
   ],
   "source": [
    "plt.hist(aspect_df_temp.height)\n",
    "plt.show()"
   ]
  },
  {
   "cell_type": "code",
   "execution_count": 20,
   "metadata": {},
   "outputs": [
    {
     "data": {
      "image/png": "[encoded data removed]",
      "text/plain": [
       "<Figure size 432x288 with 1 Axes>"
      ]
     },
     "metadata": {
      "needs_background": "light"
     },
     "output_type": "display_data"
    }
   ],
   "source": [
    "plt.hist(aspect_df_temp.width)\n",
    "plt.show()"
   ]
  },
  {
   "cell_type": "markdown",
   "metadata": {},
   "source": [
    "---"
   ]
  },
  {
   "cell_type": "code",
   "execution_count": 74,
   "metadata": {},
   "outputs": [
    {
     "data": {
      "text/plain": [
       "True"
      ]
     },
     "execution_count": 74,
     "metadata": {},
     "output_type": "execute_result"
    }
   ],
   "source": [
    "dep = '17'\n",
    "mun = '35'\n",
    "zona = '00'\n",
    "x = '5713111_E14_PRE_X_17_035_000_XX_00_001_X_XXX'\n",
    "#6399510_E14_PRE_X_28_160_000_XX_00_026_X_XXX\n",
    "\n",
    "pdf_dir = f'formularios_e_14/{dep}/{mun}/{zona}/'\n",
    "\n",
    "png_name = pdf_to_png(x, pdf_dir, 'test/')\n",
    "\n",
    "# Read the format as a png\n",
    "img = cv2.imread(png_name)\n",
    "\n",
    "# When the aspect ratio stops being 0.6, we will have \n",
    "bounding_box = find_bounding_box(img)\n",
    "\n",
    "fail = 0\n",
    "if bounding_box[0] == 'Error':\n",
    "    fail = 1\n",
    "    aspect_df = aspect_df.append({'file': x, 'n_rect': bounding_box[1], \n",
    "                                  'fail': fail},\n",
    "                                 ignore_index=True)\n",
    "    os.remove(png_name)\n",
    "    cv2.imwrite(png_name.replace('/png/','/failed/'), img)\n",
    "else:\n",
    "    corner_1, corner_2, rect_list = bounding_box\n",
    "\n",
    "    rot_img, rot_mat = rotate_format(img, corner_1, corner_2)\n",
    "\n",
    "    crop_rot_img = crop_rotated_img(rot_img, rot_mat, rect_list)\n",
    "\n",
    "    height, width = crop_rot_img.shape[:2]\n",
    "    aspect = width / height\n",
    "\n",
    "# With the aspect ratio of the image we know if we have the correct\n",
    "# piece of the images. The information table has on average an aspect\n",
    "# ratio of 0.6\n",
    "cv2.imwrite(png_name, crop_rot_img)\n"
   ]
  },
  {
   "cell_type": "code",
   "execution_count": 75,
   "metadata": {},
   "outputs": [
    {
     "data": {
      "text/plain": [
       "(1140, 778)"
      ]
     },
     "execution_count": 75,
     "metadata": {},
     "output_type": "execute_result"
    }
   ],
   "source": [
    "h,w = crop_rot_img.shape[:2]\n",
    "h,w"
   ]
  },
  {
   "cell_type": "code",
   "execution_count": 107,
   "metadata": {},
   "outputs": [
    {
     "name": "stdout",
     "output_type": "stream",
     "text": [
      "[(0, 0), (0, 777), (1139, 0), (1139, 777)]\n"
     ]
    }
   ],
   "source": [
    "corners = [(0,0), (0,w-1), (h-1,0), (h-1,w-1)]\n",
    "reduce_sign = [(1,1), (1,-1), (-1,1), (-1,-1)]\n",
    "print(corners)"
   ]
  },
  {
   "cell_type": "code",
   "execution_count": 108,
   "metadata": {},
   "outputs": [
    {
     "name": "stdout",
     "output_type": "stream",
     "text": [
      "[(0, 0), (0, 777), (1139, 0), (1139, 777)]\n",
      "[(1, 1), (1, 776), (1138, 1), (1138, 776)]\n",
      "[(1, 1), (2, 775), (1137, 2), (1137, 775)]\n",
      "[(1, 1), (2, 775), (1137, 2), (1136, 774)]\n"
     ]
    }
   ],
   "source": [
    "cut_corners = 1\n",
    "while (cut_corners > 0):\n",
    "    print(corners)\n",
    "    cut_corners = 0\n",
    "    for i,(y,x) in enumerate(corners) :\n",
    "        sy,sx = reduce_sign[i]\n",
    "        if crop_rot_img[y:y+1, x:x+1].mean() == 255 :\n",
    "            cut_corners += 1\n",
    "            corners[i] = (y+(1*sy),x+(1*sx))"
   ]
  },
  {
   "cell_type": "code",
   "execution_count": 119,
   "metadata": {},
   "outputs": [
    {
     "data": {
      "text/plain": [
       "(2, 1, 1136, 774)"
      ]
     },
     "execution_count": 119,
     "metadata": {},
     "output_type": "execute_result"
    }
   ],
   "source": [
    "y0,x0 = max([y for y,x in corners[:2]]), min([x for y,x in corners[:2]])\n",
    "y1,x1 = min([y for y,x in corners[2:]]), max([x for y,x in corners[2:]])\n",
    "(y0,x0,y1,x1)"
   ]
  },
  {
   "cell_type": "code",
   "execution_count": 113,
   "metadata": {},
   "outputs": [
    {
     "name": "stdout",
     "output_type": "stream",
     "text": [
      "[(1, 1), (2, 775), (1137, 2), (1136, 774)]\n"
     ]
    }
   ],
   "source": [
    "print(corners)"
   ]
  },
  {
   "cell_type": "code",
   "execution_count": 90,
   "metadata": {},
   "outputs": [
    {
     "data": {
      "text/plain": [
       "array([[[255, 255, 255]]], dtype=uint8)"
      ]
     },
     "execution_count": 90,
     "metadata": {},
     "output_type": "execute_result"
    }
   ],
   "source": [
    "crop_rot_img[1134:1135, 0:1]"
   ]
  },
  {
   "cell_type": "code",
   "execution_count": 86,
   "metadata": {},
   "outputs": [
    {
     "name": "stdout",
     "output_type": "stream",
     "text": [
      "(1135, 773, 3)\n"
     ]
    },
    {
     "data": {
      "text/plain": [
       "True"
      ]
     },
     "execution_count": 86,
     "metadata": {},
     "output_type": "execute_result"
    }
   ],
   "source": [
    "\n",
    "test_corners = crop_rot_img[y0:y1, x0:x1]\n",
    "\n",
    "print(test_corners.shape)\n",
    "\n",
    "cv2.imwrite('test/test_corners.png', test_corners)"
   ]
  },
  {
   "cell_type": "markdown",
   "metadata": {},
   "source": [
    "---"
   ]
  },
  {
   "cell_type": "code",
   "execution_count": null,
   "metadata": {},
   "outputs": [],
   "source": [
    "dept_values = ['1', '3', '5', '7', '9', '11', '12', '13', '15', '16', '17', '19', '21',\n",
    "               '23', '24', '25', '26', '27', '28', '29', '31', '40', '44', '46', '48',\n",
    "               '50', '52', '54', '56', '60', '64', '68', '72', '88']"
   ]
  },
  {
   "cell_type": "code",
   "execution_count": null,
   "metadata": {},
   "outputs": [],
   "source": [
    "png_dir = 'formularios_e_14/pdf_crop/'\n",
    "dirs_loc = [i for i,x in enumerate(os.listdir('formularios_e_14')) if x in dept_values]\n",
    "aspect_df = pd.DataFrame(columns=['file','width','height','aspect', 'n_rect', 'fail'])"
   ]
  },
  {
   "cell_type": "code",
   "execution_count": null,
   "metadata": {},
   "outputs": [],
   "source": [
    "cont = 0\n",
    "for i,pos in enumerate(dirs_loc):\n",
    "    \n",
    "    dept = os.listdir('formularios_e_14/')[pos]\n",
    "    \n",
    "    dept_dir = f'formularios_e_14/{dept}/'\n",
    "    \n",
    "    mun_dirs = os.listdir(dept_dir)\n",
    "    \n",
    "    for i_m,mun in enumerate(mun_dirs):\n",
    "        \n",
    "        mun_dir = f'{dept_dir}/{mun}/'\n",
    "        zona_dirs = os.listdir(mun_dir)\n",
    "        \n",
    "        print(f'\\nDept: {dept} - Mun: {mun} ({(i_m+1)}/{len(mun_dirs)} mun)')\n",
    "        \n",
    "        for i_z,zona in enumerate(zona_dirs):\n",
    "            \n",
    "            zona_dir = f'{mun_dir}/{zona}/'\n",
    "            pdf_list = os.listdir(zona_dir)\n",
    "            \n",
    "            for i,x in enumerate(pdf_list):\n",
    "                \n",
    "                cont += 1\n",
    "                progressBar((i_z+1), len(zona_dirs), cont)\n",
    "                # Read the pdf and turn it into a png image\n",
    "                png_name = pdf_to_png(x, zona_dir, png_dir)\n",
    "\n",
    "                # Read the format as a png\n",
    "                img = cv2.imread(png_name)\n",
    "\n",
    "                # When the aspect ratio stops being 0.6, we will have \n",
    "                bounding_box = find_bounding_box(img)\n",
    "                \n",
    "                fail = 0\n",
    "                if bounding_box[0] == 'Error':\n",
    "                    fail = 1\n",
    "                    aspect_df = aspect_df.append({'file': x, 'n_rect': bounding_box[1], \n",
    "                                                  'fail': fail},\n",
    "                                                 ignore_index=True)\n",
    "                    os.remove(png_name)\n",
    "                    cv2.imwrite(png_name.replace('/png/','/failed/'), img)\n",
    "                else:\n",
    "                    corner_1, corner_2, rect_list = bounding_box\n",
    "\n",
    "                    rot_img, rot_mat = rotate_format(img, corner_1, corner_2)\n",
    "\n",
    "                    crop_rot_img = crop_rotated_img(rot_img, rot_mat, rect_list)\n",
    "\n",
    "                    height, width = crop_rot_img.shape[:2]\n",
    "                    aspect = width / height\n",
    "\n",
    "                    # With the aspect ratio of the image we know if we have the correct\n",
    "                    # piece of the images. The information table has on average an aspect\n",
    "                    # ratio of 0.6\n",
    "                    cv2.imwrite(png_name, crop_rot_img)\n",
    "                        \n",
    "                    aspect_df = aspect_df.append({'file': x, 'width': width, 'height': height,\n",
    "                                                  'aspect': aspect, 'n_rect': len(rect_list), \n",
    "                                                  'fail': fail},\n",
    "                                                 ignore_index=True)"
   ]
  },
  {
   "cell_type": "code",
   "execution_count": null,
   "metadata": {},
   "outputs": [],
   "source": [
    "for i,x in enumerate(aspect_df[aspect_df.fail == 1].file):\n",
    "    os.remove(f'formularios_e_14/png/{x}'.replace('.pdf','.png'))"
   ]
  },
  {
   "cell_type": "code",
   "execution_count": null,
   "metadata": {},
   "outputs": [],
   "source": [
    "aspect_df[aspect_df.fail == 0].sort_values('aspect')"
   ]
  },
  {
   "cell_type": "code",
   "execution_count": null,
   "metadata": {},
   "outputs": [],
   "source": [
    "plt.hist(aspect_df.aspect)\n",
    "plt.show()"
   ]
  },
  {
   "cell_type": "code",
   "execution_count": null,
   "metadata": {},
   "outputs": [],
   "source": [
    "plt.hist(aspect_df.height)\n",
    "plt.show()"
   ]
  },
  {
   "cell_type": "code",
   "execution_count": null,
   "metadata": {},
   "outputs": [],
   "source": [
    "plt.hist(aspect_df.width)\n",
    "plt.show()"
   ]
  },
  {
   "cell_type": "code",
   "execution_count": null,
   "metadata": {},
   "outputs": [],
   "source": [
    "aspect_df[aspect_df.fail==1]"
   ]
  },
  {
   "cell_type": "code",
   "execution_count": null,
   "metadata": {},
   "outputs": [],
   "source": [
    "test = img\n",
    "\n",
    "# Transform the morphplogy of the image to end up with only the darker parts\n",
    "se = np.ones((7,7), dtype='uint8')\n",
    "morph = cv2.morphologyEx(img, cv2.MORPH_CLOSE, se)\n",
    "\n",
    "# Transform to gray\n",
    "gray = cv2.cvtColor(morph, cv2.COLOR_BGR2GRAY)\n",
    "\n",
    "# Apply threshold\n",
    "thresh = cv2.threshold(gray, 30, 255, cv2.THRESH_BINARY)[1]\n",
    "\n",
    "# Find contours\n",
    "contours = cv2.findContours(thresh, cv2.RETR_TREE, cv2.CHAIN_APPROX_SIMPLE)\n",
    "contours = contours[0] if len(contours) == 2 else contours[1]\n",
    "\n",
    "# Define the general size of the squares we are looking for\n",
    "rect_size = 32*26\n",
    "buffer = 200\n",
    "\n",
    "# Calculate area of the contours and keep only those between the range desired\n",
    "area = [cv2.contourArea(c) for c in contours]\n",
    "\n",
    "# Find the position of the chosen contours in the contour list\n",
    "area_pos = [i for i, x in enumerate(area) if (rect_size + buffer) > x > (rect_size - buffer)]\n",
    "\n",
    "# Width and height of the image\n",
    "height, width = img.shape[:2]\n",
    "\n",
    "# Save coordinates of the whole box we want\n",
    "x0 = width\n",
    "x1 = 0\n",
    "y0 = height\n",
    "y1 = 0\n",
    "\n",
    "center = (width/2, height/2)\n",
    "\n",
    "# Empty list to save our squares\n",
    "rect_list = []\n",
    "\n",
    "# Find which of the contours of correct size are closer to the shape we want\n",
    "for i,pos in enumerate(area_pos):\n",
    "    cont = contours[pos]\n",
    "\n",
    "    # Find the polynomial aproximation of the contours in order to \n",
    "    # find which resemble more a rectangle of the size we want\n",
    "    approx = cv2.approxPolyDP(cont,0.025*cv2.arcLength(cont,True),True)\n",
    "\n",
    "    # If there are 4 elements in approx, it is a rectangle or square\n",
    "    print(len(approx))\n",
    "    if len(approx) == 4:\n",
    "        (x, y, w, h) = cv2.boundingRect(approx)\n",
    "        print(w/h)\n",
    "\n",
    "        if (1.4 > w/h > 0.7) & (2000 > y > 400):\n",
    "\n",
    "            rect_list += [(x, y, w, h)]\n",
    "\n",
    "            # We save the highest and lowest value of the (x,y) coordinates each\n",
    "            # iteration so we know the overall bounding box of the table.\n",
    "            x0 = min(x, x0)\n",
    "            x1 = max(x + w, x1)\n",
    "\n",
    "            y0 = min(y, y0)\n",
    "            y1 = max(y + h, y1)\n",
    "\n",
    "            # Before this we saved the top left corner of the bottom right square\n",
    "            # so we need to go to the lower right corner of this square to have\n",
    "            # the correct area.\n",
    "            if (x == x1) & (y == y1):\n",
    "                x1 = x + w\n",
    "                y1 = y + h         \n",
    "\n",
    "            # Find the triangle corners to calculate the rotation angle \n",
    "            cx, cy = ((x + w/2),(y + h/2))\n",
    "\n",
    "            if (cx < center[0]) & (cy < center[1]):\n",
    "                cor_1 = (x,y)\n",
    "                cen_1 = (cx,cy)\n",
    "            elif (cx > center[0]) & (cy < center[1]):\n",
    "                cor_2 = (x,y)\n",
    "                cen_2 = (cx,cy)\n",
    "            elif (cx > center[0]) & (cy > center[1]):\n",
    "                cor_3 = (x,y)\n",
    "                cen_3 = (cx,cy)\n",
    "            elif (cx < center[0]) & (cy > center[1]):\n",
    "                cor_4 = (x,y)\n",
    "                cen_4 = (cx,cy)\n",
    "\n",
    "corner_1 = cor_1\n",
    "\n",
    "if cen_1[1] <= cen_2[1]:    \n",
    "    corner_2 = cor_2\n",
    "else:\n",
    "    corner_2 = cor_4\n"
   ]
  },
  {
   "cell_type": "markdown",
   "metadata": {},
   "source": [
    "---"
   ]
  },
  {
   "cell_type": "code",
   "execution_count": null,
   "metadata": {},
   "outputs": [],
   "source": [
    "os.chdir(r'D:\\Dropbox\\Proyectos\\python\\formatos_elecciones')\n",
    "pdf_dir = 'formularios_e_14/pdf_no_text/'\n",
    "png_dir = 'formularios_e_14/png_no_text/'\n",
    "pdf_list = [x for i,x in enumerate(os.listdir(pdf_dir)) if '.pdf' in x]\n",
    "aspect_df = pd.DataFrame(columns=['file','width','height','aspect', 'n_rect', 'fail'])"
   ]
  },
  {
   "cell_type": "code",
   "execution_count": null,
   "metadata": {},
   "outputs": [],
   "source": [
    "for i,x in enumerate(pdf_list):\n",
    "\n",
    "    # Read the pdf and turn it into a png image\n",
    "    png_name = pdf_to_png(x, pdf_dir, png_dir)\n",
    "    \n",
    "    # Read the format as a png\n",
    "    img = cv2.imread(png_name)\n",
    "\n",
    "    # When the aspect ratio stops being 0.6, we will have \n",
    "    corner_1, corner_2, rect_list = find_bounding_box(img)\n",
    "\n",
    "    rot_img, rot_mat = rotate_format(img, corner_1, corner_2)\n",
    "\n",
    "    crop_rot_img = crop_rotated_img(rot_img, rot_mat, rect_list)\n",
    "\n",
    "    height, width = crop_rot_img.shape[:2]\n",
    "    aspect = width / height\n",
    "\n",
    "    # With the aspect ratio of the image we know if we have the correct\n",
    "    # piece of the images. The information table has on average an aspect\n",
    "    # ratio of 0.6\n",
    "    fail = 0\n",
    "\n",
    "    if aspect < 0.6:\n",
    "        fail = 1\n",
    "        png_name_f = f'formularios_e_14/failed/{x.replace(\"pdf\",\"png\")}'\n",
    "        progressBar((i+1),len(pdf_list))    \n",
    "        cv2.imwrite(png_name_f, crop_rot_img)\n",
    "    else:\n",
    "        progressBar((i+1),len(pdf_list))    \n",
    "        cv2.imwrite(png_name, crop_rot_img)\n",
    "    \n",
    "    aspect_df = aspect_df.append({'file': x, 'width': width, 'height': height,\n",
    "                                    'aspect': aspect, 'n_rect': len(rect_list), 'fail': fail},\n",
    "                                   ignore_index=True)\n"
   ]
  },
  {
   "cell_type": "code",
   "execution_count": null,
   "metadata": {},
   "outputs": [],
   "source": [
    "plt.hist(aspect_df.height)\n",
    "plt.show()"
   ]
  },
  {
   "cell_type": "code",
   "execution_count": null,
   "metadata": {},
   "outputs": [],
   "source": [
    "plt.hist(aspect_df.width)\n",
    "plt.show()"
   ]
  },
  {
   "cell_type": "code",
   "execution_count": null,
   "metadata": {},
   "outputs": [],
   "source": [
    "plt.hist(aspect_df.aspect)\n",
    "plt.show()"
   ]
  },
  {
   "cell_type": "code",
   "execution_count": null,
   "metadata": {},
   "outputs": [],
   "source": [
    "aspect_df.sort_values('aspect')"
   ]
  },
  {
   "cell_type": "markdown",
   "metadata": {},
   "source": [
    "---"
   ]
  },
  {
   "cell_type": "code",
   "execution_count": null,
   "metadata": {},
   "outputs": [],
   "source": [
    "os.chdir(r'D:\\Dropbox\\Proyectos\\python\\formatos_elecciones')\n",
    "pdf_dir = 'formularios_e_14/pdf_no_text/'\n",
    "png_dir = 'formularios_e_14/png_no_text/'\n",
    "pdf_list = [x for i,x in enumerate(os.listdir(pdf_dir)) if '.pdf' in x]\n",
    "aspect_df = pd.DataFrame(columns=['file','width','height','aspect'])"
   ]
  },
  {
   "cell_type": "code",
   "execution_count": null,
   "metadata": {},
   "outputs": [],
   "source": [
    "for i,x in enumerate(['8780814_E14_PRE_X_28_001_005_XX_01_018_X_XXX.pdf']):\n",
    "    \n",
    "    # Read the pdf and turn it into a png image\n",
    "    png_name = pdf_to_png(x, pdf_dir, png_dir)\n",
    "    \n",
    "    # Read the format as a png\n",
    "    img = cv2.imread(png_name)\n",
    "    \n",
    "    # With the aspect ratio of the image we know if we have the correct\n",
    "    # piece of the images. The information table has on average an aspect\n",
    "    # ratio of 0.6\n",
    "\n",
    "    # When the aspect ratio stops being 0.6, we will have \n",
    "    corner_1, corner_2, rect_list = find_bounding_box(img)\n",
    "\n",
    "    rot_img, rot_mat = rotate_format(img, corner_1, corner_2)\n",
    "\n",
    "    crop_rot_img = crop_rotated_img(rot_img, rot_mat, rect_list)\n",
    "\n",
    "    height, width = crop_rot_img.shape[:2]\n",
    "    aspect = width / height\n",
    "\n",
    "    if aspect < 0.6:\n",
    "        raise Warning(x)\n",
    "\n",
    "    aspect_df = aspect_df.append({'file': x, 'width': width, 'height': height, \n",
    "                                  'aspect': aspect}, \n",
    "                                  ignore_index=True)\n",
    "\n",
    "    progressBar((i+1),len(pdf_list))    \n",
    "    cv2.imwrite(png_name, crop_rot_img)"
   ]
  },
  {
   "cell_type": "code",
   "execution_count": null,
   "metadata": {},
   "outputs": [],
   "source": [
    "rect_list"
   ]
  },
  {
   "cell_type": "code",
   "execution_count": null,
   "metadata": {},
   "outputs": [],
   "source": [
    "aspect_df.sort_values('aspect')"
   ]
  },
  {
   "cell_type": "markdown",
   "metadata": {},
   "source": [
    "---"
   ]
  },
  {
   "cell_type": "code",
   "execution_count": 13,
   "metadata": {},
   "outputs": [],
   "source": [
    "os.chdir(r'D:\\Dropbox\\Proyectos\\python\\formatos_elecciones')\n",
    "#os.chdir(r'C:\\Users\\gd.orbegozo10\\Dropbox\\Cosas_Programacion\\Python\\python\\formatos_elecciones')"
   ]
  },
  {
   "cell_type": "code",
   "execution_count": 34,
   "metadata": {},
   "outputs": [
    {
     "name": "stdout",
     "output_type": "stream",
     "text": [
      "\n",
      "Dept: 1\n",
      "Progreso: [>                                       ] 1% (1 de 125 municipios) (28 formatos)"
     ]
    },
    {
     "ename": "KeyboardInterrupt",
     "evalue": "",
     "output_type": "error",
     "traceback": [
      "\u001b[1;31m---------------------------------------------------------------------------\u001b[0m",
      "\u001b[1;31mKeyboardInterrupt\u001b[0m                         Traceback (most recent call last)",
      "\u001b[1;32m<ipython-input-34-1185939491c3>\u001b[0m in \u001b[0;36m<module>\u001b[1;34m\u001b[0m\n\u001b[0;32m      1\u001b[0m \u001b[0maspect_df\u001b[0m \u001b[1;33m=\u001b[0m \u001b[0mpd\u001b[0m\u001b[1;33m.\u001b[0m\u001b[0mDataFrame\u001b[0m\u001b[1;33m(\u001b[0m\u001b[0mcolumns\u001b[0m\u001b[1;33m=\u001b[0m\u001b[1;33m[\u001b[0m\u001b[1;34m'file'\u001b[0m\u001b[1;33m,\u001b[0m\u001b[1;34m'width'\u001b[0m\u001b[1;33m,\u001b[0m\u001b[1;34m'height'\u001b[0m\u001b[1;33m,\u001b[0m\u001b[1;34m'aspect'\u001b[0m\u001b[1;33m,\u001b[0m \u001b[1;34m'n_rect'\u001b[0m\u001b[1;33m,\u001b[0m \u001b[1;34m'fail'\u001b[0m\u001b[1;33m]\u001b[0m\u001b[1;33m)\u001b[0m\u001b[1;33m\u001b[0m\u001b[1;33m\u001b[0m\u001b[0m\n\u001b[0;32m      2\u001b[0m \u001b[1;32mfor\u001b[0m \u001b[0md\u001b[0m \u001b[1;32min\u001b[0m \u001b[1;33m[\u001b[0m\u001b[1;34m'1'\u001b[0m\u001b[1;33m]\u001b[0m\u001b[1;33m:\u001b[0m\u001b[1;33m\u001b[0m\u001b[1;33m\u001b[0m\u001b[0m\n\u001b[1;32m----> 3\u001b[1;33m     \u001b[0maspect_df_temp\u001b[0m \u001b[1;33m=\u001b[0m \u001b[0mmain\u001b[0m\u001b[1;33m(\u001b[0m\u001b[0mdept\u001b[0m\u001b[1;33m=\u001b[0m\u001b[0md\u001b[0m\u001b[1;33m)\u001b[0m\u001b[1;33m\u001b[0m\u001b[1;33m\u001b[0m\u001b[0m\n\u001b[0m\u001b[0;32m      4\u001b[0m     \u001b[0maspect_df\u001b[0m\u001b[1;33m.\u001b[0m\u001b[0mappend\u001b[0m\u001b[1;33m(\u001b[0m\u001b[0maspect_df\u001b[0m\u001b[1;33m)\u001b[0m\u001b[1;33m\u001b[0m\u001b[1;33m\u001b[0m\u001b[0m\n",
      "\u001b[1;32m<ipython-input-32-6129ca75da45>\u001b[0m in \u001b[0;36mmain\u001b[1;34m(dept, png_dir)\u001b[0m\n\u001b[0;32m     29\u001b[0m \u001b[1;33m\u001b[0m\u001b[0m\n\u001b[0;32m     30\u001b[0m                 \u001b[1;31m# Read the format as a png\u001b[0m\u001b[1;33m\u001b[0m\u001b[1;33m\u001b[0m\u001b[1;33m\u001b[0m\u001b[0m\n\u001b[1;32m---> 31\u001b[1;33m                 \u001b[0mimg\u001b[0m \u001b[1;33m=\u001b[0m \u001b[0mcv2\u001b[0m\u001b[1;33m.\u001b[0m\u001b[0mimread\u001b[0m\u001b[1;33m(\u001b[0m\u001b[0mpng_name\u001b[0m\u001b[1;33m)\u001b[0m\u001b[1;33m\u001b[0m\u001b[1;33m\u001b[0m\u001b[0m\n\u001b[0m\u001b[0;32m     32\u001b[0m \u001b[1;33m\u001b[0m\u001b[0m\n\u001b[0;32m     33\u001b[0m                 \u001b[1;31m# When the aspect ratio stops being 0.6, we will have\u001b[0m\u001b[1;33m\u001b[0m\u001b[1;33m\u001b[0m\u001b[1;33m\u001b[0m\u001b[0m\n",
      "\u001b[1;31mKeyboardInterrupt\u001b[0m: "
     ]
    }
   ],
   "source": [
    "aspect_df = pd.DataFrame(columns=['file','width','height','aspect', 'n_rect', 'fail'])\n",
    "for d in ['1']:\n",
    "    aspect_df_temp = main(dept=d)\n",
    "    aspect_df.append(aspect_df)"
   ]
  }
 ],
 "metadata": {
  "kernelspec": {
   "display_name": "Python 3",
   "language": "python",
   "name": "python3"
  },
  "language_info": {
   "codemirror_mode": {
    "name": "ipython",
    "version": 3
   },
   "file_extension": ".py",
   "mimetype": "text/x-python",
   "name": "python",
   "nbconvert_exporter": "python",
   "pygments_lexer": "ipython3",
   "version": "3.7.3"
  }
 },
 "nbformat": 4,
 "nbformat_minor": 4
}
